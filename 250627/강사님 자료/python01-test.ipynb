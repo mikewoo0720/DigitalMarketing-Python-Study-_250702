{
 "cells": [
  {
   "cell_type": "markdown",
   "id": "492dd490-6086-4521-8d8b-d06a6e504494",
   "metadata": {},
   "source": [
    "### 1.셀 화면에 \"Hello World\" 라는 문자열을 출력하세요."
   ]
  },
  {
   "cell_type": "code",
   "execution_count": 1,
   "id": "1e906e28-5314-4b39-bf07-78ea0b2bc285",
   "metadata": {},
   "outputs": [
    {
     "name": "stdout",
     "output_type": "stream",
     "text": [
      "Hello World\n"
     ]
    }
   ],
   "source": [
    "print(\"Hello World\")"
   ]
  },
  {
   "cell_type": "markdown",
   "id": "0661dacf-e74b-4b90-9a75-ed8bacf5dd63",
   "metadata": {},
   "source": [
    "### 2.부동소수값 3.1415의 값을 출력하세요. (*단, 소수점 첫번째 자리까지만 출력해주세요)"
   ]
  },
  {
   "cell_type": "code",
   "execution_count": 2,
   "id": "376a2b0e-5e29-42be-93fe-22cd537516ce",
   "metadata": {},
   "outputs": [
    {
     "name": "stdout",
     "output_type": "stream",
     "text": [
      "3.1\n"
     ]
    }
   ],
   "source": [
    "num = 3.1415\n",
    "\n",
    "print(format(num, \".1f\"))"
   ]
  },
  {
   "cell_type": "markdown",
   "id": "aafff46d-3e66-44d7-a425-6b256558f054",
   "metadata": {},
   "source": [
    "### 3.문자열 \"720\"을 정수형의 형태값으로 형변환 후 출력하세요."
   ]
  },
  {
   "cell_type": "code",
   "execution_count": 4,
   "id": "205d5d22-cb66-464e-85ce-28b0bb262f93",
   "metadata": {},
   "outputs": [
    {
     "name": "stdout",
     "output_type": "stream",
     "text": [
      "<class 'int'> 720\n"
     ]
    }
   ],
   "source": [
    "str01 = \"720\"\n",
    "int01 = int(str01)\n",
    "\n",
    "print(type(int01), int01)"
   ]
  },
  {
   "cell_type": "markdown",
   "id": "ead40ecd-9af3-41dd-a3d4-47257d9f11ca",
   "metadata": {},
   "source": [
    "### 4.밑이 6이고, 지수가 2인 거듭제곱의 값을 출력하세요."
   ]
  },
  {
   "cell_type": "code",
   "execution_count": 6,
   "id": "0b7bbd40-28f6-4ac1-9221-b0bbc04652b7",
   "metadata": {},
   "outputs": [
    {
     "name": "stdout",
     "output_type": "stream",
     "text": [
      "36\n"
     ]
    }
   ],
   "source": [
    "print(6 ** 2)"
   ]
  },
  {
   "cell_type": "markdown",
   "id": "81ca28b8-61fd-4b43-99ee-97560d9ee718",
   "metadata": {},
   "source": [
    "### 5.사용자로부터 2개의 숫자를 입력받은 후 해당 숫자들을 더한 값을 출력하세요. (*OUTPUT : 결과값)"
   ]
  },
  {
   "cell_type": "code",
   "execution_count": 7,
   "id": "705295ab-87f1-4480-b0e6-ce61b24c5050",
   "metadata": {},
   "outputs": [
    {
     "name": "stdin",
     "output_type": "stream",
     "text": [
      "first 10\n",
      "second 10\n"
     ]
    },
    {
     "name": "stdout",
     "output_type": "stream",
     "text": [
      "OUTPUT : 20\n"
     ]
    }
   ],
   "source": [
    "num01 = int(input(\"first\"))\n",
    "num02 = int(input(\"second\"))\n",
    "\n",
    "result = num01 + num02\n",
    "print(f\"OUTPUT : {result}\")"
   ]
  }
 ],
 "metadata": {
  "kernelspec": {
   "display_name": "Python [conda env:base] *",
   "language": "python",
   "name": "conda-base-py"
  },
  "language_info": {
   "codemirror_mode": {
    "name": "ipython",
    "version": 3
   },
   "file_extension": ".py",
   "mimetype": "text/x-python",
   "name": "python",
   "nbconvert_exporter": "python",
   "pygments_lexer": "ipython3",
   "version": "3.13.5"
  }
 },
 "nbformat": 4,
 "nbformat_minor": 5
}
