{
 "cells": [
  {
   "cell_type": "markdown",
   "id": "9b8a159c-4e11-4b6b-9a1b-f3d345563657",
   "metadata": {},
   "source": [
    "## *Python Basic\n",
    "\n",
    "### 1.변수\n",
    "\n",
    "### 2.내장함수 (*Built-in Function)\n",
    "- print()\n",
    "- input()\n",
    "- type()\n",
    "\n",
    "### 3.연산자\n",
    "- 사칙연산\n",
    "- 비교연산\n",
    "\n",
    "### 4.자료타입\n",
    "- string\n",
    "- int\n",
    "- float\n",
    "- boolean\n",
    "\n",
    "### 5.형변환\n",
    "- int()\n",
    "- float()\n",
    "- str()\n",
    "\n",
    "### 6.F-string\n",
    "- F\"문자열 {변수}\"\n",
    "\n",
    "### 7.문자열\n",
    "- \"\"\" \"\"\"\n",
    "- \\n\n",
    "- len()\n",
    "- find()\n",
    "- replace()\n",
    "- strip()\n",
    "- format() => 유의사항!!!!!\n",
    "- [index]\n",
    "- [index:index]"
   ]
  },
  {
   "cell_type": "code",
   "execution_count": 26,
   "id": "17845408-5bf6-4fbe-93e2-b36126d6c5dc",
   "metadata": {},
   "outputs": [],
   "source": [
    "# 단축키!!!\n",
    "# above : 위쪽에 셀 추가\n",
    "# below : 아래쪽에 셀 추가\n",
    "# dd : 셀 삭제\n",
    "# ctrl + z : 되돌리기\n",
    "# enter : 행바꿈 (*개행)\n",
    "# ctrl + enter : 셀 실행"
   ]
  },
  {
   "cell_type": "code",
   "execution_count": 30,
   "id": "9c451e95-0c34-4116-aadb-6597923e7183",
   "metadata": {},
   "outputs": [
    {
     "name": "stdout",
     "output_type": "stream",
     "text": [
      "1\n"
     ]
    }
   ],
   "source": [
    "num = 1 \n",
    "# num, lion, apple... => 변수 (*어떤 값을 담을 수 있는 그릇, 직관 & 명시)\n",
    "# sneak 표기법 => hello_world\n",
    "# camel 표기법 => helloWorld (*추천)\n",
    "# Hungarian 표기법 => HelloWorld\n",
    "# 변수의 이름이 숫자로 시작되서는 절대 안됨!!! (*반드시)\n",
    "# num이라는 변수 안에 1이라는 값을 할당했다\n",
    "\n",
    "print(num) \n",
    "# print() => 함수 (*Function : 기능)\n",
    "# print라는 함수안에 num이라는 변수를 인자=argument값으로 사용했다"
   ]
  },
  {
   "cell_type": "code",
   "execution_count": 6,
   "id": "cdfabb07-42c4-4e46-ba97-63e78c64a267",
   "metadata": {},
   "outputs": [
    {
     "name": "stdout",
     "output_type": "stream",
     "text": [
      "Hello World\n"
     ]
    }
   ],
   "source": [
    "print(\"Hello World\")"
   ]
  },
  {
   "cell_type": "code",
   "execution_count": 10,
   "id": "84e12e29-61e0-42a5-96da-f4c13474b0e9",
   "metadata": {},
   "outputs": [
    {
     "name": "stdout",
     "output_type": "stream",
     "text": [
      "<class 'int'>\n",
      "<class 'str'>\n"
     ]
    }
   ],
   "source": [
    "# 자료타입이 왜 중요한가?\n",
    "print(type(1))\n",
    "print(type(\"1\"))"
   ]
  },
  {
   "cell_type": "code",
   "execution_count": 13,
   "id": "1582ed9c-edda-4f50-8317-1495424f8029",
   "metadata": {},
   "outputs": [
    {
     "name": "stdout",
     "output_type": "stream",
     "text": [
      "10\n",
      "4\n",
      "21\n",
      "50\n",
      "2.3333333333333335\n"
     ]
    }
   ],
   "source": [
    "# 4칙연산 & 우선연산 가능\n",
    "num01 = 3\n",
    "num02 = 7\n",
    "\n",
    "print(num01 + num02)\n",
    "print(num02 - num01)\n",
    "print(num01 * num02)\n",
    "print((7 + 3) * 5)\n",
    "print(num02 / num01)"
   ]
  },
  {
   "cell_type": "code",
   "execution_count": 18,
   "id": "331ce4f0-1a6b-492b-8352-9d3a40818d24",
   "metadata": {},
   "outputs": [
    {
     "name": "stdout",
     "output_type": "stream",
     "text": [
      "2.142857142857143\n",
      "2\n",
      "1\n",
      "9\n"
     ]
    }
   ],
   "source": [
    "print(15 / 7) # 나누기 연산자\n",
    "print(15 // 7) # 나누기 후 몫의 값을 정수로 찾아오는 연산자\n",
    "print(15 % 7) # 나머지 연산자\n",
    "print(3 ** 2)"
   ]
  },
  {
   "cell_type": "code",
   "execution_count": 21,
   "id": "fdc1c4aa-0090-48e0-b6ca-a53cc78e6cb8",
   "metadata": {},
   "outputs": [
    {
     "name": "stdout",
     "output_type": "stream",
     "text": [
      "<class 'str'> <class 'int'> <class 'float'> <class 'bool'>\n"
     ]
    }
   ],
   "source": [
    "str_data = \"Hello\" # 문자열\n",
    "int_data = 1 # 정수\n",
    "float_data = 1.1 # 부동소수\n",
    "bool_data = True # 논리형\n",
    "\n",
    "print(type(str_data), type(int_data), type(float_data), type(bool_data))"
   ]
  },
  {
   "cell_type": "code",
   "execution_count": 24,
   "id": "c006e0a2-213c-4a96-be31-30e6458b63c9",
   "metadata": {},
   "outputs": [
    {
     "name": "stdout",
     "output_type": "stream",
     "text": [
      "30\n"
     ]
    }
   ],
   "source": [
    "digit1 = 10\n",
    "digit2 = 20\n",
    "name = \"David\"\n",
    "\n",
    "print(digit1 + digit2) # 동일한 자료형태의 경우에는 연산처리 가능!"
   ]
  },
  {
   "cell_type": "code",
   "execution_count": 29,
   "id": "2a77ed8b-ce4f-4279-a4b7-aa2dc5aa04a0",
   "metadata": {},
   "outputs": [
    {
     "name": "stdout",
     "output_type": "stream",
     "text": [
      "True\n",
      "False\n",
      "False\n",
      "True\n",
      "False\n",
      "True\n"
     ]
    }
   ],
   "source": [
    "num1 = 2\n",
    "num2 = 4\n",
    "\n",
    "print(num1 < num2)\n",
    "print(num1 > num2)\n",
    "print(num1 >= num2)\n",
    "print(num1 <= num2)\n",
    "print(num1 == num2)\n",
    "print(num1 != num2)"
   ]
  },
  {
   "cell_type": "code",
   "execution_count": null,
   "id": "a82b7daa-41e2-442c-8e1e-ffc805a33585",
   "metadata": {},
   "outputs": [],
   "source": [
    "age = 24\n",
    "name = \"David\"\n",
    "height = 190\n",
    "weight = 60\n",
    "footSize = 270\n",
    "glass = True\n",
    "marriage = True\n",
    "gender = \"male\"\n",
    "hobby = \"drawing\""
   ]
  },
  {
   "cell_type": "markdown",
   "id": "b6f1823e-64ba-47f8-b849-b2f4da807a46",
   "metadata": {},
   "source": [
    "### 반지름이 10인 변수를 선언하시고, 해당 반지름을 기준으로 하는 원의 지름, 둘레(2 * 파이 * 반지름), 넓이(파이 * 반지름 제곱) 값을 변수로 선언 및 할당 => 출력!"
   ]
  },
  {
   "cell_type": "code",
   "execution_count": 41,
   "id": "1f80f7c7-fcd3-4aa9-9afd-55981c9a494b",
   "metadata": {},
   "outputs": [
    {
     "name": "stdout",
     "output_type": "stream",
     "text": [
      "1.반지름 : 10\n",
      "2.지름 : 20\n",
      "3.원의 둘레 : 62.830000000000005\n",
      "4.원의 넓이 : 314.15000000000003\n",
      "1.반지름 : 10 2.지름 : 20 3.원의 둘레 : 62.830000000000005 4.원의 넓이 : 314.15000000000003\n",
      "1.반지름 : 10\n"
     ]
    }
   ],
   "source": [
    "radius = 10\n",
    "pi = 3.1415\n",
    "radius2 = radius * 2\n",
    "radius3 = 2 * pi * radius\n",
    "radius4 = pi * radius ** 2\n",
    "\n",
    "print(\"1.반지름 :\", radius)\n",
    "print(\"2.지름 :\", radius2)\n",
    "print(\"3.원의 둘레 :\", radius3)\n",
    "print(\"4.원의 넓이 :\", radius4)\n",
    "\n",
    "print(\"1.반지름 :\", radius, \"2.지름 :\", radius2, \"3.원의 둘레 :\", radius3, \"4.원의 넓이 :\", radius4)\n",
    "print(f\"1.반지름 : {radius}\") # F-String = Formatted String"
   ]
  },
  {
   "cell_type": "code",
   "execution_count": 50,
   "id": "3ea01b4c-6726-441b-ad54-3c698595901f",
   "metadata": {},
   "outputs": [
    {
     "name": "stdin",
     "output_type": "stream",
     "text": [
      "What is your name? David\n",
      "Where are you from? Seoul\n",
      "man or woman? man\n",
      "How old are you? 20\n"
     ]
    },
    {
     "name": "stdout",
     "output_type": "stream",
     "text": [
      "<class 'str'>\n",
      "Hi David from Seoul\n"
     ]
    }
   ],
   "source": [
    "name = input(\"What is your name?\")\n",
    "address = input(\"Where are you from?\")\n",
    "gender = input(\"man or woman?\")\n",
    "age = input(\"How old are you?\")\n",
    "\n",
    "print(type(age))\n",
    "print(f\"Hi {name} from {address}\")"
   ]
  },
  {
   "cell_type": "code",
   "execution_count": 52,
   "id": "e453e1c3-c127-42c8-9972-24fcc21ac984",
   "metadata": {},
   "outputs": [
    {
     "name": "stdin",
     "output_type": "stream",
     "text": [
      " 10\n",
      " 10\n"
     ]
    },
    {
     "name": "stdout",
     "output_type": "stream",
     "text": [
      "100\n"
     ]
    }
   ],
   "source": [
    "num1 = int(input())\n",
    "num2 = int(input())\n",
    "\n",
    "print(num1 * num2)"
   ]
  },
  {
   "cell_type": "code",
   "execution_count": 66,
   "id": "23aafd25-07bd-45ee-af52-2435957971af",
   "metadata": {},
   "outputs": [
    {
     "name": "stdout",
     "output_type": "stream",
     "text": [
      "<class 'float'>\n",
      "<class 'int'>\n",
      "<class 'int'>\n"
     ]
    }
   ],
   "source": [
    "num3 = 6.3\n",
    "num4 = 1\n",
    "\n",
    "print(type(num3))\n",
    "print(type(num4))\n",
    "\n",
    "num5 = int(num3)\n",
    "print(type(num5))"
   ]
  },
  {
   "cell_type": "code",
   "execution_count": 86,
   "id": "d2c7b26c-757f-401e-bd67-348b3b600265",
   "metadata": {},
   "outputs": [
    {
     "name": "stdout",
     "output_type": "stream",
     "text": [
      "성인이 된 기훈은 이혼한 뒤 대리운전 기사 등을 전전하다 백발의 노모에게 얹혀살고 있었고,\n",
      "하나뿐인 어린 딸 가영의 생일 선물을 살 돈도 어머니에게서 받아내는 비루한 인생을 살고 있었다.\n",
      "이혼 후 가영은 재혼한 전처가 키우고 있었지만, 기훈은 가영의 생일도 챙겨주지 않고\n",
      "어머니의 돈을 몰래 빼내서 경마 도박에 올인하는데 딸의 생일(6월 8일) 날짜를 이용해 베팅하며\n",
      "우여곡절 끝에 456만 원이라는 거금을 얻게 된다.[4]\n",
      "밖으로 나와 가영이와 전화 통화를 하며 즐거워하던 것도 잠시,\n",
      "자신을 찾아온 사채업자 김정래 대표 때문에 황급히 도망치다 누군가와 부딪히고 주머니에 있는 455만 원을 전부 소매치기당하고 만다.\n",
      "기훈은 이를 눈치챌 틈도 없이 도망치다 결국 사채업자들에게 붙잡혀 화장실에서 신체포기각서를 쓰게 된다.[5]\n",
      "어떻게든 만 원이라도 만들어서[6] 인형뽑기로 권총 라이터를 선물했다가[7] 황급히 가져간 뒤에 떡볶이를 사주지만,\n",
      "아버지 노릇도 제대로 못해준 나머지 그저 자괴감만 든다. 결국 \"내년 생일에는 더 잘 챙겨줄게.\"라며 애써 가영을\n",
      "위로하지만 가영이는 아무런 대답을 못하고 머뭇거린다.\n"
     ]
    }
   ],
   "source": [
    "article1 = \"주인공 성기훈의 내레이션과 함께, 어릴 적 기훈이 동네 친구들과의 오징어 게임에서 이기는 장면을 보여준 후 타이틀이 등장하면서 시작한다.\"\n",
    "article2 = \"\"\"성인이 된 기훈은 이혼한 뒤 대리운전 기사 등을 전전하다 백발의 노모에게 얹혀살고 있었고,\n",
    "하나뿐인 어린 딸 가영의 생일 선물을 살 돈도 어머니에게서 받아내는 비루한 인생을 살고 있었다.\n",
    "이혼 후 가영은 재혼한 전처가 키우고 있었지만, 기훈은 가영의 생일도 챙겨주지 않고\n",
    "어머니의 돈을 몰래 빼내서 경마 도박에 올인하는데 딸의 생일(6월 8일) 날짜를 이용해 베팅하며\n",
    "우여곡절 끝에 456만 원이라는 거금을 얻게 된다.[4]\\n밖으로 나와 가영이와 전화 통화를 하며 즐거워하던 것도 잠시,\n",
    "자신을 찾아온 사채업자 김정래 대표 때문에 황급히 도망치다 누군가와 부딪히고 주머니에 있는 455만 원을 전부 소매치기당하고 만다.\n",
    "기훈은 이를 눈치챌 틈도 없이 도망치다 결국 사채업자들에게 붙잡혀 화장실에서 신체포기각서를 쓰게 된다.[5]\n",
    "어떻게든 만 원이라도 만들어서[6] 인형뽑기로 권총 라이터를 선물했다가[7] 황급히 가져간 뒤에 떡볶이를 사주지만,\n",
    "아버지 노릇도 제대로 못해준 나머지 그저 자괴감만 든다. 결국 \"내년 생일에는 더 잘 챙겨줄게.\"라며 애써 가영을\n",
    "위로하지만 가영이는 아무런 대답을 못하고 머뭇거린다.\"\"\"\n",
    "\n",
    "print(article2)"
   ]
  },
  {
   "cell_type": "code",
   "execution_count": 88,
   "id": "81b88b11-8198-4c11-ab22-51c50109d3b5",
   "metadata": {},
   "outputs": [
    {
     "name": "stdout",
     "output_type": "stream",
     "text": [
      "3\n",
      "566\n",
      "0\n",
      "1\n"
     ]
    }
   ],
   "source": [
    "# article2라는 변수를 선언했고, 해당 변수에 문자열 형태의 값을 할당\n",
    "# article2라는 변수에 문자열 형태의 값이 할당됨으로 인해서 이제 article2라는 변수는 문자열 객체라고 부를 수 있게 됨!!\n",
    "# 객체는 어떤 타입의 객체이냐에 따라서 사용할 수 있는 메서드 함수(*문자열())가 결정!!!!\n",
    "\n",
    "print(article2.count(\"기훈\"))\n",
    "print(len(article2))\n",
    "print(article2.find(\"성\")) # \"성\"이라는 문자열은 0번째 인덱스값을 가지고 있음\n",
    "print(article2.find(\"인\"))\n",
    "\n",
    "# 동의보감 => 동 : 0 // 감 : 3 => 문자열의 전체 총개수 - 1 = 마지막번째 문자열의 인덱스값과 항상 동일"
   ]
  },
  {
   "cell_type": "code",
   "execution_count": 91,
   "id": "5fda2d7c-317e-4e30-bb1b-eb23fedb7a1a",
   "metadata": {},
   "outputs": [
    {
     "name": "stdout",
     "output_type": "stream",
     "text": [
      "Actor Brad Pitt's home in Los Angeles has been ransacked by a trio of thieves.\n",
      "\n",
      "Three suspects broke into the home in Los Feliz late on Wednesday through a front window and \"ransacked the location,\" according to the Los Angeles Police Department.\n",
      "\n",
      "Police did not confirm the home belonged to the Oscar-winning actor, but the address matched that of a home Mr Pitt purchased in 2023.\n",
      "0\n",
      "8\n",
      "Actor David home in Los Angeles has been ransacked by a trio of thieves.\n",
      "\n",
      "Three suspects broke into the home in Los Feliz late on Wednesday through a front window and \"ransacked the location,\" according to the Los Angeles Police Department.\n",
      "\n",
      "Police did not confirm the home belonged to the Oscar-winning actor, but the address matched that of a home Mr Pitt purchased in 2023.\n"
     ]
    }
   ],
   "source": [
    "article3 = \"\"\"Actor Brad Pitt's home in Los Angeles has been ransacked by a trio of thieves.\n",
    "\n",
    "Three suspects broke into the home in Los Feliz late on Wednesday through a front window and \"ransacked the location,\" according to the Los Angeles Police Department.\n",
    "\n",
    "Police did not confirm the home belonged to the Oscar-winning actor, but the address matched that of a home Mr Pitt purchased in 2023.\"\"\"\n",
    "\n",
    "print(article3)\n",
    "print(article3.find(\"A\"))\n",
    "print(article3.find(\"a\"))\n",
    "print(article3.replace(\"Brad Pitt's\", \"David\"))"
   ]
  },
  {
   "cell_type": "code",
   "execution_count": 100,
   "id": "313233c1-aa74-4a95-a68b-9fac98a97a7f",
   "metadata": {},
   "outputs": [
    {
     "name": "stdout",
     "output_type": "stream",
     "text": [
      "python\n",
      "p\n",
      "y\n",
      "6\n",
      "n\n",
      "py\n",
      "th\n",
      "o\n"
     ]
    }
   ],
   "source": [
    "# 파이썬 > 문자열 > 슬라이스 기능\n",
    "\n",
    "text01 = \"python\"\n",
    "\n",
    "print(text01)\n",
    "print(text01[0])\n",
    "print(text01[1])\n",
    "print(len(text01))\n",
    "print(text01[len(text01) - 1])\n",
    "\n",
    "print(text01[0:2])\n",
    "print(text01[2:4])\n",
    "print(text01[-2])"
   ]
  },
  {
   "cell_type": "code",
   "execution_count": 104,
   "id": "17b0283c-c56b-4685-8d81-157ae2caf0cb",
   "metadata": {},
   "outputs": [
    {
     "name": "stdout",
     "output_type": "stream",
     "text": [
      "14\n",
      "8\n",
      "David\n"
     ]
    }
   ],
   "source": [
    "some_string = \"   computer   \"\n",
    "print(len(some_string))\n",
    "\n",
    "some_string2 = some_string.strip()\n",
    "print(len(some_string2))\n",
    "\n",
    "some_string3 = \",,,David,,,\"\n",
    "print(some_string3.strip(\",\"))"
   ]
  },
  {
   "cell_type": "code",
   "execution_count": 110,
   "id": "ba9a9fed-4b4d-4038-b44c-78f881a083af",
   "metadata": {},
   "outputs": [
    {
     "name": "stdout",
     "output_type": "stream",
     "text": [
      "I have a pen. I have a apple\n",
      "I have a pen. I have a apple\n",
      "I have a apple. I have a pen\n",
      "I have a pen. I have a pen\n"
     ]
    }
   ],
   "source": [
    "var01 = \"pen\"\n",
    "var02 = \"apple\"\n",
    "\n",
    "print(f\"I have a {var01}. I have a {var02}\")\n",
    "\n",
    "print(\"I have a {}. I have a {}\".format(\"pen\", \"apple\"))\n",
    "print(\"I have a {1}. I have a {0}\".format(\"pen\", \"apple\"))\n",
    "print(\"I have a {0}. I have a {0}\".format(\"pen\", \"apple\"))"
   ]
  },
  {
   "cell_type": "code",
   "execution_count": 111,
   "id": "07a7ada9-95da-46a3-810d-7bfc25b5acd5",
   "metadata": {},
   "outputs": [
    {
     "name": "stdout",
     "output_type": "stream",
     "text": [
      "0.90\n"
     ]
    }
   ],
   "source": [
    "interest = 0.897\n",
    "print(format(interest, \".2f\"))"
   ]
  },
  {
   "cell_type": "code",
   "execution_count": 118,
   "id": "42d8c7b4-59b9-48be-b0ad-ebcb3d4f642e",
   "metadata": {},
   "outputs": [
    {
     "name": "stdout",
     "output_type": "stream",
     "text": [
      "I have a 100.000000. I have a apple.\n"
     ]
    }
   ],
   "source": [
    "print(\"I have a %f. I have a %s.\" % (100, \"apple\"))\n",
    "\n",
    "# %s : 문자열 입력\n",
    "# %d : 정수 입력\n",
    "# %f : 부동소수값 입력"
   ]
  }
 ],
 "metadata": {
  "kernelspec": {
   "display_name": "Python [conda env:base] *",
   "language": "python",
   "name": "conda-base-py"
  },
  "language_info": {
   "codemirror_mode": {
    "name": "ipython",
    "version": 3
   },
   "file_extension": ".py",
   "mimetype": "text/x-python",
   "name": "python",
   "nbconvert_exporter": "python",
   "pygments_lexer": "ipython3",
   "version": "3.13.5"
  }
 },
 "nbformat": 4,
 "nbformat_minor": 5
}
