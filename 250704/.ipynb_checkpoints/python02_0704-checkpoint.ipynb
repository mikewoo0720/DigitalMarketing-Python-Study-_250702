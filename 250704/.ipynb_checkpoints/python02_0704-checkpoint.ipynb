{
 "cells": [
  {
   "cell_type": "markdown",
   "id": "dfa7f267-b86a-432f-80f3-97a8f5ba5bcc",
   "metadata": {},
   "source": [
    "#### 웹 사이트 데이터를 크롤링 해오자!!!\n",
    "- 크롤링 : 마치 동물의 발톱 혹은 갈퀴로 어떤 정보를 잡아채온다. 라는 의미\n",
    "- 크롤링은 파이썬에서만 할 수 있나? 파이썬이 아닌 언어로도 충분히 예전부터 할 수 있는 기능이었음!!!\n",
    "- 파이썬은 문법이 타 언어대비 굉장히 심플 & 간소 => 초심자 학습하기에 매우 적절\n",
    "- 꼭 굳이 개발자가 아니더라도, 비개발자 보다 쉽고 간편하고 빠르게 개발언어를 활용해서 크롤링을 할 수 있도록 도와주는 거의 유일한 언어\n",
    "- 왜 다른언어는 굳이 복잡한 것일까? => 파이썬 언어는 내부 혹은 외부 라이브러리 소스를 가져다가 사용할 수 있는 기회 혹은 상황이 정말 많다!!\n",
    "- 코드가 짧은 대신에 라이브러리를 사용하기 위한 별도 학습 필요, 라이브러리를 잘 찾거나 알고 있는것만 해도 능력이됨\n",
    "- beautifulsoup4 : 아래에 request를 통해서 찾아온 HTML 문서를 파싱(parsing)\n",
    "    -beautifulsoup4로 전부다 크롤링을 할 수 있는것이 아니다.(주로 웹 시장 = static(정적인)한 사이트), 요즘 사이트들은 대부분 동적사이트라 크롤링이 안된다.\n",
    "    -동적인 사이트를 크롤링 하기 위해서 라이브러리가 아니라 프레임워크를 사용하는 경우가 생긴다(프레임워크는 독자적인 문법을 가지고 있다)\n",
    "- requests : 크롤링 해오고자 하는 웹 사이트를 요청 => html 문서 안에 있는 코드를 가져오는 역할"
   ]
  },
  {
   "cell_type": "code",
   "execution_count": 2,
   "id": "26eaf96a-be63-496e-94ad-4cb9f5944378",
   "metadata": {
    "collapsed": true,
    "jupyter": {
     "outputs_hidden": true
    }
   },
   "outputs": [
    {
     "name": "stdout",
     "output_type": "stream",
     "text": [
      "Requirement already satisfied: requests in c:\\users\\user\\anaconda3\\lib\\site-packages (2.32.3)\n",
      "Requirement already satisfied: charset-normalizer<4,>=2 in c:\\users\\user\\anaconda3\\lib\\site-packages (from requests) (3.3.2)\n",
      "Requirement already satisfied: idna<4,>=2.5 in c:\\users\\user\\anaconda3\\lib\\site-packages (from requests) (3.7)\n",
      "Requirement already satisfied: urllib3<3,>=1.21.1 in c:\\users\\user\\anaconda3\\lib\\site-packages (from requests) (2.3.0)\n",
      "Requirement already satisfied: certifi>=2017.4.17 in c:\\users\\user\\anaconda3\\lib\\site-packages (from requests) (2025.6.15)\n",
      "Note: you may need to restart the kernel to use updated packages.\n"
     ]
    }
   ],
   "source": [
    "pip install requests"
   ]
  },
  {
   "cell_type": "code",
   "execution_count": 3,
   "id": "b0b5dd48-6e77-4408-8a6a-42b8389ca3dc",
   "metadata": {
    "collapsed": true,
    "jupyter": {
     "outputs_hidden": true
    }
   },
   "outputs": [
    {
     "name": "stdout",
     "output_type": "stream",
     "text": [
      "Requirement already satisfied: beautifulsoup4 in c:\\users\\user\\anaconda3\\lib\\site-packages (4.12.3)\n",
      "Requirement already satisfied: soupsieve>1.2 in c:\\users\\user\\anaconda3\\lib\\site-packages (from beautifulsoup4) (2.5)\n",
      "Note: you may need to restart the kernel to use updated packages.\n"
     ]
    }
   ],
   "source": [
    "pip install beautifulsoup4"
   ]
  },
  {
   "cell_type": "code",
   "execution_count": 4,
   "id": "79e2a9be-8e4b-4667-88ba-875c60cbd11c",
   "metadata": {
    "collapsed": true,
    "jupyter": {
     "outputs_hidden": true
    }
   },
   "outputs": [
    {
     "name": "stdout",
     "output_type": "stream",
     "text": [
      "Requirement already satisfied: beautifulsoup4 in c:\\users\\user\\anaconda3\\lib\\site-packages (4.12.3)\n",
      "Requirement already satisfied: requests in c:\\users\\user\\anaconda3\\lib\\site-packages (2.32.3)\n",
      "Requirement already satisfied: soupsieve>1.2 in c:\\users\\user\\anaconda3\\lib\\site-packages (from beautifulsoup4) (2.5)\n",
      "Requirement already satisfied: charset-normalizer<4,>=2 in c:\\users\\user\\anaconda3\\lib\\site-packages (from requests) (3.3.2)\n",
      "Requirement already satisfied: idna<4,>=2.5 in c:\\users\\user\\anaconda3\\lib\\site-packages (from requests) (3.7)\n",
      "Requirement already satisfied: urllib3<3,>=1.21.1 in c:\\users\\user\\anaconda3\\lib\\site-packages (from requests) (2.3.0)\n",
      "Requirement already satisfied: certifi>=2017.4.17 in c:\\users\\user\\anaconda3\\lib\\site-packages (from requests) (2025.6.15)\n",
      "Note: you may need to restart the kernel to use updated packages.\n"
     ]
    }
   ],
   "source": [
    "pip install beautifulsoup4 requests"
   ]
  },
  {
   "cell_type": "code",
   "execution_count": 29,
   "id": "601ff7cb-05fe-4e5b-8c88-ddebbb678a1c",
   "metadata": {},
   "outputs": [
    {
     "name": "stdout",
     "output_type": "stream",
     "text": [
      "1번째상품 : 상품카테고리 -> 매트리스커버 관련 상품 추천 / 상품이미지 -> https://static.coupangcdn.com/image/retail/images/2017/10/11/16/6/bf3b2157-528d-4b24-9991-b601a24f4c6f.jpg\n",
      "\n",
      "2번째상품 : 상품카테고리 -> 매트리스커버 관련 상품 추천 / 상품이미지 -> https://static.coupangcdn.com/image/product/image/vendoritem/2018/11/28/3647689009/d72a996d-1e4e-42be-a23c-f9f6872214bb.jpg\n",
      "\n",
      "3번째상품 : 상품카테고리 -> 매트리스커버 관련 상품 추천 / 상품이미지 -> https://static.coupangcdn.com/image/product/image/vendoritem/2019/06/11/3361297461/699c49cc-5f9f-4927-ab26-b184f90c1571.jpg\n",
      "\n",
      "4번째상품 : 상품카테고리 -> 매트리스커버 관련 상품 추천 / 상품이미지 -> https://static.coupangcdn.com/image/retail/images/2018/10/26/16/9/c6dfa004-442c-4f48-9ff1-b76d81bae046.jpg\n",
      "\n",
      "5번째상품 : 상품카테고리 -> 매트리스커버 관련 상품 추천 / 상품이미지 -> https://static.coupangcdn.com/image/retail/images/2019/04/01/22/6/f9566f49-cf8c-48dd-bc73-b543a3f47f62.jpg\n",
      "\n",
      "6번째상품 : 상품카테고리 -> 매트리스커버 관련 상품 추천 / 상품이미지 -> https://static.coupangcdn.com/image/retail/images/12859794410743-0ab1b2fe-1cd4-4599-b38a-3fb22f3bf620.jpg\n",
      "\n",
      "7번째상품 : 상품카테고리 -> 매트리스커버 관련 상품 추천 / 상품이미지 -> https://static.coupangcdn.com/image/retail/images/2019/03/28/19/3/2d9f9b52-0cc9-424f-8639-8f298429d244.jpg\n",
      "\n",
      "8번째상품 : 상품카테고리 -> 매트리스커버 관련 상품 추천 / 상품이미지 -> https://static.coupangcdn.com/image/retail/images/2017/10/19/15/4/95b93d25-7014-458a-a2a5-9b93189cdcef.jpg\n",
      "\n",
      "9번째상품 : 상품카테고리 -> 행거도어 관련 상품 추천 / 상품이미지 -> https://static.coupangcdn.com/image/retail/images/2019/07/29/12/3/704931d7-4dbd-4af7-9247-856831bdc61e.jpg\n",
      "\n",
      "10번째상품 : 상품카테고리 -> 매트리스커버 관련 상품 추천 / 상품이미지 -> https://static.coupangcdn.com/image/retail/images/2017/10/13/10/3/8379ffd3-63be-4da4-98f9-895aaa0c9b52.jpg\n",
      "\n",
      "11번째상품 : 상품카테고리 -> 매트리스커버 관련 상품 추천 / 상품이미지 -> https://static.coupangcdn.com/image/retail/images/2018/09/17/19/4/329dbb2f-a0ad-44d4-af46-1eea0c548b67.jpg\n",
      "\n",
      "12번째상품 : 상품카테고리 -> 매트리스커버 관련 상품 추천 / 상품이미지 -> https://static.coupangcdn.com/image/retail/images/339338956730835-5cbe0521-2a03-4fe2-8eb7-7a7ae9ff187f.jpg\n",
      "\n"
     ]
    }
   ],
   "source": [
    "import requests\n",
    "from bs4 import BeautifulSoup #뷰티풀숩4 에서 뷰티풀숩 라이브러리만 가져와라\n",
    "\n",
    "url = \"https://davelee-fun.github.io\"#내가 찾아올 url 변수 선언해서 해당 주소값\n",
    "response = requests.get(url)#위 url에 들어있는 주소에 있는 데이터를 가져와서(get) 리스폰스 변수에 넣어라\n",
    "soup = BeautifulSoup(response.text, \"html.parser\")#soup이라는 변수에 뷰티풀숩으로 파싱하자\n",
    "\n",
    "cards = soup.select(\"div.maxthumb img\")\n",
    "#구체적으로 어떤 값을 찾아올지 입력해야한다. #변수가 어디 선언되어 있는지 찾는 방법 확인\n",
    "\n",
    "card_data = []\n",
    "#start=1 -> 1부터 인덱스 반영\n",
    "for idx, card in enumerate(cards, start=1) :#enumerate함수(인자값에 있는 인덱스값을 자동으로 하나씩 더해 반환)를 활용해서 몇번째인지 알려주는 인덱스 변수 선언\n",
    "    title = card.get(\"alt\", \"제목 없음\").strip()\n",
    "    img_url = card.get(\"src\", \"\").strip()\n",
    "\n",
    "    card_info = (idx, title, img_url)\n",
    "    card_data.append(card_info)\n",
    "\n",
    "for item in card_data :\n",
    "    print(f\"{item[0]}번째상품 : 상품카테고리 -> {item[1]} / 상품이미지 -> {item[2]}\\n\")"
   ]
  },
  {
   "cell_type": "code",
   "execution_count": 14,
   "id": "0bd475b4-bff8-4bd5-82fc-a4c46938c844",
   "metadata": {},
   "outputs": [
    {
     "name": "stdout",
     "output_type": "stream",
     "text": [
      "[<img alt=\"매트리스커버 관련 상품 추천\" class=\"img-fluid\" src=\"https://static.coupangcdn.com/image/retail/images/2017/10/11/16/6/bf3b2157-528d-4b24-9991-b601a24f4c6f.jpg\"/>, <img alt=\"매트리스커버 관련 상품 추천\" class=\"img-fluid\" src=\"https://static.coupangcdn.com/image/product/image/vendoritem/2018/11/28/3647689009/d72a996d-1e4e-42be-a23c-f9f6872214bb.jpg\"/>, <img alt=\"매트리스커버 관련 상품 추천\" class=\"img-fluid\" src=\"https://static.coupangcdn.com/image/product/image/vendoritem/2019/06/11/3361297461/699c49cc-5f9f-4927-ab26-b184f90c1571.jpg\"/>, <img alt=\"매트리스커버 관련 상품 추천\" class=\"img-fluid\" src=\"https://static.coupangcdn.com/image/retail/images/2018/10/26/16/9/c6dfa004-442c-4f48-9ff1-b76d81bae046.jpg\"/>, <img alt=\"매트리스커버 관련 상품 추천\" class=\"img-fluid\" src=\"https://static.coupangcdn.com/image/retail/images/2019/04/01/22/6/f9566f49-cf8c-48dd-bc73-b543a3f47f62.jpg\"/>, <img alt=\"매트리스커버 관련 상품 추천\" class=\"img-fluid\" src=\"https://static.coupangcdn.com/image/retail/images/12859794410743-0ab1b2fe-1cd4-4599-b38a-3fb22f3bf620.jpg\"/>, <img alt=\"매트리스커버 관련 상품 추천\" class=\"img-fluid\" src=\"https://static.coupangcdn.com/image/retail/images/2019/03/28/19/3/2d9f9b52-0cc9-424f-8639-8f298429d244.jpg\"/>, <img alt=\"매트리스커버 관련 상품 추천\" class=\"img-fluid\" src=\"https://static.coupangcdn.com/image/retail/images/2017/10/19/15/4/95b93d25-7014-458a-a2a5-9b93189cdcef.jpg\"/>, <img alt=\"행거도어 관련 상품 추천\" class=\"img-fluid\" src=\"https://static.coupangcdn.com/image/retail/images/2019/07/29/12/3/704931d7-4dbd-4af7-9247-856831bdc61e.jpg\"/>, <img alt=\"매트리스커버 관련 상품 추천\" class=\"img-fluid\" src=\"https://static.coupangcdn.com/image/retail/images/2017/10/13/10/3/8379ffd3-63be-4da4-98f9-895aaa0c9b52.jpg\"/>, <img alt=\"매트리스커버 관련 상품 추천\" class=\"img-fluid\" src=\"https://static.coupangcdn.com/image/retail/images/2018/09/17/19/4/329dbb2f-a0ad-44d4-af46-1eea0c548b67.jpg\"/>, <img alt=\"매트리스커버 관련 상품 추천\" class=\"img-fluid\" src=\"https://static.coupangcdn.com/image/retail/images/339338956730835-5cbe0521-2a03-4fe2-8eb7-7a7ae9ff187f.jpg\"/>]\n"
     ]
    }
   ],
   "source": [
    "import requests\n",
    "from bs4 import BeautifulSoup #뷰티풀숩4 에서 뷰티풀숩 라이브러리만 가져와라\n",
    "\n",
    "url = \"https://davelee-fun.github.io\"#내가 찾아올 url 변수 선언해서 해당 주소값\n",
    "response = requests.get(url)#위 url에 들어있는 주소에 있는 데이터를 가져와서(get) 리스폰스 변수에 넣어라\n",
    "soup = BeautifulSoup(response.text, \"html.parser\")#soup이라는 변수에 뷰티풀숩으로 파싱하자\n",
    "\n",
    "cards = soup.select(\"div.maxthumb img\")\n",
    "print(cards)"
   ]
  }
 ],
 "metadata": {
  "kernelspec": {
   "display_name": "Python [conda env:base] *",
   "language": "python",
   "name": "conda-base-py"
  },
  "language_info": {
   "codemirror_mode": {
    "name": "ipython",
    "version": 3
   },
   "file_extension": ".py",
   "mimetype": "text/x-python",
   "name": "python",
   "nbconvert_exporter": "python",
   "pygments_lexer": "ipython3",
   "version": "3.13.5"
  }
 },
 "nbformat": 4,
 "nbformat_minor": 5
}
