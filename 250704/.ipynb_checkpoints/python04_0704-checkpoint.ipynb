{
 "cells": [
  {
   "cell_type": "markdown",
   "id": "bffaa188-f07d-447b-9616-c94c48ce9529",
   "metadata": {},
   "source": [
    "- 사용자로부터 어떤 값을 받고 해당 값을 한화(*한국돈)으로 출력되도록 해주세요.\n",
    "- ex) 100$ => 환율 1112원 // 111200원 으로 출력되도록 해주세요.\n",
    "\n",
    "- 사용자로부터 달러를 입력받기 위해 input을 사용해서 변수에 값을 입력받는다. 이때 돈은 숫자이므로 int 값으로 받는다.\n",
    "- 환율을 적용하여 원화로 표시하기 위해 입력받은 값에 환률을 곱한 값을 출력한다."
   ]
  },
  {
   "cell_type": "code",
   "execution_count": 6,
   "id": "46976d59-f1ab-420e-a02f-61ea7e604f81",
   "metadata": {},
   "outputs": [
    {
     "name": "stdin",
     "output_type": "stream",
     "text": [
      "원화로 환전하고 싶은 달러를 입력하세요 100달러\n"
     ]
    },
    {
     "name": "stdout",
     "output_type": "stream",
     "text": [
      "당신이 가지고 있는 달러를 원으로 환전하면 111,200원 입니다.\n"
     ]
    }
   ],
   "source": [
    "one = input(\"원화로 환전하고 싶은 달러를 입력하세요\")\n",
    "\n",
    "dallor = int(one.replace(\"달러\", \"\"))\n",
    "\n",
    "print(f\"당신이 가지고 있는 달러를 원으로 환전하면 {dallor*1112:,}원 입니다.\")"
   ]
  },
  {
   "cell_type": "code",
   "execution_count": 32,
   "id": "75b6138a-cbf5-4fc4-ab2b-451e6b401722",
   "metadata": {},
   "outputs": [
    {
     "name": "stdin",
     "output_type": "stream",
     "text": [
      "가지고 있는 달러를 입력하세요 ex)100 달러 100 달러\n"
     ]
    },
    {
     "name": "stdout",
     "output_type": "stream",
     "text": [
      "당신이 가지고 있는 달라는 100 달러$ 인데 원화로 환전했을 경우 111200 원 입니다.\n"
     ]
    }
   ],
   "source": [
    "d = input(\"가지고 있는 달러를 입력하세요 ex)100 달러\")\n",
    "#ex) 100달러라고 입력한 값에서 정숫값만 가져오려면 뒤에 달러를 지우고 정수값으로 변환하면 된다\n",
    "\n",
    "d1 = int(d.split(\" \")[0])#100 달러\n",
    "\n",
    "print(f\"당신이 가지고 있는 달라는 {d}$ 인데 원화로 환전했을 경우 {int(d1)*1112} 원 입니다.\")\n",
    "\n",
    "# if type(d) == \"int\" :\n",
    "#     print(f\"당신이 가지고 있는 달라는 {d}$ 인데 원화로 환전했을 경우 {(d)*1112} 원 입니다.\")\n",
    "# else :\n",
    "#     print(\"숫자를 입력하세요\")"
   ]
  },
  {
   "cell_type": "code",
   "execution_count": 33,
   "id": "af376e73-9a06-41e9-b149-11ace9845585",
   "metadata": {},
   "outputs": [
    {
     "name": "stdin",
     "output_type": "stream",
     "text": [
      "환전하고 싶은 달러를 입력해주세요, ex)100달러 100\n"
     ]
    },
    {
     "name": "stdout",
     "output_type": "stream",
     "text": [
      "111,200원\n"
     ]
    }
   ],
   "source": [
    "#선생님 풀이\n",
    "# 1. 사용자에게 값을 받는다\n",
    "#input\n",
    "\n",
    "# 2. 사전에 환율을 정의해서 특정 변수에 할당해 놓는다\n",
    "# 변수 정의만 하면 됨\n",
    "\n",
    "# 3. 사용자에게 받은 값을 사전에 정의해놓은 환율과 계산한다.\n",
    "# 연산자만 알면 됨\n",
    "\n",
    "# 4. 사용자의 값과 환율을 계산한 그 결과값을 출력한다\n",
    "# print()\n",
    "\n",
    "price = input(\"환전하고 싶은 달러를 입력해주세요, ex)100달러\")\n",
    "exchange = 1112\n",
    "\n",
    "dollar = int(price.replace(\"달러\", \"\"))\n",
    "result = dollar * exchange\n",
    "\n",
    "print(f\"{result:,}원\")"
   ]
  },
  {
   "cell_type": "markdown",
   "id": "71ebb851-f4bc-42a4-8d62-d081b2903d1e",
   "metadata": {},
   "source": [
    "- 달러의 환율을 1112원으로 설정, 위완화의 환율을 171원 설정, 엔화의 환율을 1010원으로 설정 하시되, 해당 화폐당 환율의 값을 딕셔너리라는 자료구조로 정의하시고, 사용자가 달러 혹은 엔화 혹은 위안화 값을 입력 했을때,  해당 값을 한화로 바꿔서 출력될 수 있도록 해주세요!!!"
   ]
  },
  {
   "cell_type": "code",
   "execution_count": 5,
   "id": "0166a7bc-1342-4e0c-8276-8d14af2ddefd",
   "metadata": {},
   "outputs": [
    {
     "name": "stdin",
     "output_type": "stream",
     "text": [
      "환전하고 싶은 금액을 입력해주세요, ex)100 달러(달러, 엔, 위안 가능) 100 엔\n"
     ]
    },
    {
     "name": "stdout",
     "output_type": "stream",
     "text": [
      "당신이 가지고 있는 엔화는 100 엔$ 인데 원화로 환전했을 경우 101000 원 입니다.\n"
     ]
    }
   ],
   "source": [
    "#국가별 각각의 환율값을 딕셔너리 자료구조로 선언해준다.\n",
    "#if문을 사용해서 사용자가 달러를 입력했을 때 달러\n",
    "#elif문을 사용해서 엔화\n",
    "#elif문을 사용해서 위안화\n",
    "\n",
    "dict1 = {\"달러\": \"1112\", \"엔화\": \"1010\", \"위안화\": \"171\", }\n",
    "\n",
    "price = input(\"환전하고 싶은 금액을 입력해주세요, ex)100 달러(달러, 엔, 위안 가능)\")\n",
    "\n",
    "d1 = int(price.split(\" \")[0])\n",
    "d2 = price.split(\" \")[1]\n",
    "\n",
    "if d2 == \"달러\":\n",
    "    print(f\"당신이 가지고 있는 달라는 {price}$ 인데 원화로 환전했을 경우 {int(d1)*int(dict1[\"달러\"])} 원 입니다.\")\n",
    "\n",
    "elif d2 == \"엔\" :\n",
    "    print(f\"당신이 가지고 있는 엔화는 {price}$ 인데 원화로 환전했을 경우 {int(d1)*int(dict1[\"엔화\"])} 원 입니다.\")\n",
    "    \n",
    "elif d2 == \"위안\" :\n",
    "    print(f\"당신이 가지고 있는 위안화는 {price} 인데 원화로 환전했을 경우 {int(d1)*int(dict1[\"위안화\"]):,} 원 입니다.\")\n",
    "else :\n",
    "    print(\"양식에 맞게 입력해주세요 ex) 100 위안\")"
   ]
  },
  {
   "cell_type": "code",
   "execution_count": null,
   "id": "c11e7f86-3612-4aac-840c-40deeb1ba3a0",
   "metadata": {},
   "outputs": [
    {
     "name": "stdin",
     "output_type": "stream",
     "text": [
      "환전하고 싶은 금액 입력! 100 달러\n"
     ]
    }
   ],
   "source": [
    "#선생님 풀이\n",
    "\n",
    "exchange_list = {\"달러\":1112, \"위안\":171, \"엔화\":1010}\n",
    "user_money = input(\"환전하고 싶은 금액 입력!\")\n",
    "#100달러\n",
    "\n",
    "if user_money[-2:] == \"달러\" :\n",
    "    print(f\"{exchange_list['달러'] * int(user_money[:-2]):,}원\")\n",
    "elif user_money[-2:] == \"위안\" :\n",
    "    print(f\"{exchange_list['위안'] * int(user_money[:-2]):,}원\")\n",
    "elif user_money[-2:] == \"엔화\" :\n",
    "    print(f\"{exchange_list['엔화'] * int(user_money[:-2]):,}원\")\n",
    "else :\n",
    "    print(\"달러, 위안, 엔화 중 하나를 입력해주세요!\")"
   ]
  },
  {
   "cell_type": "code",
   "execution_count": 13,
   "id": "a4479bf9-75b3-4d86-b6f1-527f084a3cdf",
   "metadata": {
    "collapsed": true,
    "jupyter": {
     "outputs_hidden": true
    }
   },
   "outputs": [
    {
     "name": "stdout",
     "output_type": "stream",
     "text": [
      "*** 구구단 2단 ***\n",
      "2 x 1 = 2\n",
      "2 x 2 = 4\n",
      "2 x 3 = 6\n",
      "2 x 4 = 8\n",
      "2 x 5 = 10\n",
      "2 x 6 = 12\n",
      "2 x 7 = 14\n",
      "2 x 8 = 16\n",
      "\n",
      "\n",
      "*** 구구단 3단 ***\n",
      "3 x 1 = 3\n",
      "3 x 2 = 6\n",
      "3 x 3 = 9\n",
      "3 x 4 = 12\n",
      "3 x 5 = 15\n",
      "3 x 6 = 18\n",
      "3 x 7 = 21\n",
      "3 x 8 = 24\n",
      "\n",
      "\n",
      "*** 구구단 4단 ***\n",
      "4 x 1 = 4\n",
      "4 x 2 = 8\n",
      "4 x 3 = 12\n",
      "4 x 4 = 16\n",
      "4 x 5 = 20\n",
      "4 x 6 = 24\n",
      "4 x 7 = 28\n",
      "4 x 8 = 32\n",
      "\n",
      "\n",
      "*** 구구단 5단 ***\n",
      "5 x 1 = 5\n",
      "5 x 2 = 10\n",
      "5 x 3 = 15\n",
      "5 x 4 = 20\n",
      "5 x 5 = 25\n",
      "5 x 6 = 30\n",
      "5 x 7 = 35\n",
      "5 x 8 = 40\n",
      "\n",
      "\n",
      "*** 구구단 6단 ***\n",
      "6 x 1 = 6\n",
      "6 x 2 = 12\n",
      "6 x 3 = 18\n",
      "6 x 4 = 24\n",
      "6 x 5 = 30\n",
      "6 x 6 = 36\n",
      "6 x 7 = 42\n",
      "6 x 8 = 48\n",
      "\n",
      "\n",
      "*** 구구단 7단 ***\n",
      "7 x 1 = 7\n",
      "7 x 2 = 14\n",
      "7 x 3 = 21\n",
      "7 x 4 = 28\n",
      "7 x 5 = 35\n",
      "7 x 6 = 42\n",
      "7 x 7 = 49\n",
      "7 x 8 = 56\n",
      "\n",
      "\n",
      "*** 구구단 8단 ***\n",
      "8 x 1 = 8\n",
      "8 x 2 = 16\n",
      "8 x 3 = 24\n",
      "8 x 4 = 32\n",
      "8 x 5 = 40\n",
      "8 x 6 = 48\n",
      "8 x 7 = 56\n",
      "8 x 8 = 64\n",
      "\n",
      "\n",
      "*** 구구단 9단 ***\n",
      "9 x 1 = 9\n",
      "9 x 2 = 18\n",
      "9 x 3 = 27\n",
      "9 x 4 = 36\n",
      "9 x 5 = 45\n",
      "9 x 6 = 54\n",
      "9 x 7 = 63\n",
      "9 x 8 = 72\n",
      "\n",
      "\n"
     ]
    }
   ],
   "source": [
    "# 2~9단까지 => 숫자 2부터 9까지 반복순회!! 2) 피연산자로 1~9까지 반복순회!! 2 * 1 = 2\n",
    "\n",
    "for first in range(2, 10) :\n",
    "    print(f\"*** 구구단 {first}단 ***\")\n",
    "\n",
    "    for second in range(1, 9) :\n",
    "        print(f\"{first} x {second} = {first*second}\")\n",
    "    print(\"\\n\")"
   ]
  },
  {
   "cell_type": "code",
   "execution_count": 23,
   "id": "6620bc65-9ec4-4896-b173-afb376fe9bd7",
   "metadata": {
    "collapsed": true,
    "jupyter": {
     "outputs_hidden": true
    }
   },
   "outputs": [
    {
     "name": "stdout",
     "output_type": "stream",
     "text": [
      "*** 구구단 2단 ***\n",
      "2 x 1 = 2\n",
      "2 x 2 = 4\n",
      "2 x 3 = 6\n",
      "2 x 4 = 8\n",
      "2 x 5 = 10\n",
      "2 x 6 = 12\n",
      "2 x 7 = 14\n",
      "2 x 8 = 16\n",
      "2 x 9 = 18\n",
      "\n",
      "\n",
      "*** 구구단 3단 ***\n",
      "3 x 2 = 6\n",
      "3 x 4 = 12\n",
      "3 x 6 = 18\n",
      "3 x 8 = 24\n",
      "\n",
      "\n",
      "*** 구구단 4단 ***\n",
      "4 x 1 = 4\n",
      "4 x 2 = 8\n",
      "4 x 3 = 12\n",
      "4 x 4 = 16\n",
      "4 x 5 = 20\n",
      "4 x 6 = 24\n",
      "4 x 7 = 28\n",
      "4 x 8 = 32\n",
      "4 x 9 = 36\n",
      "\n",
      "\n",
      "*** 구구단 5단 ***\n",
      "5 x 2 = 10\n",
      "5 x 4 = 20\n",
      "5 x 6 = 30\n",
      "5 x 8 = 40\n",
      "\n",
      "\n",
      "*** 구구단 6단 ***\n",
      "6 x 1 = 6\n",
      "6 x 2 = 12\n",
      "6 x 3 = 18\n",
      "6 x 4 = 24\n",
      "6 x 5 = 30\n",
      "6 x 6 = 36\n",
      "6 x 7 = 42\n",
      "6 x 8 = 48\n",
      "6 x 9 = 54\n",
      "\n",
      "\n",
      "*** 구구단 7단 ***\n",
      "7 x 2 = 14\n",
      "7 x 4 = 28\n",
      "7 x 6 = 42\n",
      "7 x 8 = 56\n",
      "\n",
      "\n",
      "*** 구구단 8단 ***\n",
      "8 x 1 = 8\n",
      "8 x 2 = 16\n",
      "8 x 3 = 24\n",
      "8 x 4 = 32\n",
      "8 x 5 = 40\n",
      "8 x 6 = 48\n",
      "8 x 7 = 56\n",
      "8 x 8 = 64\n",
      "8 x 9 = 72\n",
      "\n",
      "\n",
      "*** 구구단 9단 ***\n",
      "9 x 2 = 18\n",
      "9 x 4 = 36\n",
      "9 x 6 = 54\n",
      "9 x 8 = 72\n",
      "\n",
      "\n"
     ]
    }
   ],
   "source": [
    "#위에서 작성한 코드를 활용해서 다음과 같은 결과를 출력해주세요. 구구단 2~9단까지 출력하되, 계산된 결과 값이 짝수인경우만 출력해주세요!!\n",
    "#예) 3 x 3 = 9 이기 때문에 출력되면 안됨. 2 x 4 = 8 이기 때문에 출력되어야함!!\n",
    "\n",
    "for first in range(2, 10) :\n",
    "    print(f\"*** 구구단 {first}단 ***\")\n",
    "\n",
    "    for second in range(1, 10) :\n",
    "        if (first*second) % 2 == 0 :\n",
    "            print(f\"{first} x {second} = {first*second}\")\n",
    "    print(\"\\n\")"
   ]
  },
  {
   "cell_type": "code",
   "execution_count": 31,
   "id": "f86cca5b-70ca-4dcf-80f8-1d83eecd068d",
   "metadata": {},
   "outputs": [
    {
     "name": "stdout",
     "output_type": "stream",
     "text": [
      "6207동 101호\n",
      "6207동 102호\n",
      "6207동 103호\n",
      "6207동 104호\n",
      "\n",
      "6208동 101호\n",
      "6208동 102호\n",
      "6208동 103호\n",
      "6208동 104호\n",
      "\n",
      "6209동 101호\n",
      "6209동 102호\n",
      "6209동 103호\n",
      "6209동 104호\n",
      "\n"
     ]
    }
   ],
   "source": [
    "#두개의 리스트\n",
    "dongs = [\"6209동\", \"6208동\", \"6207동\"]\n",
    "hos = [\"101호\", \"102호\", \"103호\", \"104호\"]\n",
    "\n",
    "# 6209동 101호\n",
    "# 6209동 102호\n",
    "# 6209동 103호\n",
    "# 6209동 104호\n",
    "\n",
    "# 6208동 101호\n",
    "# 6208동 102호\n",
    "# 6208동 103호\n",
    "# 6208동 104호\n",
    "\n",
    "# 6207동 101호\n",
    "temp_tuple = list()\n",
    "\n",
    "for dong in reversed(dongs) :\n",
    "    for ho in hos :\n",
    "        temp_tuple = \n",
    "    print(\"\")\n"
   ]
  },
  {
   "cell_type": "code",
   "execution_count": 34,
   "id": "1a90913c-4e67-4c84-82ad-48d10b2857a9",
   "metadata": {},
   "outputs": [
    {
     "data": {
      "text/plain": [
       "('coding01', 'coding02', 'coding03', 'coding04')"
      ]
     },
     "execution_count": 34,
     "metadata": {},
     "output_type": "execute_result"
    }
   ],
   "source": [
    "tupledata = (\"coding01\", \"coding02\", \"coding03\")\n",
    "# temp_list = list(tupledata)\n",
    "\n",
    "# temp_list.append(\"coding04\")\n",
    "# result = tuple(temp_list)\n",
    "\n",
    "# result\n",
    "\n",
    "tuple(list(tupledata) +  [\"coding04\"])"
   ]
  },
  {
   "cell_type": "code",
   "execution_count": 53,
   "id": "4a75c3c5-2860-4bed-aa6b-074244f8529d",
   "metadata": {},
   "outputs": [],
   "source": [
    "#딕셔너리 형태의 자료구조를 하나 만들어서 아래와 같이 값을 출력해주세요.\n",
    "\n",
    "# environment : 환경\n",
    "# company : 회사\n",
    "# goverment : 정부\n",
    "# face : 얼굴\n",
    "\n",
    "data = {\"environment\" : [\"환경\", \"x\"],\n",
    "        \"company\" : [\"회사\", \"o\"],\n",
    "        \"goverment\" : [\"정부\", \"x\"],\n",
    "        \"face\" : [\"얼굴\", \"x\"]}"
   ]
  },
  {
   "cell_type": "code",
   "execution_count": 54,
   "id": "d352edd2-6e45-435c-942f-cb6be03384fe",
   "metadata": {},
   "outputs": [
    {
     "name": "stdout",
     "output_type": "stream",
     "text": [
      "environment : ['환경', 'x']\n",
      "company : ['회사', 'o']\n",
      "goverment : ['정부', 'x']\n",
      "face : ['얼굴', 'x']\n"
     ]
    }
   ],
   "source": [
    "#자료구조 중 딕셔너리는 리터러블 하지 않은데 for문을 통해서 값을 출력하는 법\n",
    "for item in data.keys() :\n",
    "    print(f\"{item} : {data[item]}\")"
   ]
  },
  {
   "cell_type": "code",
   "execution_count": 63,
   "id": "62efc56d-9bd6-4d73-892a-6a34f6e03434",
   "metadata": {},
   "outputs": [
    {
     "name": "stdin",
     "output_type": "stream",
     "text": [
      "외운 항목에 대해서 입력하세요 goverment\n"
     ]
    },
    {
     "name": "stdout",
     "output_type": "stream",
     "text": [
      "environment\n"
     ]
    }
   ],
   "source": [
    "#사용자로부터 특정 사전에 등록되어있는 단어들 중 1개를 입력받으세요.\n",
    "#입력받은 단어의 경우, 외움표시 o 표시로 수정하고,\n",
    "#아직 외우지 못한 단어들만 출력하는 프로그램 코드를 작성해주세요!!\n",
    "\n",
    "english = input(\"외운 항목에 대해서 입력하세요\")\n",
    "\n",
    "#for item in data.keys() :\n",
    "if english in data.keys() :\n",
    "    data[english][1] = \"o\"\n",
    "    #    print(data[english][1]) #데이터 딕셔너리의 잉글리시로 리스트 선언된 데이터키의 1번쨰를 출력\n",
    "else :\n",
    "    print(\"사전에 존재하지 않는 단어입니다!\")\n",
    "\n",
    "for item in data.keys() :\n",
    "    data_list = data[item]\n",
    "    if data_list[1] == \"x\" :\n",
    "        print(item)"
   ]
  },
  {
   "cell_type": "code",
   "execution_count": 68,
   "id": "ecda260e-35f3-4a69-84e3-6d75d9860ada",
   "metadata": {},
   "outputs": [
    {
     "data": {
      "text/plain": [
       "{'environment': '환경',\n",
       " 'goverment': '정부',\n",
       " 'company': '환경',\n",
       " 'face': '얼굴',\n",
       " 'apple': '사과'}"
      ]
     },
     "execution_count": 68,
     "metadata": {},
     "output_type": "execute_result"
    }
   ],
   "source": [
    "#dict_all = {\"environment\":\"환경\", \"goverment\" : \"정부\"}\n",
    "#dict2 = {\"company\" : \"환경\", \"face\" : \"얼굴\"}\n",
    "#dict3 = {\"apple\" : \"사과\"}\n",
    "#dict_all 안에 dict2와 dict3 값을 모두 넣어주세요! 그리고 dict_all값을 출력해주세요\n",
    "\n",
    "dict_all = {\"environment\":\"환경\", \"goverment\" : \"정부\"}\n",
    "dict2 = {\"company\" : \"환경\", \"face\" : \"얼굴\"}\n",
    "dict3 = {\"apple\" : \"사과\"}\n",
    "\n",
    "for item in dict2.keys() :\n",
    "    dict_all[item] = dict2[item]\n",
    "\n",
    "for item in dict3.keys() :\n",
    "    dict_all[item] = dict3[item]\n",
    "\n",
    "dict_all"
   ]
  },
  {
   "cell_type": "code",
   "execution_count": 74,
   "id": "a07d8519-1bdd-47ca-8540-d0de08f7f4ea",
   "metadata": {},
   "outputs": [
    {
     "data": {
      "text/plain": [
       "{1, 3, 4, 5, 6, 7, 8}"
      ]
     },
     "execution_count": 74,
     "metadata": {},
     "output_type": "execute_result"
    }
   ],
   "source": [
    "number_list = {1, 2, 3}\n",
    "number_list.add(4)#세트에서 단일한 값 추가 하고 싶을때 add\n",
    "number_list.update([5, 6])#여러개 값을 추가하고 싶을때 이터러블한 상태(리스트)로 추가 가능\n",
    "number_list.update((7, 8))#튜플도 가능\n",
    "number_list.remove(2)\n",
    "\n",
    "number_list"
   ]
  },
  {
   "cell_type": "code",
   "execution_count": 81,
   "id": "0bddced2-2ab4-44ed-805f-e2bdc3a00c00",
   "metadata": {},
   "outputs": [
    {
     "name": "stdin",
     "output_type": "stream",
     "text": [
      "첫 번째 숫자:  77\n",
      "두 번째 숫자:  77\n"
     ]
    },
    {
     "name": "stdout",
     "output_type": "stream",
     "text": [
      "두 수를 곱한 결과: 5929\n"
     ]
    }
   ],
   "source": [
    "#임의의 숫자 2개를 사용자에게 받으면 해당 2개의 숫자를 곱한 값을 반환하는 함수를 만들고, 해당 함수의 결과값을 화면에 출력해주세요!!!\n",
    "# 사용자로부터 입력 받기\n",
    "# 함수 호출 및 결과 출력\n",
    "\n",
    "def mul_numbers(a, b):\n",
    "    return a * b\n",
    "\n",
    "num1 = int(input(\"첫 번째 숫자: \"))\n",
    "num2 = int(input(\"두 번째 숫자: \"))\n",
    "\n",
    "result = mul_numbers(num1, num2)\n",
    "print(\"두 수를 곱한 결과:\", result)"
   ]
  },
  {
   "cell_type": "code",
   "execution_count": 86,
   "id": "e57aaeec-3a95-4ba1-b8b8-918adfd3ef85",
   "metadata": {},
   "outputs": [
    {
     "name": "stdin",
     "output_type": "stream",
     "text": [
      "숫자를 입력하세요! 12\n",
      "숫자를 입력하세요! 12\n"
     ]
    },
    {
     "name": "stdout",
     "output_type": "stream",
     "text": [
      "144\n"
     ]
    }
   ],
   "source": [
    "num_all = [int(input(\"숫자를 입력하세요!\")) for _ in range(2)]\n",
    "\n",
    "def m(a, b) :\n",
    "    return a * b\n",
    "\n",
    "print(m(num_all[0], num_all[1]))"
   ]
  },
  {
   "cell_type": "code",
   "execution_count": 90,
   "id": "6edff234-5d32-4766-8ba4-36e857e9e88b",
   "metadata": {},
   "outputs": [
    {
     "name": "stdin",
     "output_type": "stream",
     "text": [
      "첫 번째 숫자:  15\n",
      "두 번째 숫자:  15\n"
     ]
    },
    {
     "name": "stdout",
     "output_type": "stream",
     "text": [
      "225\n"
     ]
    }
   ],
   "source": [
    "def mul_numbers():\n",
    "    a = int(input(\"첫 번째 숫자: \"))\n",
    "    b = int(input(\"두 번째 숫자: \"))\n",
    "    return a * b\n",
    "\n",
    "print(mul_numbers())"
   ]
  },
  {
   "cell_type": "code",
   "execution_count": 100,
   "id": "76ba2a2a-1f26-49b7-80c4-8066411c30b8",
   "metadata": {},
   "outputs": [
    {
     "name": "stdin",
     "output_type": "stream",
     "text": [
      "첫 번째 숫자 :  11\n",
      "두 번째 숫자 :  1\n",
      "+ or * :  2\n"
     ]
    },
    {
     "data": {
      "text/plain": [
       "'input, + or *'"
      ]
     },
     "execution_count": 100,
     "metadata": {},
     "output_type": "execute_result"
    }
   ],
   "source": [
    "#함수를 호출하는데 인자값 3개를 받을 수 있는 함수로 호출합니다.\n",
    "#func1(인자값1, 인자값2, 인자값3)\n",
    "#해당 함수의 3번째 인자값 = 인자값3, + => 첫번째 인자값과 두번째 인자값을 더한 결과값을 반환하도록 해주시고, \n",
    "#만약 3번째 인자값이 * 라면, \n",
    "#첫번째 인자값과 두번째 인자값을 곱한 결과값을 반환해주세요.\n",
    "#그런데 만약 3번째 인자값이 +도 아니고, *도 아니라면 무조건 0이라는 값을 반환하도록 하는 함수를 만들어주세요!!!\n",
    "\n",
    "def func1():\n",
    "    a = int(input(\"첫 번째 숫자 : \"))\n",
    "    b = int(input(\"두 번째 숫자 : \"))\n",
    "    c = input(\"+ or * : \")\n",
    "    if c == \"+\" :\n",
    "        result = a + b\n",
    "    elif c == \"*\" :\n",
    "        result = a * b\n",
    "    else :\n",
    "        result = \"input, + or *\"\n",
    "    return (result)\n",
    "\n",
    "func1()"
   ]
  },
  {
   "cell_type": "code",
   "execution_count": 104,
   "id": "6a4de11c-6265-44b9-84d0-3a3885eb8c35",
   "metadata": {},
   "outputs": [
    {
     "name": "stdout",
     "output_type": "stream",
     "text": [
      "3 6 10 0\n"
     ]
    }
   ],
   "source": [
    "def calc(data1, data2, way) :\n",
    "    if way == \"+\" :\n",
    "        return data1 + data2\n",
    "    elif way == \"*\" :\n",
    "        return data1 * data2\n",
    "    else :\n",
    "        return 0\n",
    "\n",
    "data01 = calc(1, 2, \"+\")\n",
    "data02 = calc(1, 5, \"+\")\n",
    "data03 = calc(2, 5, \"*\")\n",
    "data04 = calc(2, 5, \"-\")\n",
    "\n",
    "print(data01, data02, data03, data04)"
   ]
  }
 ],
 "metadata": {
  "kernelspec": {
   "display_name": "Python [conda env:base] *",
   "language": "python",
   "name": "conda-base-py"
  },
  "language_info": {
   "codemirror_mode": {
    "name": "ipython",
    "version": 3
   },
   "file_extension": ".py",
   "mimetype": "text/x-python",
   "name": "python",
   "nbconvert_exporter": "python",
   "pygments_lexer": "ipython3",
   "version": "3.13.5"
  }
 },
 "nbformat": 4,
 "nbformat_minor": 5
}
