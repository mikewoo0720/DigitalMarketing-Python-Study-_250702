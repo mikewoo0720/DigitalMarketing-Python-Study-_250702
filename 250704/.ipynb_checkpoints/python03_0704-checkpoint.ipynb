{
 "cells": [
  {
   "cell_type": "markdown",
   "id": "6bb9e6dd-4b53-4462-8c5a-f28d92d5120f",
   "metadata": {},
   "source": [
    "#### 자료구조 : set = 집합\n",
    "- 서로 다른 그룹 간 연산 작업을 보다 쉽게 하기 위한 목적으로 탄생된 자료구조(그룹간의 데이터의 속성 차이가 뭐가 있는가를 확인하기 위해씀)\n",
    "- set() // list() // tuple() // dict()\n",
    "- 리스트 (*각각의 세부값에 인덱스 값을 부여, 이터러블한 객체, 반복문)\n",
    "- 튜플 (*각각의 세부값에 인덱스 값을 부여, 이터러블한 객체, 반복문)\n",
    "- 딕셔너리 (*각각의 세부값에 인덱스 값을 부여x, 이터러블한 객체x, 반복문)\n",
    "- 세트 (*인덱스 값을 부여받지 않음, 이터러블한 객체x, 반복문)\n",
    "- 크롤링 시, 찾아온 값이 거의 대부분 리스트형태로 들어옴!! => 굳이 반복적으로 불필요하게 값을 찾아오는 경우 부지기수 => 중복된 값을 하나로 정리하는 기능을 가장 많이 사용함!!! 이후 다시 리스트 형태로 변환하여 데이터를 사용할때 많이 사용된다.\n",
    "- "
   ]
  },
  {
   "cell_type": "code",
   "execution_count": 2,
   "id": "b9e51681-7555-44c9-97be-2367ce184d43",
   "metadata": {},
   "outputs": [
    {
     "data": {
      "text/plain": [
       "set"
      ]
     },
     "execution_count": 2,
     "metadata": {},
     "output_type": "execute_result"
    }
   ],
   "source": [
    "data_set01 = set()\n",
    "type(data_set01)"
   ]
  },
  {
   "cell_type": "code",
   "execution_count": 4,
   "id": "cba03665-d7b0-4f85-a389-d72c3e43409c",
   "metadata": {},
   "outputs": [
    {
     "data": {
      "text/plain": [
       "{'apple', 'dell', 'lg', 'samsung'}"
      ]
     },
     "execution_count": 4,
     "metadata": {},
     "output_type": "execute_result"
    }
   ],
   "source": [
    "data_set02 = {\"apple\", \"dell\", \"samsung\", \"lg\"} #dict인지 set인지 확인하기 위해서는 {}안의 형태까지 확인해야 한다.\n",
    "data_set02"
   ]
  },
  {
   "cell_type": "code",
   "execution_count": 5,
   "id": "60ea28b4-4ab5-41d1-a46c-78ea3521d185",
   "metadata": {},
   "outputs": [
    {
     "data": {
      "text/plain": [
       "{'a', 'e', 'l', 'p'}"
      ]
     },
     "execution_count": 5,
     "metadata": {},
     "output_type": "execute_result"
    }
   ],
   "source": [
    "data_set03 = set(\"apple\")#셋에 인자값을 하나만 입력할 수 있는데 \n",
    "data_set03"
   ]
  },
  {
   "cell_type": "code",
   "execution_count": 7,
   "id": "df57b32f-bea3-43fa-8806-6e9985e1db5d",
   "metadata": {},
   "outputs": [
    {
     "data": {
      "text/plain": [
       "{'jyp', 'sm'}"
      ]
     },
     "execution_count": 7,
     "metadata": {},
     "output_type": "execute_result"
    }
   ],
   "source": [
    "#data_set04 = set(\"sm\", \"jyp\")#안된다\n",
    "\n",
    "{\"sm\", \"jyp\"}"
   ]
  },
  {
   "cell_type": "code",
   "execution_count": 8,
   "id": "002bd2db-e9f9-44ee-aecb-99cbecd2ef36",
   "metadata": {},
   "outputs": [
    {
     "name": "stdout",
     "output_type": "stream",
     "text": [
      "dell\n",
      "lg\n",
      "apple\n",
      "samsung\n"
     ]
    }
   ],
   "source": [
    "for data in data_set02 :\n",
    "    print(data)"
   ]
  },
  {
   "cell_type": "code",
   "execution_count": 14,
   "id": "624cf07a-3e8e-4694-b3a4-08941f5d2b16",
   "metadata": {},
   "outputs": [
    {
     "name": "stdout",
     "output_type": "stream",
     "text": [
      "False\n",
      "True\n"
     ]
    }
   ],
   "source": [
    "#data_set02[0] #세트는 인덱스 값이 없다\n",
    "\n",
    "print(\"motolora\" in data_set02) #세트만의 문법 중 옆과 같은 형식으로 특정 데이터값 존재 여부를 확인할 수 있다. 그렇기 때문에 세트가 유용하게 사용될 때가 있다.\n",
    "print(\"apple\" in data_set02) #세트에 특정값이 있는지 확인 가능"
   ]
  },
  {
   "cell_type": "code",
   "execution_count": 20,
   "id": "477f2958-38d6-4678-976e-e3b47c1e828f",
   "metadata": {},
   "outputs": [],
   "source": [
    "data04 = {\"피카츄\", \"라이츄\", \"꼬부기\"}"
   ]
  },
  {
   "cell_type": "code",
   "execution_count": 21,
   "id": "600d96e8-bc7f-44c5-9dc3-36471dfc76ad",
   "metadata": {},
   "outputs": [],
   "source": [
    "data05 = {\"잠만보\", \"파이리\", \"피카츄\"}"
   ]
  },
  {
   "cell_type": "code",
   "execution_count": 24,
   "id": "b1cdb6a1-93e9-48e2-af92-3fc98fd85c0a",
   "metadata": {},
   "outputs": [
    {
     "data": {
      "text/plain": [
       "{'피카츄'}"
      ]
     },
     "execution_count": 24,
     "metadata": {},
     "output_type": "execute_result"
    }
   ],
   "source": [
    "data04 & data05 #세트가 사용되는 이유중 하나 &(엔드 연산자)로 교집합을 찾을 수 있다  :: 교집합"
   ]
  },
  {
   "cell_type": "code",
   "execution_count": 27,
   "id": "4020bf57-af5e-4bbd-bee2-969dbfcf86ae",
   "metadata": {},
   "outputs": [
    {
     "data": {
      "text/plain": [
       "{'꼬부기', '라이츄', '잠만보', '파이리', '피카츄'}"
      ]
     },
     "execution_count": 27,
     "metadata": {},
     "output_type": "execute_result"
    }
   ],
   "source": [
    "data04 | data05 #합집합(세트의 근본적인 이유 : 데이터 중복값을 덜어내기 위해 나왔다)"
   ]
  },
  {
   "cell_type": "code",
   "execution_count": 31,
   "id": "d0aefd0f-ede4-4d29-a7d4-7ce2c8e74d96",
   "metadata": {},
   "outputs": [
    {
     "name": "stdout",
     "output_type": "stream",
     "text": [
      "{'꼬부기', '라이츄'}\n",
      "{'파이리', '잠만보'}\n"
     ]
    }
   ],
   "source": [
    "print(data04 - data05) #차집합(빼주는순서 중요)\n",
    "print(data05 - data04)"
   ]
  },
  {
   "cell_type": "code",
   "execution_count": 32,
   "id": "3bb2e25d-901b-4be8-b425-05d359e87261",
   "metadata": {},
   "outputs": [
    {
     "data": {
      "text/plain": [
       "{'꼬부기', '라이츄', '잠만보', '파이리'}"
      ]
     },
     "execution_count": 32,
     "metadata": {},
     "output_type": "execute_result"
    }
   ],
   "source": [
    "data04 ^ data05 #교집합을 제외한 나머지"
   ]
  }
 ],
 "metadata": {
  "kernelspec": {
   "display_name": "Python [conda env:base] *",
   "language": "python",
   "name": "conda-base-py"
  },
  "language_info": {
   "codemirror_mode": {
    "name": "ipython",
    "version": 3
   },
   "file_extension": ".py",
   "mimetype": "text/x-python",
   "name": "python",
   "nbconvert_exporter": "python",
   "pygments_lexer": "ipython3",
   "version": "3.13.5"
  }
 },
 "nbformat": 4,
 "nbformat_minor": 5
}
