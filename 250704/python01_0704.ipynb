{
 "cells": [
  {
   "cell_type": "markdown",
   "id": "f6cf0545-1f91-4ea3-bd50-0ff789cb2f42",
   "metadata": {},
   "source": [
    "#### 파이썬 자료구조\n",
    "- list => 하나의 그룹안에 순번을 매겨서 값을 저장해놓은 형태 (*값을 수정, 삭제 등 변경 허용)\n",
    "- tuple => 하나의 그룹안에 순번을 매겨서 값을 저장해놓은 형태 (*값을 수정, 삭제 등 변경 허용x)\n",
    "- dictionary => 사전 (*단어 : 뜻, 형태, 예시 등등 세부정보) => key(*단어) & value(*해당 당어에 대한 의미) => 속성 (*property)\n",
    "- 딕셔너리는 키값을 기준으로 모든것이 움직이고 다른 언어의 리얼한 객체와 가장 유사한 형태를 가지고 있다.\n",
    "- CRUD => 웹 사이트 구현정도 || 프로그램 난이도 // 고급언어인지, 저급언어인지 등을 구분\n",
    "- CRUD => Create // Read // Update // Delete => 네가지 기능이 다 작동한다->고급언어로 난이도 상단계 포지션\n",
    "- 프로그래밍언어는 절대 정답x => 예제 문제 => 제가 문제를 해결한 방법 // 수강생들이 문제를 해결한 방법 => X\n",
    "- 개발영역 => 결과가 도출된다면 모두 답 => 어떤 답이 \"효과\"적 || \"효율\"이 있는가?\n",
    "- 만들고자 하는 프로그램이 지향하는 것이 무엇이냐? => 안정성 // 속도 // 메모리?\n",
    "- 시간 => 얼마나 빠른시간 내 코드를 처리할 수 있는가 => 시간복잡도라는 개념\n",
    "- 어떤 코드가 실행되는데 있어서 얼만큼 발리 처리하냐 => 빅오메가 // 빅세타 // 빅오 개념 => 하드웨어 => 컴퓨터의 성능차이\n",
    "- 빅오 시간 체크 => 가장 많은 시간을 차지하는 것 하나를 체크 => 반복문 =>반복문안에 연산식만 봐도 코드가 효율적인지 알수있다."
   ]
  },
  {
   "cell_type": "code",
   "execution_count": 2,
   "id": "555ba341-b528-4478-b377-9c006566ed94",
   "metadata": {},
   "outputs": [
    {
     "data": {
      "text/plain": [
       "{'name': 'Mike'}"
      ]
     },
     "execution_count": 2,
     "metadata": {},
     "output_type": "execute_result"
    }
   ],
   "source": [
    "dict1 = {\"name\": \"Mike\"}\n",
    "dict1"
   ]
  },
  {
   "cell_type": "code",
   "execution_count": 3,
   "id": "5c62a3e8-72a6-4a76-bc0f-e9caf983aaf7",
   "metadata": {},
   "outputs": [
    {
     "data": {
      "text/plain": [
       "{'korean': 95, 'math': 100, 'science': 60}"
      ]
     },
     "execution_count": 3,
     "metadata": {},
     "output_type": "execute_result"
    }
   ],
   "source": [
    "dict2 = {\"korean\":95, \"math\":100, \"science\":60}\n",
    "dict2"
   ]
  },
  {
   "cell_type": "code",
   "execution_count": 6,
   "id": "e69b6651-fa5d-43cb-9a3a-575dfb2be7ea",
   "metadata": {},
   "outputs": [
    {
     "name": "stdout",
     "output_type": "stream",
     "text": [
      "<class 'dict'>\n"
     ]
    }
   ],
   "source": [
    "#list1 = [] | [1, 2] | list()\n",
    "#tuple = () | (1, 2) | tuple()\n",
    "\n",
    "dict1 = {} #{} => 딕셔너리가 아니라 set라는 자료구조 일수도 있음 차이점 : 중괄호로 시작하지만 속성값 여부를 가지고 확인\n",
    "dict2 = dict()\n",
    "\n",
    "print(type(dict2))"
   ]
  },
  {
   "cell_type": "code",
   "execution_count": 16,
   "id": "1cd0968b-fde9-4fb7-afa6-caa63d0fea71",
   "metadata": {},
   "outputs": [],
   "source": [
    "data_dict = {\"한국\":\"KR\", \"일본\":\"JP\", \"중국\":\"CN\"}"
   ]
  },
  {
   "cell_type": "code",
   "execution_count": 10,
   "id": "4363cacb-8f80-4bc1-bd27-ac284d9f6bed",
   "metadata": {},
   "outputs": [
    {
     "data": {
      "text/plain": [
       "'KR'"
      ]
     },
     "execution_count": 10,
     "metadata": {},
     "output_type": "execute_result"
    }
   ],
   "source": [
    "data_dict[\"한국\"]#딕셔너리는 각각 속성값이 있기때문에 lsit처럼 index값이 필요없다."
   ]
  },
  {
   "cell_type": "code",
   "execution_count": 19,
   "id": "957cd78b-4f67-4cd4-b4ca-66c870f1c423",
   "metadata": {},
   "outputs": [],
   "source": [
    "data_dict[\"미국\"] = \"US\"#리스트 자료구조 처럼 데이터 수정(추가 삭제 등) 가능"
   ]
  },
  {
   "cell_type": "code",
   "execution_count": 12,
   "id": "badc7524-10cc-49e7-b8d5-ca1affaa6a21",
   "metadata": {},
   "outputs": [
    {
     "data": {
      "text/plain": [
       "{'한국': 'KR', '일본': 'JP', '중국': 'CN', '미국': 'US'}"
      ]
     },
     "execution_count": 12,
     "metadata": {},
     "output_type": "execute_result"
    }
   ],
   "source": [
    "data_dict"
   ]
  },
  {
   "cell_type": "code",
   "execution_count": 17,
   "id": "28302c99-460f-4e44-b3b7-3cc300343ecf",
   "metadata": {},
   "outputs": [],
   "source": [
    "del data_dict[\"일본\"]#del 이라는 명령어(예약어)를 통해 삭제 가능"
   ]
  },
  {
   "cell_type": "code",
   "execution_count": 20,
   "id": "46603b05-1bd6-421e-af12-c426f5f2e61d",
   "metadata": {},
   "outputs": [
    {
     "data": {
      "text/plain": [
       "{'한국': 'KR', '중국': 'CN', '미국': 'US'}"
      ]
     },
     "execution_count": 20,
     "metadata": {},
     "output_type": "execute_result"
    }
   ],
   "source": [
    "data_dict"
   ]
  },
  {
   "cell_type": "code",
   "execution_count": 22,
   "id": "d1d3208d-300e-4f9f-b9d0-1b1387b81414",
   "metadata": {},
   "outputs": [],
   "source": [
    "data_dict[\"미국\"] = \"USA\""
   ]
  },
  {
   "cell_type": "code",
   "execution_count": 23,
   "id": "5106b850-7047-4eec-a028-ea68cba5d8f9",
   "metadata": {},
   "outputs": [
    {
     "data": {
      "text/plain": [
       "{'한국': 'KR', '중국': 'CN', '미국': 'USA'}"
      ]
     },
     "execution_count": 23,
     "metadata": {},
     "output_type": "execute_result"
    }
   ],
   "source": [
    "data_dict"
   ]
  },
  {
   "cell_type": "code",
   "execution_count": 32,
   "id": "a360fc67-e478-402b-b8e1-24ced3b92ec7",
   "metadata": {},
   "outputs": [
    {
     "name": "stdout",
     "output_type": "stream",
     "text": [
      "dict_keys(['한국', '중국', '미국'])\n",
      "<class 'dict_keys'>\n",
      "dict_values(['KR', 'CN', 'USA'])\n",
      "<class 'dict_values'>\n",
      "dict_items([('한국', 'KR'), ('중국', 'CN'), ('미국', 'USA')])\n"
     ]
    }
   ],
   "source": [
    "keys = data_dict.keys()\n",
    "print(keys)\n",
    "print(type(keys))\n",
    "\n",
    "values = data_dict.values()\n",
    "print(values)\n",
    "print(type(values))\n",
    "\n",
    "items = data_dict.items()\n",
    "print(items)\n",
    "\n",
    "#딕셔너리는 인덱스값이 아니라 키값으로 속성값을 설명하기 때문에 리스트 처럼 이터러블 하지 않기 때문에 반복문을 쓸 수 없다.\n",
    "#그렇기 때문에 딕셔너리 메서드 함수를 이용해서 리스트로 변환하기"
   ]
  },
  {
   "cell_type": "code",
   "execution_count": 33,
   "id": "71003711-fb49-4e68-9457-943771b5a1ec",
   "metadata": {},
   "outputs": [
    {
     "name": "stdout",
     "output_type": "stream",
     "text": [
      "한국\n",
      "중국\n",
      "미국\n"
     ]
    }
   ],
   "source": [
    "for key in keys : #뭐든지 리스트형식으로 이터러블하게 만들어야 반복순회 할 수 있기 때문에 리스트를 집중해서 알아보자ㅠ\n",
    "    print(key)"
   ]
  },
  {
   "cell_type": "code",
   "execution_count": 34,
   "id": "811c5b2f-c888-449e-abce-03209eb2c2cf",
   "metadata": {},
   "outputs": [
    {
     "name": "stdout",
     "output_type": "stream",
     "text": [
      "('한국', 'KR')\n",
      "('중국', 'CN')\n",
      "('미국', 'USA')\n"
     ]
    }
   ],
   "source": [
    "for item in items :\n",
    "    print(item)"
   ]
  },
  {
   "cell_type": "markdown",
   "id": "1a0f3af3-2782-498a-ab91-ee85ea20956e",
   "metadata": {},
   "source": [
    "#### 리스트\n",
    "- HTML문서상에 제목이 여러개 있는 경우"
   ]
  },
  {
   "cell_type": "code",
   "execution_count": 35,
   "id": "f81bc8de-76b7-49d5-978e-a9f3f3237ca0",
   "metadata": {},
   "outputs": [
    {
     "name": "stdout",
     "output_type": "stream",
     "text": [
      "뉴스1\n",
      "뉴스2\n",
      "뉴스3\n",
      "뉴스4\n"
     ]
    }
   ],
   "source": [
    "titles = [\"뉴스1\", \"뉴스2\", \"뉴스3\", \"뉴스4\"]\n",
    "\n",
    "for title in titles :\n",
    "    print(title)"
   ]
  },
  {
   "cell_type": "markdown",
   "id": "a57d0be3-4c7f-417f-8357-4788c3bd9faf",
   "metadata": {},
   "source": [
    "####딕셔너리\n",
    "- 자료의 형태가 뭔가로 정의되어 있어 매칭 할 수 있어 매칭된 내용으로 정의해서 불러오고 싶은 경우 유용함(key와 value 값으로 구성되어 있기때문)"
   ]
  },
  {
   "cell_type": "code",
   "execution_count": 44,
   "id": "cf184fae-561f-4ae2-88db-d4b7f9d6412a",
   "metadata": {},
   "outputs": [
    {
     "name": "stdout",
     "output_type": "stream",
     "text": [
      "[{'title': '뉴스1', 'link': 'https://www.naver.com'}, {'title': '뉴스2', 'link': 'https://www.naver.com'}, {'title': '뉴스3', 'link': 'https://www.naver.com'}]\n"
     ]
    },
    {
     "ename": "TypeError",
     "evalue": "'builtin_function_or_method' object is not subscriptable",
     "output_type": "error",
     "traceback": [
      "\u001b[1;31m---------------------------------------------------------------------------\u001b[0m",
      "\u001b[1;31mTypeError\u001b[0m                                 Traceback (most recent call last)",
      "Cell \u001b[1;32mIn[44], line 19\u001b[0m\n\u001b[0;32m     16\u001b[0m articleList \u001b[38;5;241m=\u001b[39m [article01, article02, article03]\n\u001b[0;32m     18\u001b[0m \u001b[38;5;28mprint\u001b[39m(articleList)\n\u001b[1;32m---> 19\u001b[0m articleList\u001b[38;5;241m.\u001b[39msort[\u001b[38;5;124m\"\u001b[39m\u001b[38;5;124mtitle\u001b[39m\u001b[38;5;124m\"\u001b[39m]\n\u001b[0;32m     20\u001b[0m articleList[\u001b[38;5;241m0\u001b[39m][\u001b[38;5;124m\"\u001b[39m\u001b[38;5;124mtitle\u001b[39m\u001b[38;5;124m\"\u001b[39m]\n",
      "\u001b[1;31mTypeError\u001b[0m: 'builtin_function_or_method' object is not subscriptable"
     ]
    }
   ],
   "source": [
    "article01 = {\n",
    "    \"title\":\"뉴스1\",\n",
    "    \"link\":\"https://www.naver.com\"\n",
    "}\n",
    "\n",
    "article02 = {\n",
    "    \"title\":\"뉴스2\",\n",
    "    \"link\":\"https://www.naver.com\"\n",
    "}\n",
    "\n",
    "article03 = {\n",
    "    \"title\":\"뉴스3\",\n",
    "    \"link\":\"https://www.naver.com\"\n",
    "}\n",
    "\n",
    "articleList = [article01, article02, article03]\n",
    "\n",
    "print(articleList)\n",
    "#articleList.sort[\"title\"]\n",
    "articleList[0][\"title\"]"
   ]
  }
 ],
 "metadata": {
  "kernelspec": {
   "display_name": "Python [conda env:base] *",
   "language": "python",
   "name": "conda-base-py"
  },
  "language_info": {
   "codemirror_mode": {
    "name": "ipython",
    "version": 3
   },
   "file_extension": ".py",
   "mimetype": "text/x-python",
   "name": "python",
   "nbconvert_exporter": "python",
   "pygments_lexer": "ipython3",
   "version": "3.13.5"
  }
 },
 "nbformat": 4,
 "nbformat_minor": 5
}
