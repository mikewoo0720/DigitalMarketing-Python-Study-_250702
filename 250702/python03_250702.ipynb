{
 "cells": [
  {
   "cell_type": "markdown",
   "id": "56f6a543-d31b-4438-b138-db690fba95ce",
   "metadata": {},
   "source": [
    "#### 조건문\n",
    "```\n",
    "if 조건 : \n",
    "    실행문(조건이 참일 경우 실행)\n",
    "if 조건1 and 조건2 :\n",
    "    실행문(조건1과 조건2 모두 참일 경우 실행)\n",
    "if 조건1 or 조건2 :\n",
    "    실행문(조건1과 조건2 중 한가지라도 참일 경우 실행)\n",
    "if not 조건 :\n",
    "    실행문(조건이 참이 아닐 경우 실행)\n",
    "```\n",
    "```\n",
    "if 조건 :\n",
    "    실행문\n",
    "else :\n",
    "    실행문\n",
    "```"
   ]
  },
  {
   "cell_type": "code",
   "execution_count": 5,
   "id": "94bf1dd7-9e8f-4e33-8eb6-5e8ba587dc88",
   "metadata": {},
   "outputs": [
    {
     "name": "stdin",
     "output_type": "stream",
     "text": [
      "당신의 나이를 알려주세요. 14\n"
     ]
    },
    {
     "name": "stdout",
     "output_type": "stream",
     "text": [
      "미성년자이니 학업에 집중하세요\n"
     ]
    }
   ],
   "source": [
    "age = int(input(\"당신의 나이를 알려주세요.\"))\n",
    "\n",
    "if age >= 19 :\n",
    "    print(\"당신은 성인입니다\")\n",
    "    print(\"축하드립니다.\")\n",
    "    print(\"이제부터 인생은 시작입니다\")\n",
    "    print(\"무엇이든 할 수 있습니다\")\n",
    "    print(\"응원합니다.\") \n",
    "else :\n",
    "    print(\"미성년자이니 학업에 집중하세요\")"
   ]
  },
  {
   "cell_type": "code",
   "execution_count": 54,
   "id": "182035c4-9873-4abd-8d31-990d200e0044",
   "metadata": {},
   "outputs": [
    {
     "name": "stdin",
     "output_type": "stream",
     "text": [
      "종현이의 나이는? 15\n",
      "민우이의 나이는? 24\n"
     ]
    },
    {
     "name": "stdout",
     "output_type": "stream",
     "text": [
      "종현이는 못들어갑니다\n"
     ]
    }
   ],
   "source": [
    "age1 = int(input(\"종현이의 나이는?\"))\n",
    "age2 = int(input(\"민우이의 나이는?\"))\n",
    "\n",
    "if age1 >= 19 and age2 >= 19 :\n",
    "    print(\"영화관 입장 가능!\")\n",
    "\n",
    "elif age1 >= 19 and age2 < 19 :\n",
    "    print(\"민우는 못들어갑니다\")      \n",
    "\n",
    "elif age1 < 19 and age2 >= 19 :\n",
    "    print(\"종현이는 못들어갑니다\")\n",
    "\n",
    "else :\n",
    "    print(\"아쉽지만 둘다 미성년자라 입장불가입니다\")"
   ]
  },
  {
   "cell_type": "code",
   "execution_count": 19,
   "id": "21fdb401-eb7c-4e94-9ebd-5ca23d90dd96",
   "metadata": {},
   "outputs": [
    {
     "name": "stdin",
     "output_type": "stream",
     "text": [
      "승원이의 나이는? 24\n"
     ]
    },
    {
     "name": "stdout",
     "output_type": "stream",
     "text": [
      "영화관 입장가능!\n"
     ]
    }
   ],
   "source": [
    "age3 = int(input(\"승원이의 나이는?\"))\n",
    "\n",
    "if not age3 <= 19 :\n",
    "    print(\"영화관 입장가능!\")"
   ]
  },
  {
   "cell_type": "code",
   "execution_count": 21,
   "id": "64f5da42-4dae-4432-9c67-a73e3605f667",
   "metadata": {},
   "outputs": [
    {
     "name": "stdin",
     "output_type": "stream",
     "text": [
      "현재 가지고 있는 현금은 얼마인가요? 140000\n"
     ]
    },
    {
     "name": "stdout",
     "output_type": "stream",
     "text": [
      "오늘 저녁은 파티다~!\n"
     ]
    }
   ],
   "source": [
    "cash = int(input(\"현재 가지고 있는 현금은 얼마인가요?\"))\n",
    "\n",
    "if cash > 100000 :\n",
    "    print(\"오늘 저녁은 파티다~!\")\n",
    "else :\n",
    "    print(\"아쉽지만 오늘 저녁은 집에서 먹자ㅜㅜ\")"
   ]
  },
  {
   "cell_type": "code",
   "execution_count": 22,
   "id": "78eb6e33-a903-4793-a89c-479e56a5103c",
   "metadata": {},
   "outputs": [
    {
     "name": "stdin",
     "output_type": "stream",
     "text": [
      "당신의 나이를 알려주세요. 15\n"
     ]
    },
    {
     "name": "stdout",
     "output_type": "stream",
     "text": [
      "당신은 미성년자입니다.\n"
     ]
    }
   ],
   "source": [
    "#사용자로 부터 나이를 입력 받아서, 19세 이상이면 당신은 성인입니다. 19세 미만이라면 당신은 미성년자입니다. 라고 출력\n",
    "\n",
    "age4 = int(input(\"당신의 나이를 알려주세요.\"))\n",
    "\n",
    "if age4 >= 19 :\n",
    "    print(\"당신은 성인입니다.\")\n",
    "else :\n",
    "    print(\"당신은 미성년자입니다.\")"
   ]
  },
  {
   "cell_type": "code",
   "execution_count": 56,
   "id": "3130badb-b3db-49cf-bce7-5601b9ea680c",
   "metadata": {},
   "outputs": [
    {
     "name": "stdin",
     "output_type": "stream",
     "text": [
      "당신의 나이를 알려주세요. 6\n"
     ]
    },
    {
     "name": "stdout",
     "output_type": "stream",
     "text": [
      "당신은 아동입니다\n"
     ]
    }
   ],
   "source": [
    "#사용자로부터 나이를 입력받아서 19세 이상이면 당신은 성인 입니다. 13세 이상 19세 이하이면 당신은 청소년 입니다. 13세 미만 5세 이상이면 당신은 아동입니다.\n",
    "\n",
    "userage = int(input(\"당신의 나이를 알려주세요.\"))\n",
    "\n",
    "if userage >= 19 :\n",
    "    print(\"당신은 성인입니다.\")\n",
    "\n",
    "elif userage >= 13 and userage < 19 :\n",
    "    print(\"당신은 청소년입니다.\")\n",
    "\n",
    "elif userage >= 5 and userage < 13 :\n",
    "    print(\"당신은 아동입니다\")"
   ]
  },
  {
   "cell_type": "code",
   "execution_count": null,
   "id": "f198f81f-9685-458a-8911-038eba921d0a",
   "metadata": {},
   "outputs": [],
   "source": [
    "#### else문 유의사항\n",
    "- 어떤 조건문 안에서도 1회만 사용할 수 있음!!!\n",
    "- else문은 조건문 중간에 절대 입력할 수 없음!!!\n",
    "- else문은 독립적으로 조건식을 받을 수 없음!!!\n",
    "- else문은 필수조건이 아니다. (elif로만 조건 마지막까지 끌고 갈 수 있음!!!!!)\n",
    "- 조건의 조건문 사용시 else문 마무리 후 밑에 if문 중첩사용(중첩 if문 사용 시 들여쓰기 매우매우 주의하여 사용할 것)"
   ]
  },
  {
   "cell_type": "code",
   "execution_count": 65,
   "id": "453c2b2a-b86a-452f-9007-905a8332ee48",
   "metadata": {},
   "outputs": [
    {
     "name": "stdin",
     "output_type": "stream",
     "text": [
      "현금을 얼마나가지고 있으신가요? 3000\n"
     ]
    },
    {
     "name": "stdout",
     "output_type": "stream",
     "text": [
      "집으로 가세요\n"
     ]
    }
   ],
   "source": [
    "#사용자로부터 현재 현금이 얼마를 가지고 있는지 확인 후 10만원 이상이라면 레스토랑으로 갑시다! 출력,\n",
    "#5만원 이상이라면 뷔페로 갑시다! 출력,\n",
    "#5만원 미만이라면 집으로가세요! 출력\n",
    "\n",
    "cash = int(input(\"현금을 얼마나가지고 있으신가요?\"))\n",
    "\n",
    "if cash >= 100000 :\n",
    "    print(\"레스토랑으로 갑시다!!!\")\n",
    "\n",
    "else :\n",
    "    if cash >= 50000 :\n",
    "        print(\"뷔페로 갑시다\")\n",
    "    else :\n",
    "        print(\"집으로 가세요\")"
   ]
  },
  {
   "cell_type": "code",
   "execution_count": 97,
   "id": "06cdf159-ff6f-4f92-a0b6-034381171998",
   "metadata": {},
   "outputs": [
    {
     "name": "stdin",
     "output_type": "stream",
     "text": [
      "현금입력 55000\n"
     ]
    },
    {
     "name": "stdout",
     "output_type": "stream",
     "text": [
      "분식집\n"
     ]
    }
   ],
   "source": [
    "#사용자로부터 얼마의 현급이 있는지 확인 후 10만원 초과인 경우 레스토랑 출력,\n",
    "#그렇지 않은 경우 만약 5만원 미만인 경우 집출력\n",
    "#7만원 초과인 경우, 패밀리레스토랑 출력\n",
    "#6만원 초과인 경우, 한식집 출력\n",
    "#그렇지 않으면 분식집 출력\n",
    "\n",
    "cash = int(input(\"현금입력\"))\n",
    "\n",
    "if cash > 100000 :\n",
    "    print(\"레스토랑\")\n",
    "    \n",
    "else :\n",
    "    \n",
    "    if cash < 50000 :\n",
    "        print(\"집\")\n",
    "\n",
    "    elif cash > 70000 :\n",
    "        print(\"패밀리레스토랑\")\n",
    "    \n",
    "    elif cash > 60000 :\n",
    "        print(\"한식집\")\n",
    "    \n",
    "    else :\n",
    "        print(\"분식집\")"
   ]
  },
  {
   "cell_type": "code",
   "execution_count": 102,
   "id": "014dbd77-9ec3-412f-b129-02d851032cee",
   "metadata": {},
   "outputs": [
    {
     "name": "stdin",
     "output_type": "stream",
     "text": [
      "현금입력 1100000\n"
     ]
    },
    {
     "name": "stdout",
     "output_type": "stream",
     "text": [
      "레스토랑\n"
     ]
    }
   ],
   "source": [
    "cash = int(input(\"현금입력\"))\n",
    "\n",
    "if cash > 100000 :\n",
    "    print(\"레스토랑\")\n",
    "    \n",
    "else :\n",
    "    if cash > 50000 :\n",
    "        if cash > 70000 :\n",
    "            print(\"패밀리레스토랑\")\n",
    "        elif cash > 60000 :\n",
    "            print(\"한식집\")\n",
    "        else :\n",
    "            print(\"분식집\")\n",
    "    \n",
    "    else :\n",
    "        print(\"집\")"
   ]
  },
  {
   "cell_type": "code",
   "execution_count": 108,
   "id": "435c73a9-1047-40f2-9a39-ad3d7a98d978",
   "metadata": {},
   "outputs": [
    {
     "name": "stdin",
     "output_type": "stream",
     "text": [
      "숫자입력 3\n"
     ]
    },
    {
     "name": "stdout",
     "output_type": "stream",
     "text": [
      "홀수입니다.\n"
     ]
    }
   ],
   "source": [
    "###사용자로부터 특정 숫자를 입력받은 후 해당 숫자가 홀수 인지, 짝수 인지 분별해서 출력해주세요!\n",
    "\n",
    "a = int(input(\"숫자입력\"))\n",
    "\n",
    "if a % 2 == 0 :\n",
    "    print(\"even하다.\")\n",
    "\n",
    "else :\n",
    "    print(\"odd하다.\")"
   ]
  },
  {
   "cell_type": "code",
   "execution_count": 122,
   "id": "e7c91da5-6038-4d82-941b-353c1138a565",
   "metadata": {},
   "outputs": [
    {
     "name": "stdin",
     "output_type": "stream",
     "text": [
      "숫자입력 1\n",
      "숫자입력 2\n",
      "숫자입력 3\n"
     ]
    },
    {
     "name": "stdout",
     "output_type": "stream",
     "text": [
      "3가지 숫자 중 가장 작은 숫자는  1\n"
     ]
    }
   ],
   "source": [
    "###사용자로부터 3개의 숫자를 입력받은 후 그중 가장 작은 숫자를 출력해주세요!\n",
    "\n",
    "a = int(input(\"숫자입력\"))\n",
    "b = int(input(\"숫자입력\"))\n",
    "c = int(input(\"숫자입력\"))\n",
    "\n",
    "if a < b and a < c :\n",
    "    print(\"3가지 숫자 중 가장 작은 숫자는 \", a)\n",
    "    \n",
    "elif b < c and b < a :\n",
    "    print(\"3가지 숫자 중 가장 작은 숫자는 \", b)\n",
    "    \n",
    "elif c < a and c < b :\n",
    "    print(\"3가지 숫자 중 가장 작은 숫자는 \", c)"
   ]
  },
  {
   "cell_type": "code",
   "execution_count": 130,
   "id": "3c0a8ded-d4d9-47fa-bad2-5ce9cff95baa",
   "metadata": {},
   "outputs": [
    {
     "name": "stdin",
     "output_type": "stream",
     "text": [
      "숫자입력 3\n",
      "숫자입력 2\n",
      "숫자입력 1\n"
     ]
    },
    {
     "name": "stdout",
     "output_type": "stream",
     "text": [
      "1\n"
     ]
    },
    {
     "data": {
      "text/plain": [
       "1"
      ]
     },
     "execution_count": 130,
     "metadata": {},
     "output_type": "execute_result"
    }
   ],
   "source": [
    "###사용자로부터 3개의 숫자를 입력받은 후 그중 가장 작은 숫자를 출력해주세요!\n",
    "\n",
    "a = int(input(\"숫자입력\"))\n",
    "b = int(input(\"숫자입력\"))\n",
    "c = int(input(\"숫자입력\"))\n",
    "\n",
    "minimum = [a, b, c]\n",
    "minimum.sort()\n",
    "print(minimum[0])\n",
    "min(minimum)"
   ]
  },
  {
   "cell_type": "code",
   "execution_count": 125,
   "id": "2eb1e5a9-73c1-4a06-b052-ac817f825199",
   "metadata": {},
   "outputs": [
    {
     "name": "stdin",
     "output_type": "stream",
     "text": [
      "숫자입력 4\n",
      "숫자입력 2\n",
      "숫자입력 3\n"
     ]
    },
    {
     "data": {
      "text/plain": [
       "2"
      ]
     },
     "execution_count": 125,
     "metadata": {},
     "output_type": "execute_result"
    }
   ],
   "source": [
    "###사용자로부터 3개의 숫자를 입력받은 후 그중 가장 작은 숫자를 출력해주세요!\n",
    "\n",
    "a = int(input(\"숫자입력\"))\n",
    "b = int(input(\"숫자입력\"))\n",
    "c = int(input(\"숫자입력\"))\n",
    "\n",
    "min(a, b, c)"
   ]
  },
  {
   "cell_type": "code",
   "execution_count": 129,
   "id": "0e90de26-3cfe-473e-9074-c1eb0d2930f0",
   "metadata": {},
   "outputs": [
    {
     "name": "stdin",
     "output_type": "stream",
     "text": [
      " 4\n",
      " 5\n",
      " 3\n"
     ]
    },
    {
     "data": {
      "text/plain": [
       "3"
      ]
     },
     "execution_count": 129,
     "metadata": {},
     "output_type": "execute_result"
    }
   ],
   "source": [
    "num = [int(input()) for _ in range(3)]\n",
    "min(num)"
   ]
  }
 ],
 "metadata": {
  "kernelspec": {
   "display_name": "Python [conda env:base] *",
   "language": "python",
   "name": "conda-base-py"
  },
  "language_info": {
   "codemirror_mode": {
    "name": "ipython",
    "version": 3
   },
   "file_extension": ".py",
   "mimetype": "text/x-python",
   "name": "python",
   "nbconvert_exporter": "python",
   "pygments_lexer": "ipython3",
   "version": "3.13.5"
  }
 },
 "nbformat": 4,
 "nbformat_minor": 5
}
