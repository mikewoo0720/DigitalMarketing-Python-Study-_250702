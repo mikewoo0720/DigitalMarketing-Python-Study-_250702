{
 "cells": [
  {
   "cell_type": "markdown",
   "id": "37cd4a49-e281-4d82-92d9-6ba127521693",
   "metadata": {},
   "source": [
    "#### 파이썬 입.출력 예시"
   ]
  },
  {
   "cell_type": "code",
   "execution_count": 14,
   "id": "e1fe4679-84c4-4fd9-9b18-d482babe973b",
   "metadata": {},
   "outputs": [
    {
     "name": "stdout",
     "output_type": "stream",
     "text": [
      "두개의 숫자를 입력하세요\n"
     ]
    },
    {
     "name": "stdin",
     "output_type": "stream",
     "text": [
      "a 1234\n",
      "b 1234\n"
     ]
    },
    {
     "name": "stdout",
     "output_type": "stream",
     "text": [
      "입력하신 a 와 b의 합은\n",
      "2468\n"
     ]
    }
   ],
   "source": [
    "#사용자로 부터 두 개의 숫자를 입력 받은 후 해당 두개의 숫자를 더해 값을 출력하는 프로그램을 작성해보세요\n",
    "\n",
    "print(\"두개의 숫자를 입력하세요\")\n",
    "\n",
    "first = input (\"a\")\n",
    "second = input (\"b\")\n",
    "\n",
    "sum1 = int(first) + int(second)\n",
    "print(\"입력하신 a 와 b의 합은\")\n",
    "print(int(sum1))\n",
    "\n"
   ]
  },
  {
   "cell_type": "code",
   "execution_count": 19,
   "id": "455af26c-f9bf-476e-94f0-bcb6fa42d802",
   "metadata": {},
   "outputs": [
    {
     "name": "stdout",
     "output_type": "stream",
     "text": [
      "두 숫자를 입력하세요\n"
     ]
    },
    {
     "name": "stdin",
     "output_type": "stream",
     "text": [
      "a 345\n",
      "b 143\n"
     ]
    },
    {
     "name": "stdout",
     "output_type": "stream",
     "text": [
      "입력하신 a 와 b의 곱한 값은 49335\n",
      "나눈 값 : 345 / 143 = 2.4125874125874125\n",
      "345 // 143 = 2\n",
      "입력하신 a 와 b의 나눈 값은 2.4125874125874125\n",
      "입력하신 a 와 b의 나눈 몫은 2\n",
      "입력하신 a 와 b의 나눈 나머지는 59\n",
      "나머지 값 : 345 % 143 = 59\n"
     ]
    }
   ],
   "source": [
    "#사용자로부터 두 개의 숫자를 입력 받은 후 곲한 값, 나눈 값, 나눈 몫, 나머지 값을 출력하는 프로그램을 작성해보세요\n",
    "print(\"두 숫자를 입력하세요\")\n",
    "num1 = int(input(\"a\"))\n",
    "num2 = int(input(\"b\"))\n",
    "\n",
    "\n",
    "print(\"입력하신 a 와 b의 곱한 값은\", num1 * num2)\n",
    "print(f\"나눈 값 : {num1} / {num2} = {num1 / num2}\")\n",
    "print(num1, \"//\", num2, \"=\", num1//num2)\n",
    "print(\"입력하신 a 와 b의 나눈 값은\", num1 / num2)\n",
    "print(\"입력하신 a 와 b의 나눈 몫은\", int(num1 / num2))\n",
    "print(\"입력하신 a 와 b의 나눈 나머지는\", num1 % num2)\n",
    "print(f\"나머지 값 : {num1} % {num2} = {num1 % num2}\")"
   ]
  },
  {
   "cell_type": "markdown",
   "id": "f50c7731-edf0-404b-8333-5d4089f59d2b",
   "metadata": {},
   "source": [
    "### 데이터 자료구조 - 리스트 (List)\n",
    "- 파이썬의 리스트 : 다른 프로그래밍 언어에서 주로 배열(array) 이라는 이름으로 많이 불림\n",
    "- 프로그래밍 언어 ==> 인간의 작업보다 효율적이다 ==> 패턴을 가지고 있는 반복적인 작업을 매우 빠르게 잘하기 때문!!!\n",
    "- 어떤 연산처리 작업을 반복해서 할 수 있는 형태의 자료구조여야만 위의 작업을 할 수 있음\n",
    "- 이터러블 = iterable = 반복적인 // class를 알게되면 이해하기 간단\n",
    "- 문자열(str) 역시 이터러블한 속성을 가지고 있음\n",
    "- 리스트 자료구조는 내부에 입력된 값에 고유한 개별적인 인덱스(index)값을 부여!!\n",
    "  - 리스트는 각각 고유한 인덱스값을 가지고 있음 (0부터 시작함)\n",
    "  - 리스트에서 특정 인덱스값을 찾아오고자 할 때 => 변수명[인덱스값]\n",
    "  - 문자열과 동일하게 슬라이싱 기능 있음 => 변수명[시작인덱스 : 종료인덱스 + 1]\n",
    "  - append() : 리스트 자료구조에서 왼쪽에서 부터 신규로 값을 추가할 수 있도록 해주는 함수(한 번에 여러개 값을 추가할 수 없음!)\n",
    "  - insert() : 리스트 자료구조 안에 값을 추가할 수 있는 함수 => 첫번째 인덱스는 추가하고자 하는 위치,  두번째 인덱스는 추가하고자 하는 값(한 번에 한개밖에 안됨)\n",
    "  - extend() : 리스트 자료구조에서 왼쪽에서 부터 신규로 값을 추가할 수 있도록 해주는 함수(한 번에 여러개 값을 추가할 수 없음!)\n",
    "  - remove() : 함수의 인자값을 리스트 자료구조의 왼쪽부터 서칭하다가 발견 시, 삭제해주는 함수\n",
    "  - del : del 변수명[인덱스값] => 해당 인덱스 값을 삭제해주는 함수"
   ]
  },
  {
   "cell_type": "markdown",
   "id": "28e4dff4-205a-4528-9c76-2566352b2d68",
   "metadata": {},
   "source": [
    "#### 리스트에 있는 method 함수\n",
    "- 리스트는 각각 고유한 인덱스값을 가지고 있음 (0부터 시작함)\n",
    "- 리스트에서 특정 인덱스값을 찾아오고자 할 때 => 변수명[인덱스값]\n",
    "- 문자열과 동일하게 슬라이싱 기능 있음 => 변수명[시작인덱스 : 종료인덱스 + 1]\n",
    "- append() : 리스트 자료구조에서 왼쪽에서 부터 신규로 값을 추가할 수 있도록 해주는 함수(한 번에 여러개 값을 추가할 수 없음!)\n",
    "- insert() : 리스트 자료구조 안에 값을 추가할 수 있는 함수 => 첫번째 인덱스는 추가하고자 하는 위치,  두번째 인덱스는 추가하고자 하는 값\n",
    "- extend() : 리스트 자료구조에서 왼쪽에서 부터 신규로 값을 추가할 수 있도록 해주는 함수(한 번에 여러개 값을 추가할 수 없음!)\n",
    "- remove() : 함수의 인자값을 리스트 자료구조의 왼쪽부터 서칭하다가 발견 시, 삭제해주는 함수\n",
    "- del : del 변수명[인덱스값] => 해당 인덱스 값을 삭제해주는 함수\n",
    "- sort() : 리스트 안에 있는 값을 오름차순으로 정렬할 때 사용하는 함수\n",
    "- reverse() : 리스트 안에 있는 값을 내림차순으로 정렬할 때 사용하는 함수\n",
    "- split() : 문자열의 자료형태를 인자값을 기준으로 나눠서 리스트 자료형태로 변환시켜주는 함수"
   ]
  },
  {
   "cell_type": "code",
   "execution_count": null,
   "id": "06743d89-7202-4b86-9bdd-6823ddba71f1",
   "metadata": {},
   "outputs": [],
   "source": [
    "#### 리스트 자료구조 생성하는 방법\n",
    "- 변수 선언과 함께 직접 대괄호 입력 후 내부에 요소들을 직접 입력하는 방법\n",
    "- 아무런 값도 존재하지 않는 빈 리스트를 만들어놓고 값을 하나씩 채워가는 방법\n",
    "- 파이썬 내 클래스 문법을 통해서 이미 생성된 리스트 프로토타입을 활용해서 인스턴스 객체를 생성하는 방법"
   ]
  },
  {
   "cell_type": "code",
   "execution_count": 57,
   "id": "b4cfb441-d894-4be9-8c2d-61ac01eac936",
   "metadata": {},
   "outputs": [
    {
     "name": "stdout",
     "output_type": "stream",
     "text": [
      "['hello', 1, 2, 'world']\n",
      "오마이뉴스\n",
      "한국일보\n",
      "시사인\n",
      "뉴시스\n",
      "KBSNEWS\n",
      "스포츠조선\n"
     ]
    }
   ],
   "source": [
    "mydata = [\"hello\", 1, 2, \"world\"]\n",
    "news = [\"오마이뉴스\", \"한국일보\", \"시사인\", \"뉴시스\", \"KBSNEWS\", \"스포츠조선\"] #네이버 홈 언론사 배너 예시\n",
    "\n",
    "print(mydata)\n",
    "for media in news :\n",
    "    print(media)"
   ]
  },
  {
   "cell_type": "code",
   "execution_count": 25,
   "id": "03e5e605-4a2b-403e-8ac3-b789a961904e",
   "metadata": {},
   "outputs": [
    {
     "name": "stdout",
     "output_type": "stream",
     "text": [
      "서울시\n",
      "경기도\n",
      "인천시\n",
      "['서울시', '경기도', '인천시']\n",
      "<class 'list'>\n",
      "서울시\n",
      "경기도\n",
      "인천시\n"
     ]
    }
   ],
   "source": [
    "location = [\"서울시\", \"경기도\", \"인천시\"] #list 형식 [ 대괄호 시작 ] 대괄호 끝\n",
    "\n",
    "print(location[0])\n",
    "print(location[1])\n",
    "print(location[2])\n",
    "print(location)\n",
    "print(type(location))\n",
    "\n",
    "for city in location :\n",
    "    print(city)"
   ]
  },
  {
   "cell_type": "code",
   "execution_count": 28,
   "id": "3997f69c-e7fc-42a9-96c7-8402a2d1d78a",
   "metadata": {},
   "outputs": [
    {
     "name": "stdout",
     "output_type": "stream",
     "text": [
      "['서울시', '경기도', '인천시', '부산시', '부산시', '부산시']\n"
     ]
    },
    {
     "data": {
      "text/plain": [
       "['서울시', '경기도', '인천시', '부산시', '부산시', '부산시']"
      ]
     },
     "execution_count": 28,
     "metadata": {},
     "output_type": "execute_result"
    }
   ],
   "source": [
    "location.append(\"부산시\")\n",
    "\n",
    "print(location)\n",
    "location"
   ]
  },
  {
   "cell_type": "code",
   "execution_count": 31,
   "id": "ffb5c358-cb64-4c1f-b94d-469d8c9e821a",
   "metadata": {},
   "outputs": [],
   "source": [
    "location.append(\"완도군\") #append 는 한번에 하나의 인자값만 받을 수 있다."
   ]
  },
  {
   "cell_type": "code",
   "execution_count": 32,
   "id": "5b8a28fe-635a-4d29-b076-1b58597a3c9f",
   "metadata": {},
   "outputs": [
    {
     "data": {
      "text/plain": [
       "['서울시', '경기도', '인천시', '부산시', '부산시', '부산시', '완도군', '완도군']"
      ]
     },
     "execution_count": 32,
     "metadata": {},
     "output_type": "execute_result"
    }
   ],
   "source": [
    "location"
   ]
  },
  {
   "cell_type": "code",
   "execution_count": 36,
   "id": "a45d3077-ce0b-4d0f-9c1f-c16d131f4440",
   "metadata": {},
   "outputs": [
    {
     "data": {
      "text/plain": [
       "'서울시'"
      ]
     },
     "execution_count": 36,
     "metadata": {},
     "output_type": "execute_result"
    }
   ],
   "source": [
    "location[-8]"
   ]
  },
  {
   "cell_type": "code",
   "execution_count": 37,
   "id": "a2823628-bcce-4442-83eb-1b3b3c9d61c8",
   "metadata": {},
   "outputs": [
    {
     "data": {
      "text/plain": [
       "['경기도', '인천시']"
      ]
     },
     "execution_count": 37,
     "metadata": {},
     "output_type": "execute_result"
    }
   ],
   "source": [
    "location[1:3]"
   ]
  },
  {
   "cell_type": "code",
   "execution_count": 38,
   "id": "28f09a15-1f46-41d3-8ae5-d5cbc9025495",
   "metadata": {},
   "outputs": [],
   "source": [
    "location.remove(\"부산시\")"
   ]
  },
  {
   "cell_type": "code",
   "execution_count": 39,
   "id": "a7214f6c-ded0-457c-b302-d11767c54ad7",
   "metadata": {},
   "outputs": [
    {
     "data": {
      "text/plain": [
       "['서울시', '경기도', '인천시', '부산시', '부산시', '완도군', '완도군']"
      ]
     },
     "execution_count": 39,
     "metadata": {},
     "output_type": "execute_result"
    }
   ],
   "source": [
    "location"
   ]
  },
  {
   "cell_type": "code",
   "execution_count": 40,
   "id": "660613e4-7e29-4ca0-b57a-0483aa9e593c",
   "metadata": {},
   "outputs": [],
   "source": [
    "location.remove(\"완도군\") #remove는 "
   ]
  },
  {
   "cell_type": "code",
   "execution_count": 41,
   "id": "1b6c7ad4-4eaa-4aed-824c-4d7ae68280ee",
   "metadata": {},
   "outputs": [
    {
     "data": {
      "text/plain": [
       "['서울시', '경기도', '인천시', '부산시', '부산시', '완도군']"
      ]
     },
     "execution_count": 41,
     "metadata": {},
     "output_type": "execute_result"
    }
   ],
   "source": [
    "location"
   ]
  },
  {
   "cell_type": "code",
   "execution_count": 42,
   "id": "5502a18a-6785-4f38-8c02-e94b1696a535",
   "metadata": {},
   "outputs": [],
   "source": [
    "del location[3] #del은 인덱스 값을 입력해서 해당 값을 지우는 것"
   ]
  },
  {
   "cell_type": "code",
   "execution_count": 43,
   "id": "9bdaae32-8df2-41b0-9ea3-5473ea956221",
   "metadata": {},
   "outputs": [
    {
     "data": {
      "text/plain": [
       "['서울시', '경기도', '인천시', '부산시', '완도군']"
      ]
     },
     "execution_count": 43,
     "metadata": {},
     "output_type": "execute_result"
    }
   ],
   "source": [
    "location"
   ]
  },
  {
   "cell_type": "code",
   "execution_count": 45,
   "id": "30637731-e1c7-4436-b84b-d6fd8cdaeb2d",
   "metadata": {},
   "outputs": [],
   "source": [
    "del location[3]"
   ]
  },
  {
   "cell_type": "code",
   "execution_count": 46,
   "id": "3f65650c-16f0-44de-ac79-f9f3c09d03c9",
   "metadata": {},
   "outputs": [
    {
     "data": {
      "text/plain": [
       "['서울시', '경기도', '인천시']"
      ]
     },
     "execution_count": 46,
     "metadata": {},
     "output_type": "execute_result"
    }
   ],
   "source": [
    "location"
   ]
  },
  {
   "cell_type": "code",
   "execution_count": 47,
   "id": "ee4b553b-3184-4c72-9726-cee9eec7b062",
   "metadata": {},
   "outputs": [],
   "source": [
    "location.extend([\"천안\", \"대구\"])"
   ]
  },
  {
   "cell_type": "code",
   "execution_count": 48,
   "id": "4ea59589-1173-4a08-b809-8289b9a8ba34",
   "metadata": {},
   "outputs": [
    {
     "data": {
      "text/plain": [
       "['서울시', '경기도', '인천시', '천안', '대구']"
      ]
     },
     "execution_count": 48,
     "metadata": {},
     "output_type": "execute_result"
    }
   ],
   "source": [
    "location"
   ]
  },
  {
   "cell_type": "code",
   "execution_count": 49,
   "id": "278ce6a7-cfcc-4431-b923-7bfbbf9f9bfc",
   "metadata": {},
   "outputs": [],
   "source": [
    "location.insert(0, \"제주도\")"
   ]
  },
  {
   "cell_type": "code",
   "execution_count": 50,
   "id": "7db47203-f344-4a86-8c2d-7500a6851302",
   "metadata": {},
   "outputs": [
    {
     "data": {
      "text/plain": [
       "['제주도', '서울시', '경기도', '인천시', '천안', '대구']"
      ]
     },
     "execution_count": 50,
     "metadata": {},
     "output_type": "execute_result"
    }
   ],
   "source": [
    "location"
   ]
  },
  {
   "cell_type": "code",
   "execution_count": 52,
   "id": "9d1dfa27-53a3-4a8e-878f-5d8b04e04f13",
   "metadata": {},
   "outputs": [
    {
     "ename": "TypeError",
     "evalue": "insert expected 2 arguments, got 6",
     "output_type": "error",
     "traceback": [
      "\u001b[1;31m---------------------------------------------------------------------------\u001b[0m",
      "\u001b[1;31mTypeError\u001b[0m                                 Traceback (most recent call last)",
      "Cell \u001b[1;32mIn[52], line 1\u001b[0m\n\u001b[1;32m----> 1\u001b[0m location\u001b[38;5;241m.\u001b[39minsert(\u001b[38;5;241m0\u001b[39m, \u001b[38;5;124m\"\u001b[39m\u001b[38;5;124m제주도\u001b[39m\u001b[38;5;124m\"\u001b[39m, \u001b[38;5;241m1\u001b[39m, \u001b[38;5;124m\"\u001b[39m\u001b[38;5;124m강남구\u001b[39m\u001b[38;5;124m\"\u001b[39m, \u001b[38;5;241m2\u001b[39m, \u001b[38;5;124m\"\u001b[39m\u001b[38;5;124m개포동\u001b[39m\u001b[38;5;124m\"\u001b[39m)\n",
      "\u001b[1;31mTypeError\u001b[0m: insert expected 2 arguments, got 6"
     ]
    }
   ],
   "source": [
    "location.insert(0, \"제주도\", 1, \"강남구\", 2, \"개포동\")"
   ]
  },
  {
   "cell_type": "code",
   "execution_count": 54,
   "id": "2240d5ec-bd9c-40de-b60e-f52705e18de4",
   "metadata": {},
   "outputs": [
    {
     "data": {
      "text/plain": [
       "list"
      ]
     },
     "execution_count": 54,
     "metadata": {},
     "output_type": "execute_result"
    }
   ],
   "source": [
    "location01 = []\n",
    "\n",
    "type(location01)"
   ]
  },
  {
   "cell_type": "code",
   "execution_count": 55,
   "id": "79791656-ed51-481c-8475-a38c332090af",
   "metadata": {},
   "outputs": [],
   "source": [
    "location01.append(\"강원도\")"
   ]
  },
  {
   "cell_type": "code",
   "execution_count": 56,
   "id": "cc324527-10f7-4b5d-841a-f98dc0935818",
   "metadata": {},
   "outputs": [
    {
     "data": {
      "text/plain": [
       "['강원도']"
      ]
     },
     "execution_count": 56,
     "metadata": {},
     "output_type": "execute_result"
    }
   ],
   "source": [
    "location01"
   ]
  },
  {
   "cell_type": "code",
   "execution_count": 60,
   "id": "51db181a-3347-4fce-a482-d19c39af9d6d",
   "metadata": {},
   "outputs": [
    {
     "name": "stdout",
     "output_type": "stream",
     "text": [
      "<class 'list'>\n"
     ]
    }
   ],
   "source": [
    "location02 = list()\n",
    "print(type(location02))"
   ]
  },
  {
   "cell_type": "code",
   "execution_count": 62,
   "id": "ba3d2762-73b0-42f9-b64b-833c8d52ec3b",
   "metadata": {},
   "outputs": [
    {
     "data": {
      "text/plain": [
       "['강원도', '강원도']"
      ]
     },
     "execution_count": 62,
     "metadata": {},
     "output_type": "execute_result"
    }
   ],
   "source": [
    "location02.append(\"강원도\")\n",
    "\n",
    "location02"
   ]
  },
  {
   "cell_type": "code",
   "execution_count": 63,
   "id": "e6c00f9d-0773-416b-b9cd-1be70d77782e",
   "metadata": {},
   "outputs": [
    {
     "name": "stdout",
     "output_type": "stream",
     "text": [
      "<class 'list'>\n",
      "[2, 1, 4, 3]\n"
     ]
    }
   ],
   "source": [
    "numbers = [2, 1, 4, 3]\n",
    "\n",
    "print(type(numbers))\n",
    "print(numbers)"
   ]
  },
  {
   "cell_type": "code",
   "execution_count": 64,
   "id": "ba59cbc4-469d-45cd-b173-7213097813a2",
   "metadata": {},
   "outputs": [
    {
     "name": "stdout",
     "output_type": "stream",
     "text": [
      "<class 'list'>\n"
     ]
    }
   ],
   "source": [
    "print(type(numbers))"
   ]
  },
  {
   "cell_type": "code",
   "execution_count": 66,
   "id": "0dadfffd-b4d2-4e77-87bf-6a7f30320c0a",
   "metadata": {},
   "outputs": [
    {
     "name": "stdout",
     "output_type": "stream",
     "text": [
      "[1, 2, 3, 4]\n",
      "[4, 3, 2, 1]\n"
     ]
    }
   ],
   "source": [
    "numbers.sort()\n",
    "print(numbers)\n",
    "\n",
    "numbers.reverse()\n",
    "print(numbers)"
   ]
  },
  {
   "cell_type": "code",
   "execution_count": 72,
   "id": "d40e9d2b-d7b5-4508-9424-3d49f4eca4ad",
   "metadata": {},
   "outputs": [
    {
     "data": {
      "text/plain": [
       "'python'"
      ]
     },
     "execution_count": 72,
     "metadata": {},
     "output_type": "execute_result"
    }
   ],
   "source": [
    "pythonBasic = \"python is easy\" #문자열과 리스트는 친척같은 느낌이다. 자료를 스왑하는 방법도 간단하고 쉽다. 하지만 완전히 같지는 않다.\n",
    "\n",
    "pylist = pythonBasic.split() #입력받은 문자열을 스플릿 함수를 이용해서 리스트 형식의 데이터값으로 변환함\n",
    "\n",
    "pylist[0]"
   ]
  }
 ],
 "metadata": {
  "kernelspec": {
   "display_name": "Python [conda env:base] *",
   "language": "python",
   "name": "conda-base-py"
  },
  "language_info": {
   "codemirror_mode": {
    "name": "ipython",
    "version": 3
   },
   "file_extension": ".py",
   "mimetype": "text/x-python",
   "name": "python",
   "nbconvert_exporter": "python",
   "pygments_lexer": "ipython3",
   "version": "3.13.5"
  }
 },
 "nbformat": 4,
 "nbformat_minor": 5
}
