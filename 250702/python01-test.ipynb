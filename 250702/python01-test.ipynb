{
 "cells": [
  {
   "cell_type": "code",
   "execution_count": null,
   "id": "bf8fd0a8-cd68-472b-9da8-e53985030f60",
   "metadata": {},
   "outputs": [],
   "source": [
    "### 셀 화면에 \"Hello World\" 라는 문자열을 출력해주세요."
   ]
  },
  {
   "cell_type": "code",
   "execution_count": 2,
   "id": "1305192e-bbc1-49a0-a3ed-391a3d858776",
   "metadata": {},
   "outputs": [
    {
     "name": "stdout",
     "output_type": "stream",
     "text": [
      "Hello World\n"
     ]
    }
   ],
   "source": [
    "#1. 셀 화면에 \"Hello World\" 라는 문자열을 출력해주세요.\n",
    "print(\"Hello World\")"
   ]
  },
  {
   "cell_type": "code",
   "execution_count": 20,
   "id": "2165c99b-a43e-40a9-a839-32485e179808",
   "metadata": {},
   "outputs": [
    {
     "name": "stdout",
     "output_type": "stream",
     "text": [
      "3.1\n"
     ]
    }
   ],
   "source": [
    "#2. 부동소수값 3.1415의 값을 출력하세요.(*단, 소수점 첫번째 자리까지만 출력해주세요)\n",
    "pi = 3.1415\n",
    "print(format(pi,\".1f\"))"
   ]
  },
  {
   "cell_type": "code",
   "execution_count": 9,
   "id": "df3a8aa8-5044-415d-afa7-29571ab9d65c",
   "metadata": {},
   "outputs": [
    {
     "name": "stdout",
     "output_type": "stream",
     "text": [
      "720\n"
     ]
    }
   ],
   "source": [
    "#3. 문자열 \"720\"을 정수형의 형태값으로 형변환 후 출력하세요.\n",
    "str = \"720\"\n",
    "\n",
    "digit_a = int(str)\n",
    "\n",
    "print(digit_a)\n",
    "\n"
   ]
  },
  {
   "cell_type": "code",
   "execution_count": 8,
   "id": "66dd7933-d841-4c34-886b-30da356fa21a",
   "metadata": {},
   "outputs": [
    {
     "name": "stdout",
     "output_type": "stream",
     "text": [
      "36\n"
     ]
    }
   ],
   "source": [
    "#4. 밑이 6이고, 지수가 2인 거듭제곱의 값을 출력하세요.\n",
    "\n",
    "print(6**2)"
   ]
  },
  {
   "cell_type": "code",
   "execution_count": 23,
   "id": "0cd66ae2-0ade-44b0-b67b-040f3288126e",
   "metadata": {},
   "outputs": [
    {
     "name": "stdout",
     "output_type": "stream",
     "text": [
      "숫자를 입력하세요\n"
     ]
    },
    {
     "name": "stdin",
     "output_type": "stream",
     "text": [
      " 13\n",
      " 13\n"
     ]
    },
    {
     "name": "stdout",
     "output_type": "stream",
     "text": [
      "OUTPUT : 26\n"
     ]
    }
   ],
   "source": [
    "#5. 사용자로부터 2개의 숫자를 입력받은 후 해당 숫자들을 더한 값을 출력하세요.(*OUTPUT : 결과값)\n",
    "print(\"숫자를 입력하세요\")\n",
    "\n",
    "a = int(input(\"\"))\n",
    "b = int(input(\"\"))\n",
    "output = a + b\n",
    "\n",
    "print(f\"OUTPUT : {output}\")\n"
   ]
  }
 ],
 "metadata": {
  "kernelspec": {
   "display_name": "Python [conda env:base] *",
   "language": "python",
   "name": "conda-base-py"
  },
  "language_info": {
   "codemirror_mode": {
    "name": "ipython",
    "version": 3
   },
   "file_extension": ".py",
   "mimetype": "text/x-python",
   "name": "python",
   "nbconvert_exporter": "python",
   "pygments_lexer": "ipython3",
   "version": "3.13.5"
  }
 },
 "nbformat": 4,
 "nbformat_minor": 5
}
