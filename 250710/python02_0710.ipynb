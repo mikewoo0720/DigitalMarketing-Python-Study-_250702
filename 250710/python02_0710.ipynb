{
 "cells": [
  {
   "cell_type": "markdown",
   "id": "35e484ac-8bb2-464e-a5a6-32123fe957ac",
   "metadata": {},
   "source": [
    "- 크롤링에서 어려운 부분(시스템)\n",
    "  1. 웹 사이트 구조가 굉장히 복잡한 경우\n",
    "  2. 라이브러리나 프레임워크로 만들어진 웹 페이지들은 싱글플레이 어플리케이션 방식인데 크롤링이 안된다. 셀레늄\n",
    "  3. 그리고 함부로 데이터를 가져갈 수 없도록 제한을 걸어두었다.\n",
    "- 문법적인부분\n",
    "  1. 직접 연습해보지 않으면 잘 할 수 없다.\n",
    "  2. 개념은 떨쳐버리고 몸과 손이 반응할 수 있도록 반복숙달하자\n",
    "\n",
    "- 파이썬을 활용해서 특정 웹사이트 내 요소를 크롤링 해오면, 해당 값 자료형태 > 객체의 형태를 띄게 => 객체의 속성 혹은 메서드 함수를 사용가능!!!\n",
    "\n",
    "- 파이썬을 활용한 크롤링 방법론\n",
    "  1. html 문서 구조 파악\n",
    "     - 태그들이 주로 반복 사용되는 경우\n",
    "     - find() // find_all()\n",
    "  2. CSS Selector(*선택자) 활용\n",
    "     - html 내 태그 혹은 클래스, 아이디 요소를 css 파일에서 선택해서 무언가를 하고자 할때, 명칭 => 선택자\n",
    "     - ul > li // li\n",
    "     - - 뎁스가 깊거나 구문이 길 경우 Selector를 활용하면 좀더 정확한 타겟을 크롤링 할 수 있다.\n",
    "- select() ⇒ 기본적으로 class 속성을 가지고 있는 선택자들을 찾아와서 반복문을 사용하고 싶은경우\n",
    "- select_one() ⇒ id 속성과 같이 문서상에 한 번밖에 사용을 하지 못하는 경우에 크롤링하고 싶을때"
   ]
  },
  {
   "cell_type": "code",
   "execution_count": 5,
   "id": "687fceea-e8b3-4e7b-87c7-9f244319241f",
   "metadata": {},
   "outputs": [
    {
     "name": "stdout",
     "output_type": "stream",
     "text": [
      "나만의 엣지있는 블로그 사이트 만들기\n",
      "당신의 커리어에 파이썬을 입히세요! 자신만의 자동 프로그램까지 가져가는\n",
      "      특별한 강의\n"
     ]
    }
   ],
   "source": [
    "import requests\n",
    "from bs4 import BeautifulSoup\n",
    "\n",
    "res = requests.get(\"https://crawlingtest.netlify.app/\")\n",
    "soup = BeautifulSoup(res.content, \"html.parser\")\n",
    "\n",
    "items = soup.select(\"h3\")\n",
    "\n",
    "for item in items :\n",
    "    print(item.get_text().strip())"
   ]
  },
  {
   "cell_type": "code",
   "execution_count": 11,
   "id": "29a12343-f335-4f29-a16b-5cd9da581c46",
   "metadata": {},
   "outputs": [
    {
     "data": {
      "text/plain": [
       "[<h1>메가스터디 크롤링 테스트 페이지</h1>]"
      ]
     },
     "execution_count": 11,
     "metadata": {},
     "output_type": "execute_result"
    }
   ],
   "source": [
    "import requests\n",
    "from bs4 import BeautifulSoup\n",
    "\n",
    "res = requests.get(\"https://crawlingtest.netlify.app/\")\n",
    "soup = BeautifulSoup(res.content, \"html.parser\")\n",
    "\n",
    "items = soup.select(\"html > body > h1\")\n",
    "\n",
    "items"
   ]
  },
  {
   "cell_type": "code",
   "execution_count": 16,
   "id": "f51ce7e0-8348-4076-9768-4098def45fc1",
   "metadata": {},
   "outputs": [
    {
     "name": "stdout",
     "output_type": "stream",
     "text": [
      "<a href=\"#\">(왕초보) - 클래스 소개</a>\n",
      "<a href=\"#\">(왕초보) - 블로그 개발 필요한 준비물 준비하기</a>\n",
      "<a href=\"#\">(왕초보) - Github pages 설정해서 블로그 첫 페이지 만들어보기</a>\n",
      "<a href=\"#\">(왕초보) - 초간단 페이지 만들어보기</a>\n",
      "<a href=\"#\">(왕초보) - 이쁘게 테마 적용해보기</a>\n",
      "<a href=\"#\">(왕초보) - 마크다운 기초 이해하고, 실제 나만의 블로그 페이지\n",
      "          만들기</a>\n",
      "<a href=\"#\">(왕초보) - 다양한 마크다운 기법 익혀보며, 나만의 블로그 페이지\n",
      "          꾸며보기</a>\n",
      "<a href=\"#\">(초급) - 강사가 실제 사용하는 자동 프로그램 소개 [2]</a>\n",
      "<a href=\"#\">(초급) - 필요한 프로그램 설치 시연 [5]</a>\n",
      "<a href=\"#\">(초급) - 데이터를 엑셀 파일로 만들기 [9]</a>\n",
      "<a href=\"#\">(초급) -     엑셀 파일 이쁘게! 이쁘게! [8]</a>\n",
      "<a href=\"#\">(초급) -     나대신 주기적으로 파이썬 프로그램\n",
      "          실행하기 [7]</a>\n",
      "<a href=\"#\">(초급) - 파이썬으로 슬랙(slack) 메신저에 글쓰기 [40]</a>\n",
      "<a href=\"#\">(초급) - 웹사이트 변경사항 주기적으로 체크해서, 메신저로 알람주기\n",
      "          [12]</a>\n",
      "<a href=\"#\">(초급) - 네이버 API 사용해서, 블로그에 글쓰기 [42]</a>\n",
      "<a href=\"#\">(중급) - 자동으로 쿠팡파트너스 API 로 가져온 상품 정보, 네이버\n",
      "          블로그/트위터에 홍보하기 [412]</a>\n"
     ]
    }
   ],
   "source": [
    "import requests\n",
    "from bs4 import BeautifulSoup\n",
    "\n",
    "res = requests.get(\"https://crawlingtest.netlify.app/\")\n",
    "soup = BeautifulSoup(res.content, \"html.parser\")\n",
    "\n",
    "items = soup.select(\"ul a\")#ul 태그 안에 중첩 li가 되어있을 수 있어 명확하게 할 필요가 있음\n",
    "\n",
    "for item in items :\n",
    "    print(item)"
   ]
  },
  {
   "cell_type": "code",
   "execution_count": 25,
   "id": "5e02d3d4-9b06-4dca-80a5-73004a2e4e52",
   "metadata": {},
   "outputs": [
    {
     "data": {
      "text/plain": [
       "[<li class=\"course\">\n",
       " <a href=\"#\">(왕초보) - 클래스 소개</a>\n",
       " </li>,\n",
       " <li class=\"course\">\n",
       " <a href=\"#\">(왕초보) - 블로그 개발 필요한 준비물 준비하기</a>\n",
       " </li>,\n",
       " <li class=\"course\">\n",
       " <a href=\"#\">(왕초보) - Github pages 설정해서 블로그 첫 페이지 만들어보기</a>\n",
       " </li>,\n",
       " <li class=\"course\">\n",
       " <a href=\"#\">(왕초보) - 초간단 페이지 만들어보기</a>\n",
       " </li>,\n",
       " <li class=\"course\">\n",
       " <a href=\"#\">(왕초보) - 이쁘게 테마 적용해보기</a>\n",
       " </li>,\n",
       " <li class=\"course\">\n",
       " <a href=\"#\">(왕초보) - 마크다운 기초 이해하고, 실제 나만의 블로그 페이지\n",
       "           만들기</a>\n",
       " </li>,\n",
       " <li class=\"course\">\n",
       " <a href=\"#\">(왕초보) - 다양한 마크다운 기법 익혀보며, 나만의 블로그 페이지\n",
       "           꾸며보기</a>\n",
       " </li>]"
      ]
     },
     "execution_count": 25,
     "metadata": {},
     "output_type": "execute_result"
    }
   ],
   "source": [
    "import requests\n",
    "from bs4 import BeautifulSoup\n",
    "\n",
    "res = requests.get(\"https://crawlingtest.netlify.app/\")\n",
    "soup = BeautifulSoup(res.content, \"html.parser\")\n",
    "\n",
    "#items = soup.select(\".course\")\n",
    "items = soup.select(\"#hobby_course_list>.course\")#선택자로 찾을때는 후손관계 => 공백, 자식관계 => >, # => id, . => class\n",
    "\n",
    "items\n",
    "\n",
    "#for item in items :\n",
    "#    print(item.get_text())"
   ]
  },
  {
   "cell_type": "code",
   "execution_count": 29,
   "id": "888bcdc0-f5a6-4d7b-b965-fc09b7c80293",
   "metadata": {},
   "outputs": [
    {
     "data": {
      "text/plain": [
       "[<li class=\"course\" id=\"specialad\">\n",
       " <a href=\"#\">(왕초보) - 클래스 소개</a>\n",
       " </li>]"
      ]
     },
     "execution_count": 29,
     "metadata": {},
     "output_type": "execute_result"
    }
   ],
   "source": [
    "import requests\n",
    "from bs4 import BeautifulSoup\n",
    "\n",
    "res = requests.get(\"https://crawlingtest.netlify.app/\")\n",
    "soup = BeautifulSoup(res.content, \"html.parser\")\n",
    "\n",
    "# items = soup.select(\".course#specialad\")#class course이면서 id specialad 인것을 찾아오고 싶어요 띄어쓰기 중요\n",
    "# items = soup.select(\".course.maintitle\")#class course이면서 class maintitle 인것을 찾아오고 싶어요\n",
    "items = soup.select(\"body #hobby_course_list > .course#specialad\")#바디의 후손에서 id hobby 자식중에 class course이면서 id special인것을 찾아오자\n",
    "items#newsstand > div.MediaView-module__media_area___Z4js3 > div:nth-child(1) > ul > li:nth-child(1) > div > a (네이버 뉴스)"
   ]
  },
  {
   "cell_type": "code",
   "execution_count": 45,
   "id": "4729f14c-1f8e-4927-9a8d-f2192df5805b",
   "metadata": {},
   "outputs": [
    {
     "name": "stdout",
     "output_type": "stream",
     "text": [
      "일정 /커리큘럼 타이틀 /난이도\n",
      "5.1 ~ 6.15 /나만의 엣지있는 블로그 사이트 만들기 (취미로 익히는 IT) /초급\n",
      "6.16 ~ 7.31 /파이썬과 데이터과학 첫걸음 (IT 기본기 익히기) /중급\n"
     ]
    }
   ],
   "source": [
    "import requests\n",
    "from bs4 import BeautifulSoup\n",
    "\n",
    "res = requests.get(\"https://crawlingtest.netlify.app/\")\n",
    "soup = BeautifulSoup(res.content, \"html.parser\")\n",
    "\n",
    "trs = soup.select(\"tr\")\n",
    "\n",
    "#for tr in trs :\n",
    "#    tds = tr.select(\"td\")\n",
    "#    for td in tds :\n",
    "#        print(td.get_text())\n",
    "\n",
    "for tr in trs :\n",
    "    tds = tr.find_all(\"td\")\n",
    "    row_str = \"\"\n",
    "    for td in tds :\n",
    "        row_str += f\" /{td.get_text()}\"\n",
    "    print(row_str[2:])#문자열 슬라이싱"
   ]
  },
  {
   "cell_type": "markdown",
   "id": "30298458-6a61-43fc-8a20-f5b7d1783219",
   "metadata": {},
   "source": [
    "#### 3. 현재 찾아온 메뉴명 중에서 가상클래스 active가 적용된 메뉴명만 출력해주세요."
   ]
  },
  {
   "cell_type": "code",
   "execution_count": null,
   "id": "322ba23b-5340-4b05-bcc3-8d3b88608b05",
   "metadata": {},
   "outputs": [],
   "source": []
  }
 ],
 "metadata": {
  "kernelspec": {
   "display_name": "Python [conda env:base] *",
   "language": "python",
   "name": "conda-base-py"
  },
  "language_info": {
   "codemirror_mode": {
    "name": "ipython",
    "version": 3
   },
   "file_extension": ".py",
   "mimetype": "text/x-python",
   "name": "python",
   "nbconvert_exporter": "python",
   "pygments_lexer": "ipython3",
   "version": "3.13.5"
  }
 },
 "nbformat": 4,
 "nbformat_minor": 5
}
