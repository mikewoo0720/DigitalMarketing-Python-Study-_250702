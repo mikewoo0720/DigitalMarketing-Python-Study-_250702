{
 "cells": [
  {
   "cell_type": "code",
   "execution_count": 2,
   "id": "4cc0c302-37a6-4580-8234-86c600468276",
   "metadata": {},
   "outputs": [
    {
     "name": "stdout",
     "output_type": "stream",
     "text": [
      "Requirement already satisfied: openpyxl in c:\\users\\user\\anaconda3\\lib\\site-packages (3.1.5)\n",
      "Requirement already satisfied: et-xmlfile in c:\\users\\user\\anaconda3\\lib\\site-packages (from openpyxl) (1.1.0)\n"
     ]
    }
   ],
   "source": [
    "!pip install openpyxl"
   ]
  },
  {
   "cell_type": "code",
   "execution_count": null,
   "id": "c9f363cf-0986-4b78-8e21-16bd7dc6783e",
   "metadata": {},
   "outputs": [],
   "source": [
    "#openpyxl 라이브러리 찾아오기\n",
    "import openpyxl\n",
    "\n",
    "#Workbook() 프로토타입 객체를 실행시켜서 하나의 엑셀파일을 생성하겠다는 의미\n",
    "excel_file = openpyxl.Workbook()\n",
    "\n",
    "#엑셀파일 내부에는 기본적으로 sheet가 1개 존재 => 해당 시트를 선택 (*active)\n",
    "excel_sheet = excel_file.active\n",
    "\n",
    "#선택한 엑셀시트 내부에 데이터 추가 및 삽입하기\n",
    "excel_sheet.append([\"data1\", \"data2\", \"data3\"])\n",
    "\n",
    "#엑셀파일 저장하기\n",
    "excel_file.save(tmp.xlsx)\n",
    "\n",
    "#엑셀파일 종료하기\n",
    "excel_file.close()"
   ]
  },
  {
   "cell_type": "code",
   "execution_count": 29,
   "id": "486369f9-ea87-4ae5-b37b-5908ffe15609",
   "metadata": {
    "scrolled": true
   },
   "outputs": [],
   "source": [
    "#### 1. 데이터 크롤링 파트\n",
    "import requests\n",
    "from bs4 import BeautifulSoup\n",
    "\n",
    "url = \"https://davelee-fun.github.io/\"\n",
    "product_lists = list()\n",
    "\n",
    "for page_num in range(10) :\n",
    "    if page_num == 0 :\n",
    "        res = requests.get(url)\n",
    "    else :\n",
    "        res = requests.get(f\"{url}page{page_num + 1}\")\n",
    "    soup = BeautifulSoup(res.content, \"html.parser\")\n",
    "    datas = soup.select(\"div.card\")\n",
    "    \n",
    "    for data in datas :\n",
    "        product_name = data.select_one(\"div.card-body > h4.card-text\")\n",
    "        product_date = data.select_one(\"div.wrapfooter span.post-date\")\n",
    "        product_info = [product_name.get_text().split(\":\")[1].strip(), product_date.get_text().strip()]\n",
    "        product_lists.append(product_info)"
   ]
  },
  {
   "cell_type": "code",
   "execution_count": 30,
   "id": "49e6e50e-c619-4f89-95dc-394d58e9f607",
   "metadata": {},
   "outputs": [],
   "source": [
    "#### 2. 엑셀시트 저장용 함수생성 파트\n",
    "import openpyxl\n",
    "\n",
    "def write_excel_template(filename, sheetname, listdata) :\n",
    "    excel_file = openpyxl.Workbook()\n",
    "    excel_sheet = excel_file.active\n",
    "    excel_sheet.column_dimensions[\"A\"].width = 100\n",
    "\n",
    "    if sheetname != \"\" :\n",
    "        excel_sheet.title = sheetname\n",
    "\n",
    "    for item in listdata :\n",
    "        excel_sheet.append(item)\n",
    "        \n",
    "    excel_file.save(filename)\n",
    "    excel_file.close()"
   ]
  },
  {
   "cell_type": "code",
   "execution_count": 31,
   "id": "066f4656-c84d-4ce7-abb5-1c2b758738d5",
   "metadata": {},
   "outputs": [],
   "source": [
    "#### 3. 엑셀시트 저장용 함수호출 파트\n",
    "\n",
    "write_excel_template(\"tmp.xlsx\", \"상품정보\", product_lists)"
   ]
  }
 ],
 "metadata": {
  "kernelspec": {
   "display_name": "Python [conda env:base] *",
   "language": "python",
   "name": "conda-base-py"
  },
  "language_info": {
   "codemirror_mode": {
    "name": "ipython",
    "version": 3
   },
   "file_extension": ".py",
   "mimetype": "text/x-python",
   "name": "python",
   "nbconvert_exporter": "python",
   "pygments_lexer": "ipython3",
   "version": "3.13.5"
  }
 },
 "nbformat": 4,
 "nbformat_minor": 5
}
