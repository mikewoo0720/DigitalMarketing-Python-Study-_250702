{
 "cells": [
  {
   "cell_type": "markdown",
   "id": "1f56d6cb-1aae-4506-820e-54549d5ebe95",
   "metadata": {},
   "source": [
    "#### 1. 다음 사이트를 크롤링 할 수 있도록 BS4, requests를 활용해서 기본 세팅해주세요!!\n",
    "- https://davelee-fun.github.io/\n"
   ]
  },
  {
   "cell_type": "code",
   "execution_count": 5,
   "id": "28da9551-7019-4b4b-8835-355c27bdf93e",
   "metadata": {},
   "outputs": [],
   "source": [
    "import requests\n",
    "from bs4 import BeautifulSoup\n",
    "\n",
    "res = requests.get(\"https://davelee-fun.github.io/\")\n",
    "soup = BeautifulSoup(res.content, \"html.parser\")"
   ]
  },
  {
   "cell_type": "markdown",
   "id": "6f808941-203f-45e8-92e7-a447a89183d3",
   "metadata": {},
   "source": [
    "#### 2. blog와 about을 출력해주세요"
   ]
  },
  {
   "cell_type": "code",
   "execution_count": 16,
   "id": "e69560ef-2bbd-4ec3-849b-7b62b338bb81",
   "metadata": {},
   "outputs": [
    {
     "name": "stdout",
     "output_type": "stream",
     "text": [
      "[<a class=\"nav-link\" href=\"/index.html\">Blog</a>]\n",
      "[<a class=\"nav-link\" href=\"/about\">About</a>]\n"
     ]
    }
   ],
   "source": [
    "import requests\n",
    "from bs4 import BeautifulSoup\n",
    "\n",
    "url = \"https://davelee-fun.github.io/\"\n",
    "#res = requests.get{f\"{url}+admin\"}\n",
    "\n",
    "res = requests.get(url)\n",
    "soup = BeautifulSoup(res.content, \"html.parser\")\n",
    "\n",
    "\n",
    "\n",
    "blog = soup.select(\"#navbarMediumish > ul > li.nav-item.active > a\")\n",
    "about = soup.select(\"#navbarMediumish > ul > li:nth-child(2) > a\")\n",
    "\n",
    "print(blog)\n",
    "print(about)"
   ]
  },
  {
   "cell_type": "markdown",
   "id": "f5e9cdca-36e7-4bd9-b150-6b5d2237f9ad",
   "metadata": {},
   "source": [
    "#### 3. 현재 찾아온 메뉴명 중에서 가상클래스 active가 적용된 메뉴명만 출력해주세요."
   ]
  },
  {
   "cell_type": "code",
   "execution_count": 22,
   "id": "0eac69c5-ed7b-42eb-8c22-019391d58569",
   "metadata": {},
   "outputs": [
    {
     "name": "stdout",
     "output_type": "stream",
     "text": [
      "Blog\n"
     ]
    }
   ],
   "source": [
    "import requests\n",
    "from bs4 import BeautifulSoup\n",
    "\n",
    "url = \"https://davelee-fun.github.io/\"\n",
    "#res = requests.get{f\"{url}+admin\"}\n",
    "\n",
    "res = requests.get(url)\n",
    "soup = BeautifulSoup(res.content, \"html.parser\")\n",
    "\n",
    "\n",
    "\n",
    "item = soup.select_one(\"li.nav-item.active\")\n",
    "print(item.get_text().strip())"
   ]
  },
  {
   "cell_type": "markdown",
   "id": "993b5a5c-9f21-4aec-9001-1b17f0f81021",
   "metadata": {},
   "source": [
    "#### 4. 현재 사이트에서 sitetitle 이라는 class 값을 가지고 있는 h1 태그 안 텍스트를 출력해주세요"
   ]
  },
  {
   "cell_type": "code",
   "execution_count": 26,
   "id": "0c5f60a7-a346-4f85-ba70-d1617a0fc363",
   "metadata": {},
   "outputs": [
    {
     "name": "stdout",
     "output_type": "stream",
     "text": [
      "Teddy의 선물 블로그\n"
     ]
    }
   ],
   "source": [
    "import requests\n",
    "from bs4 import BeautifulSoup\n",
    "\n",
    "url = \"https://davelee-fun.github.io/\"\n",
    "\n",
    "res = requests.get(url)\n",
    "soup = BeautifulSoup(res.content, \"html.parser\")\n",
    "\n",
    "item = soup.select_one(\"h1.sitetitle\")\n",
    "print(item.get_text().strip())"
   ]
  },
  {
   "cell_type": "markdown",
   "id": "07851a63-2ef7-4151-8174-2b19e93cdda4",
   "metadata": {},
   "source": [
    "#### 5. 현재 사이트에서 \"선물하기 좋은 선물을 고르고 골라서 소개하는 블로그입니다.\"라는 서브타이틀을 찾아서 크롤링해서 출력해주세요"
   ]
  },
  {
   "cell_type": "code",
   "execution_count": 29,
   "id": "d0a19acf-ccff-400b-9c44-25faa129cc10",
   "metadata": {},
   "outputs": [
    {
     "name": "stdout",
     "output_type": "stream",
     "text": [
      "선물하기 좋은 선물을 고르고 골라서 소개하는 블로그입니다.\n"
     ]
    }
   ],
   "source": [
    "import requests\n",
    "from bs4 import BeautifulSoup\n",
    "\n",
    "url = \"https://davelee-fun.github.io/\"\n",
    "\n",
    "res = requests.get(url)\n",
    "soup = BeautifulSoup(res.content, \"html.parser\")\n",
    "\n",
    "item = soup.select_one(\"p.lead\")\n",
    "print(item.get_text().strip())"
   ]
  },
  {
   "cell_type": "markdown",
   "id": "13010d5e-07ab-4c17-b42e-97a8113eb381",
   "metadata": {},
   "source": [
    "#### 6. 현재 사이트에서 Featured 카테고리에 속해있는 상품들에 상품명만 가져와서 출력해주세요."
   ]
  },
  {
   "cell_type": "code",
   "execution_count": 41,
   "id": "58bf0499-8d7a-4f16-9ede-0d6f8955d33a",
   "metadata": {},
   "outputs": [
    {
     "name": "stdout",
     "output_type": "stream",
     "text": [
      "상품명: 보몽드 순면스퀘어 솔리드 누빔매트커버, 다크블루\n",
      "상품명: 슈에뜨룸 선인장 리플 침구 세트, 베이지\n",
      "상품명: 선우랜드 레인보우 2단 문걸이용 옷걸이 _중형, 화이트, 상세페이지참조\n",
      "상품명: 보드래 헬로우 누빔 매트리스커버, 핑크\n",
      "상품명: 보드래 퍼펙트 누빔 매트리스커버, 차콜\n",
      "상품명: 피아블 클래식 방수 매트리스커버, 화이트\n",
      "상품명: 더자리 에코항균 마이크로 매트리스커버, 밀키차콜그레이\n",
      "상품명: 더자리 프레쉬 퓨어 매트리스 커버, 퓨어 차콜그레이\n",
      "상품명: 몽쉐어 알러스킨 항균 매트리스 커버, 카키그레이\n",
      "상품명: 쿠팡 브랜드 - 코멧 홈 40수 트윌 순면 100% 홑겹 매트리스커버, 그레이\n",
      "상품명: 패브릭아트 항균 마이크로 원단 매트리스 커버, 아이보리\n",
      "상품명: 바숨 순면 누빔 침대 매트리스커버, 차콜\n",
      "상품명: WEMAX 다용도 문옷걸이, 화이트, 1개\n",
      "상품명: 타카타카 프리미엄 나노 화이바 누빔 매트리스 커버, 젠틀핑핑\n",
      "상품명: 보몽드 순면스퀘어 누빔매트커버, 다크그레이\n",
      "상품명: 보드래 국내산 순면 60수 누빔 매트리스커버, 그레이\n"
     ]
    }
   ],
   "source": [
    "import requests\n",
    "from bs4 import BeautifulSoup\n",
    "\n",
    "url = \"https://davelee-fun.github.io/\"\n",
    "\n",
    "res = requests.get(url)\n",
    "soup = BeautifulSoup(res.content, \"html.parser\")\n",
    "\n",
    "item = soup.select(\".card-text\")\n",
    "\n",
    "for data in item :\n",
    "    print(data.get_text().strip())"
   ]
  },
  {
   "cell_type": "markdown",
   "id": "80aed656-94e6-4073-a6c7-1722f47d4494",
   "metadata": {},
   "source": [
    "#### 7. 현재 사이트에서 Featured 카테고리에 속해있는 상품들에 상품명만 가져와서 출력해주세요."
   ]
  },
  {
   "cell_type": "code",
   "execution_count": 43,
   "id": "5655e1ef-5351-4823-af6a-1acdbda6a3ce",
   "metadata": {},
   "outputs": [
    {
     "name": "stdout",
     "output_type": "stream",
     "text": [
      "보몽드 순면스퀘어 솔리드 누빔매트커버, 다크블루\n",
      "슈에뜨룸 선인장 리플 침구 세트, 베이지\n",
      "선우랜드 레인보우 2단 문걸이용 옷걸이 _중형, 화이트, 상세페이지참조\n",
      "보드래 헬로우 누빔 매트리스커버, 핑크\n",
      "보드래 퍼펙트 누빔 매트리스커버, 차콜\n",
      "피아블 클래식 방수 매트리스커버, 화이트\n",
      "더자리 에코항균 마이크로 매트리스커버, 밀키차콜그레이\n",
      "더자리 프레쉬 퓨어 매트리스 커버, 퓨어 차콜그레이\n",
      "몽쉐어 알러스킨 항균 매트리스 커버, 카키그레이\n",
      "쿠팡 브랜드 - 코멧 홈 40수 트윌 순면 100% 홑겹 매트리스커버, 그레이\n",
      "패브릭아트 항균 마이크로 원단 매트리스 커버, 아이보리\n",
      "바숨 순면 누빔 침대 매트리스커버, 차콜\n",
      "WEMAX 다용도 문옷걸이, 화이트, 1개\n",
      "타카타카 프리미엄 나노 화이바 누빔 매트리스 커버, 젠틀핑핑\n",
      "보몽드 순면스퀘어 누빔매트커버, 다크그레이\n",
      "보드래 국내산 순면 60수 누빔 매트리스커버, 그레이\n"
     ]
    }
   ],
   "source": [
    "import requests\n",
    "from bs4 import BeautifulSoup\n",
    "\n",
    "url = \"https://davelee-fun.github.io/\"\n",
    "\n",
    "res = requests.get(url)\n",
    "soup = BeautifulSoup(res.content, \"html.parser\")\n",
    "\n",
    "item = soup.select(\"h4.card-text\")\n",
    "\n",
    "for data in item :\n",
    "    print(data.get_text().split(\":\")[1].strip())"
   ]
  },
  {
   "cell_type": "code",
   "execution_count": 45,
   "id": "8a3445f5-0bf5-4b16-a3f8-45ad3e65549e",
   "metadata": {},
   "outputs": [
    {
     "name": "stdout",
     "output_type": "stream",
     "text": [
      "보드래 퍼펙트 누빔 매트리스커버, 차콜\n",
      "피아블 클래식 방수 매트리스커버, 화이트\n",
      "더자리 에코항균 마이크로 매트리스커버, 밀키차콜그레이\n",
      "더자리 프레쉬 퓨어 매트리스 커버, 퓨어 차콜그레이\n",
      "몽쉐어 알러스킨 항균 매트리스 커버, 카키그레이\n",
      "쿠팡 브랜드 - 코멧 홈 40수 트윌 순면 100% 홑겹 매트리스커버, 그레이\n",
      "패브릭아트 항균 마이크로 원단 매트리스 커버, 아이보리\n",
      "바숨 순면 누빔 침대 매트리스커버, 차콜\n",
      "WEMAX 다용도 문옷걸이, 화이트, 1개\n",
      "타카타카 프리미엄 나노 화이바 누빔 매트리스 커버, 젠틀핑핑\n",
      "보몽드 순면스퀘어 누빔매트커버, 다크그레이\n",
      "보드래 국내산 순면 60수 누빔 매트리스커버, 그레이\n"
     ]
    }
   ],
   "source": [
    "import requests\n",
    "from bs4 import BeautifulSoup\n",
    "\n",
    "url = \"https://davelee-fun.github.io/\"\n",
    "\n",
    "res = requests.get(url)\n",
    "soup = BeautifulSoup(res.content, \"html.parser\")\n",
    "\n",
    "allstories = soup.select_one(\".recent-posts\")\n",
    "items = allstories.select(\"h4.card-text\")\n",
    "\n",
    "for item in items :\n",
    "    print(item.get_text().split(\":\")[1].strip())"
   ]
  },
  {
   "cell_type": "markdown",
   "id": "d034d64e-5204-41d8-a83c-712201395afd",
   "metadata": {},
   "source": [
    "#### 8. 현재 사이트에서 하단에 있는 Never miss... 문장 가져와서 출력해주세요!"
   ]
  },
  {
   "cell_type": "code",
   "execution_count": 54,
   "id": "8808c72e-9878-48d0-951b-9ba9b0c2adad",
   "metadata": {},
   "outputs": [
    {
     "name": "stdout",
     "output_type": "stream",
     "text": [
      "Never miss a story from us, subscribe to our newsletter\n"
     ]
    }
   ],
   "source": [
    "import requests\n",
    "from bs4 import BeautifulSoup\n",
    "\n",
    "url = \"https://davelee-fun.github.io/\"\n",
    "\n",
    "res = requests.get(url)\n",
    "soup = BeautifulSoup(res.content, \"html.parser\")\n",
    "\n",
    "btext = soup.select_one(\"div.container.text-center\")\n",
    "\n",
    "print(btext.get_text().strip())\n",
    "# for item in items :\n",
    "#     print(item.get_text().split(\":\")[1].strip())"
   ]
  }
 ],
 "metadata": {
  "kernelspec": {
   "display_name": "Python [conda env:base] *",
   "language": "python",
   "name": "conda-base-py"
  },
  "language_info": {
   "codemirror_mode": {
    "name": "ipython",
    "version": 3
   },
   "file_extension": ".py",
   "mimetype": "text/x-python",
   "name": "python",
   "nbconvert_exporter": "python",
   "pygments_lexer": "ipython3",
   "version": "3.13.5"
  }
 },
 "nbformat": 4,
 "nbformat_minor": 5
}
