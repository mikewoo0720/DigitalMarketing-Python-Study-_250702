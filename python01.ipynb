{
 "cells": [
  {
   "cell_type": "markdown",
   "id": "917d4e53-5a11-4d80-9994-1d523679645d",
   "metadata": {},
   "source": [
    "## *Python Basic\n",
    "### 1. 변수\n",
    "### 2. 내장함수 (*Built-in Function)\n",
    "-print()\n",
    "-input()\n",
    "### 3. 연산자 (*사칙연산 // 비교연산)\n",
    "-사칙연산\n",
    "-비교연산\n",
    "### 4. 자료타입\n",
    "### 5. 형변환\n",
    "-int()\n",
    "-float()\n",
    "- print 함수"
   ]
  },
  {
   "cell_type": "code",
   "execution_count": null,
   "id": "5f3a4ee9-9c59-487b-8124-45bc15726f9d",
   "metadata": {},
   "outputs": [],
   "source": [
    "# 단축키!!!\n",
    "# a(above) : 위쪽에 셀 추가\n",
    "# b(below) : 아래쪽에 셀 추가\n",
    "# dd : 셀 삭제\n",
    "# ctrl + z : 되돌리기\n",
    "# enter : 행바꿈 (*개행)\n",
    "# ctrl + enter : 셀 실행"
   ]
  },
  {
   "cell_type": "code",
   "execution_count": 3,
   "id": "1462aa18-eb64-4026-9af8-09e5f42f2234",
   "metadata": {},
   "outputs": [
    {
     "name": "stdout",
     "output_type": "stream",
     "text": [
      "1\n"
     ]
    }
   ],
   "source": [
    "num = 1 \n",
    "# num, lion, jin...등 => 변수 (*어떤 값을 담을 수 있는 그릇, 직관적적이고 명시적인 변수 설정만 하면된다.)\n",
    "# sneak 표기법 => hello_world\n",
    "# camel 표기법 => helloWorld (*추천)\n",
    "# Hungarian 표기법 => HelloWorld\n",
    "# 변수의 이름이 숫자로 시작되서는 절대 안됨!!!!!!!(*반드시)\n",
    "# num 이라는 변수 안에 1이라는 값을 할당했다.\n",
    "\n",
    "print(num) # print() => 함수 (*Function : 기능)\n",
    "# print라는 함수안에 num이라는 변수를 인자(argument)값으로 사용했다."
   ]
  },
  {
   "cell_type": "code",
   "execution_count": 10,
   "id": "d5fa878f-e0f7-409f-8435-f89b59eb2230",
   "metadata": {},
   "outputs": [
    {
     "name": "stdout",
     "output_type": "stream",
     "text": [
      "15\n"
     ]
    }
   ],
   "source": [
    "name = 5\n",
    "num = 10\n",
    "nn = name + num\n",
    "print(nn)"
   ]
  },
  {
   "cell_type": "code",
   "execution_count": 14,
   "id": "cddb40b0-bbe2-4d6c-8e33-521b169e4a32",
   "metadata": {},
   "outputs": [
    {
     "name": "stdout",
     "output_type": "stream",
     "text": [
      "hello jonghyun\n"
     ]
    }
   ],
   "source": [
    "hi = \"hello jonghyun\"\n",
    "\n",
    "print(hi)"
   ]
  },
  {
   "cell_type": "code",
   "execution_count": 18,
   "id": "5a4e8452-214f-44de-9c9f-0797d98d05bd",
   "metadata": {},
   "outputs": [
    {
     "name": "stdout",
     "output_type": "stream",
     "text": [
      "<class 'int'>\n",
      "<class 'str'>\n"
     ]
    }
   ],
   "source": [
    "# 자료타입이 왜 중요한가? ex) 자료의 형태와 타입이 다르면 연산이 안된다.\n",
    "print(type(1))\n",
    "print(type(\"1\"))"
   ]
  },
  {
   "cell_type": "code",
   "execution_count": 23,
   "id": "fd25b69f-8a23-4bb8-9962-eb1e19ad75a5",
   "metadata": {},
   "outputs": [
    {
     "name": "stdout",
     "output_type": "stream",
     "text": [
      "10\n",
      "-4\n",
      "21\n",
      "50\n",
      "0.42857142857142855\n"
     ]
    }
   ],
   "source": [
    "# 연산가능 / 4칙연산 & 우선연산 가능\n",
    "num01 = 3\n",
    "num02 = 7\n",
    "\n",
    "print(num01 + num02)\n",
    "print(num01 - num02)\n",
    "print(num01 * num02) # 직접 계산과 변수 계산과 결과값 동일\n",
    "print((7 + 3) * 5)\n",
    "print(num01 / num02)"
   ]
  },
  {
   "cell_type": "code",
   "execution_count": 27,
   "id": "0ca4aa30-b756-44f3-8fcd-7eede9ef88d1",
   "metadata": {},
   "outputs": [
    {
     "name": "stdout",
     "output_type": "stream",
     "text": [
      "2.142857142857143\n",
      "2\n",
      "1\n",
      "25\n"
     ]
    }
   ],
   "source": [
    "print (15 / 7)\n",
    "print (15 // 7) # 나누기 방식 중 //나누기 시 몫 중 정수 값만 찾아오는 연산자\n",
    "print (15 % 7) #  나누기 방식 중 #나누기 시 나머지 값만 찾아오는 연산자\n",
    "print (5 ** 2)"
   ]
  },
  {
   "cell_type": "code",
   "execution_count": 38,
   "id": "cab5ac69-9fe0-41da-a8b0-5c0e974355c3",
   "metadata": {},
   "outputs": [
    {
     "name": "stdout",
     "output_type": "stream",
     "text": [
      "<class 'str'> <class 'int'> <class 'float'> <class 'bool'>\n"
     ]
    }
   ],
   "source": [
    "str_data = \"Hello\" # 문자열\n",
    "int_data = 1 # 정수\n",
    "float_data = 1.1 #부동소수(소수점이 변동되지 않는 소수)\n",
    "bool_data = False # 논리형(True,  False\n",
    "\n",
    "print(type(str_data), type(int_data), type(float_data), type(bool_data))"
   ]
  },
  {
   "cell_type": "code",
   "execution_count": 35,
   "id": "06e07e7e-7918-4291-ae55-a7dbdfc73a51",
   "metadata": {},
   "outputs": [
    {
     "name": "stdout",
     "output_type": "stream",
     "text": [
      "Mikehello\n"
     ]
    }
   ],
   "source": [
    "digit1 = 10\n",
    "digit2 = \"hello\"\n",
    "name = \"Mike\"\n",
    "\n",
    "print(name + digit2) # 동일한 자료형태(type)의 경우에만 연산처리 가능!!ex) 숫자와 문자는 연산처리 안됨"
   ]
  },
  {
   "cell_type": "code",
   "execution_count": 44,
   "id": "93a2eca7-4638-45c4-98aa-ee58f15145a7",
   "metadata": {},
   "outputs": [
    {
     "name": "stdout",
     "output_type": "stream",
     "text": [
      "False\n",
      "True\n",
      "True\n",
      "False\n",
      "False\n",
      "True\n"
     ]
    }
   ],
   "source": [
    "num1 = 2\n",
    "num2 = 4\n",
    "\n",
    "print( num1 > num2)\n",
    "print( num1 < num2)\n",
    "print( num1 <= num2)\n",
    "print( num1 >= num2)\n",
    "print( num1 == num2) # 등치 = 등호 하나는 코딩에서는 값을 대입하는용도\n",
    "print( num1 != num2) # 부정 ! => not"
   ]
  },
  {
   "cell_type": "code",
   "execution_count": 45,
   "id": "98de3ea4-e349-4def-8b23-4e8ddcfa3843",
   "metadata": {},
   "outputs": [],
   "source": [
    "age = 24\n",
    "name = \"Mike\"\n",
    "height = 184\n",
    "weight = 86\n",
    "footSize = 270\n",
    "glass = False\n",
    "marrige = True\n",
    "gender = \"male\"\n",
    "hobby = \"swimming\""
   ]
  },
  {
   "cell_type": "code",
   "execution_count": 3,
   "id": "bea75ab1-8d80-4c67-9b8e-f08c76768704",
   "metadata": {},
   "outputs": [
    {
     "name": "stdout",
     "output_type": "stream",
     "text": [
      "반지름이 10인 원의 지름, 둘레, 넓이를 5분안에 구하시오.\n",
      "\n",
      "1. 원의 반지름 : 10\n",
      "2. 원의 지름 : 20\n",
      "3. 원의 둘레 : 62.83\n",
      "4. 원의 넓이 : 314.16\n"
     ]
    }
   ],
   "source": [
    "### 반지름이 10인 변수를 선언하시고, 해당 반지름을 기준으로 하는 원의 지름, 둘레(2*파이*R), 넓이(파이*R^2) 값을 변수로 선언 및 할당 =>\n",
    "\n",
    "from math import pi\n",
    "\n",
    "r = 10\n",
    "d = 2 * r\n",
    "b = 2 * pi * r\n",
    "c = pi * r ** 2\n",
    "\n",
    "print(\"반지름이 10인 원의 지름, 둘레, 넓이를 5분안에 구하시오.\")\n",
    "print()\n",
    "print(f\"1. 원의 반지름 : {r}\")\n",
    "print(f\"2. 원의 지름 : {d}\")\n",
    "print(f\"3. 원의 둘레 : {b:.2f}\")\n",
    "print(f\"4. 원의 넓이 : {c:.2f}\")"
   ]
  },
  {
   "cell_type": "code",
   "execution_count": null,
   "id": "6bf4b0d9-17ae-4499-94e3-58ca4a1eea07",
   "metadata": {},
   "outputs": [],
   "source": [
    "name = input(\"What is your name?\")\n",
    "hight = input(\"How tall are you?\")\n",
    "gender = input(\"man or woman?\")\n",
    "age = input(\"How old are you?\")\n",
    "\n",
    "print(type(age))\n",
    "\n",
    "print(f\"Hi {name} from {gender}, hight : {hight}, age : {age}\")"
   ]
  },
  {
   "cell_type": "code",
   "execution_count": 1,
   "id": "4d04af77-49ef-4fef-ae13-70c8a54924c6",
   "metadata": {},
   "outputs": [
    {
     "name": "stdin",
     "output_type": "stream",
     "text": [
      " 123\n",
      " 123\n"
     ]
    },
    {
     "name": "stdout",
     "output_type": "stream",
     "text": [
      "15129\n"
     ]
    }
   ],
   "source": [
    "num1 = int(input())  ##형변환 => 자료의 형태를 변환시킨다.\n",
    "num2 = int(input())\n",
    "\n",
    "\n",
    "print(num1 * num2)"
   ]
  },
  {
   "cell_type": "code",
   "execution_count": 2,
   "id": "8a34fa86-04d9-465d-8aa1-b237f08cc7b9",
   "metadata": {},
   "outputs": [
    {
     "name": "stdout",
     "output_type": "stream",
     "text": [
      "오늘의 수업 내용에 대한 간단한 퀴즈입니다. 맞춰보세요\n"
     ]
    },
    {
     "name": "stdin",
     "output_type": "stream",
     "text": [
      "비교연산 중 같거나 작다를 해당하는 연산자를 입력하시오 123\n",
      "다음과 같은 내용의 표기법은 어떤 표기법일까요? helloWorld 123\n",
      "출력함수의 입력 형식을 기술하시오 123\n"
     ]
    }
   ],
   "source": [
    "print(\"오늘의 수업 내용에 대한 간단한 퀴즈입니다. 맞춰보세요\")\n",
    "\n",
    "input(\"비교연산 중 같거나 작다를 해당하는 연산자를 입력하시오\")\n",
    "camel = input(\"다음과 같은 내용의 표기법은 어떤 표기법일까요? helloWorld\")\n",
    "print = input(\"출력함수의 입력 형식을 기술하시오\")"
   ]
  },
  {
   "cell_type": "code",
   "execution_count": 1,
   "id": "7ae97d2d-3cd3-46f7-aa61-4085bbb6534d",
   "metadata": {},
   "outputs": [
    {
     "name": "stdout",
     "output_type": "stream",
     "text": [
      "6.3\n",
      "6\n",
      "1\n",
      "<class 'int'>\n",
      "<class 'str'>\n"
     ]
    }
   ],
   "source": [
    "num3 = 6.3\n",
    "num4 = 1\n",
    "\n",
    "print(num3)\n",
    "print(int(num3))\n",
    "\n",
    "print(num4)\n",
    "print(type(num4))\n",
    "\n",
    "num5 = str(num4)\n",
    "print(type(num5))"
   ]
  }
 ],
 "metadata": {
  "kernelspec": {
   "display_name": "Python [conda env:base] *",
   "language": "python",
   "name": "conda-base-py"
  },
  "language_info": {
   "codemirror_mode": {
    "name": "ipython",
    "version": 3
   },
   "file_extension": ".py",
   "mimetype": "text/x-python",
   "name": "python",
   "nbconvert_exporter": "python",
   "pygments_lexer": "ipython3",
   "version": "3.13.5"
  }
 },
 "nbformat": 4,
 "nbformat_minor": 5
}
