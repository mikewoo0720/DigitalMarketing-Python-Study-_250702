{
 "cells": [
  {
   "cell_type": "markdown",
   "id": "ff34a511-c2c0-4edc-8c4c-bf96d5904b3b",
   "metadata": {},
   "source": [
    "#### 파이썬 Basic 크롤링 문법\n",
    "1. requests #기본중의 기본\n",
    "2. bs4(beautiful soup4) #기본중의 기본"
   ]
  },
  {
   "cell_type": "code",
   "execution_count": 14,
   "id": "06f5ce5a-67ae-431a-9b62-aebf14cc023c",
   "metadata": {},
   "outputs": [
    {
     "name": "stdout",
     "output_type": "stream",
     "text": [
      "<class 'bs4.element.Tag'>\n",
      "잔금대출에도 DTI 규제 적용 검토\n"
     ]
    }
   ],
   "source": [
    "import requests#requests라는 라이브러리를 호출했다.\n",
    "from bs4 import BeautifulSoup#bs4라는 라이브러리에서 BeautifulSoup라는 메서드함수를 호출했다.\n",
    "\n",
    "res = requests.get(\"https://v.daum.net/v/20170615203441266\")\n",
    "#print(res.content)#content는 우리가 보고있는 웹의 html을 찾아온다.html은 코딩된 내용 그대로\n",
    "\n",
    "soup = BeautifulSoup(res.content, \"html.parser\") #content 그대로 찾아오면 정보를 찾기 힘드니 파싱을 통해 보자(파싱하는 법은 문법임 기억하자)\n",
    "\n",
    "mydata = soup.find(\"title\")\n",
    "print(type(mydata))\n",
    "print(mydata.get_text())"
   ]
  },
  {
   "cell_type": "code",
   "execution_count": null,
   "id": "26d24f61-5429-437c-ad8f-62cbaa7210f8",
   "metadata": {},
   "outputs": [],
   "source": []
  }
 ],
 "metadata": {
  "kernelspec": {
   "display_name": "Python [conda env:base] *",
   "language": "python",
   "name": "conda-base-py"
  },
  "language_info": {
   "codemirror_mode": {
    "name": "ipython",
    "version": 3
   },
   "file_extension": ".py",
   "mimetype": "text/x-python",
   "name": "python",
   "nbconvert_exporter": "python",
   "pygments_lexer": "ipython3",
   "version": "3.13.5"
  }
 },
 "nbformat": 4,
 "nbformat_minor": 5
}
