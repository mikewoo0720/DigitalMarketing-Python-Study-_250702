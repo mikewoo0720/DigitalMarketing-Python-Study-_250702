{
 "cells": [
  {
   "cell_type": "markdown",
   "id": "e2f9610a-b382-45aa-8a41-42192d0f69f1",
   "metadata": {},
   "source": [
    "#### 파이썬 크롤링\n",
    "1. 크롤링을 하는 수많은 프로그래밍 언어와 툴이 존재하는데 왜 파이썬?\n",
    "   - 파이썬은 라이브러리의 천국이다\n",
    "   - 라이브러리 => 도서관 => 특정 분야에 대한 전문지식을 습득하기 위해서 해당 책을 빌려보거나 서재에서 가져다가 참고!\n",
    "   - 크롤링을 하려고 하는데, a to z까지 직접 크롤링을 위한 코드를 작성한다면 시간, 효율이 매우 떨어짐\n",
    "   - 파이썬은 미리 크롤링 할 수 있도록 도와줄 수 있는 일종의 참고서적을 만들어 놓음 (*참고서적 => 라이브러리)\n",
    "   - 특정 라이브러리를 가져와서 사용하려면 import 라는 예약어(*명령어)를 사용!!\n",
    "   - 만약에 해당 라이브러리가 파이썬에 내장되어있는 라이브러리가 아니라고 한다면 반드시 사전에 설치가 필요!!\n",
    "     - !pip = (python install package) #전역에 설치하고자 하는 !활용\n",
    "     - !pip install 설치하고 싶은 라이브러리명 ex. pandas"
   ]
  },
  {
   "cell_type": "code",
   "execution_count": 5,
   "id": "009e8080-7b44-48db-a88f-d0b66795ab95",
   "metadata": {},
   "outputs": [],
   "source": [
    "import pandas"
   ]
  },
  {
   "cell_type": "code",
   "execution_count": 22,
   "id": "ae1a30fc-5a43-4fab-b907-be5a4943f4e4",
   "metadata": {},
   "outputs": [
    {
     "name": "stdout",
     "output_type": "stream",
     "text": [
      "<class 'module'>\n"
     ]
    }
   ],
   "source": [
    "#import statistics\n",
    "#from statistics import mean, stdev #statistics에서 내가 사용하고자 하는 메서드함수(mean, stdev)만 호출해오기\n",
    "#from statistics import * #*(에스테릭)을 활용해서 한번에 모든 메서드를 호출할 수도 있다\n",
    "#from statistics as s #statistics -> s라는 별칭으로 선언하고 싶다. alias(as) = 별칭\n",
    "from statistics import mean as m#statistics에서 mean을 찾아오는데 m이라는 별칭(alias)으로 호출해오고 싶다.\n",
    "\n",
    "data = [1, 2, 3, 4]\n",
    "\n",
    "\n",
    "#print(s.mean(data))#statistics를 매번 선언해줄 필요가 없다.\n",
    "#print(s.stdev(data))\n",
    "# print(statistics.mean(data))\n",
    "# print(statistics.stdev(data))\n",
    "\n",
    "print(type(statistics))"
   ]
  }
 ],
 "metadata": {
  "kernelspec": {
   "display_name": "Python [conda env:base] *",
   "language": "python",
   "name": "conda-base-py"
  },
  "language_info": {
   "codemirror_mode": {
    "name": "ipython",
    "version": 3
   },
   "file_extension": ".py",
   "mimetype": "text/x-python",
   "name": "python",
   "nbconvert_exporter": "python",
   "pygments_lexer": "ipython3",
   "version": "3.13.5"
  }
 },
 "nbformat": 4,
 "nbformat_minor": 5
}
