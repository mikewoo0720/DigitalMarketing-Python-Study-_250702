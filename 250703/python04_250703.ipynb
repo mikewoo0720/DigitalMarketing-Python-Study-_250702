{
 "cells": [
  {
   "cell_type": "markdown",
   "id": "20bcd760-28c6-4b3e-872c-3b5dd5945aa0",
   "metadata": {},
   "source": [
    "#### 자료구조 형태\n",
    "- 숫자, 문자, 불리언(int, str, bool)\n",
    "- 리스트 (list)\n",
    "- 튜플(Tuple)\n",
    "  - 리스트와 달리 튜플은 소괄호 형태를 띄고 있음\n",
    "  - 튜플은 최초 생성 후 값을 삭제, 추가할 수 없음\n",
    "  - 단, 튜플 간 병합기능 혹은 튜플 자체의 복제 등은 가능함\n",
    "  - 튜플은 리스트처럼 이터러블한 객체 속성을 가지고 있음 => 반복문을 사용할 수 있음&&튜플 내부 아이템들은 각각 저마다의 고유한 인덱스값을 가지고 있다는 의미이기도 함!\n",
    "  - 함수의 반환값으로 찾아온 값을 활용해서 일반 변수 안에 값을 넣을 때, 구조분해할당의 형식으로 값을 전달할 수 있음!!!\n",
    "  - 튜플을 수정, 편집, 삭제를 하고 싶다면 => 리스트로 바꿔주세요!!! => list(튜플자료형) => 리스트가 됨!!!"
   ]
  },
  {
   "cell_type": "code",
   "execution_count": 2,
   "id": "f5108efc-2aed-4fb0-82bd-ec48419b1a55",
   "metadata": {},
   "outputs": [
    {
     "name": "stdout",
     "output_type": "stream",
     "text": [
      "<class 'list'>\n",
      "<class 'tuple'>\n"
     ]
    }
   ],
   "source": [
    "listItems = []\n",
    "tupleItems = (1, 2, 3)\n",
    "\n",
    "print(type(listItems))\n",
    "print(type(tupleItems))"
   ]
  },
  {
   "cell_type": "code",
   "execution_count": 3,
   "id": "8ffbd8eb-2031-4270-8cd5-57369092ee00",
   "metadata": {},
   "outputs": [
    {
     "name": "stdout",
     "output_type": "stream",
     "text": [
      "1\n",
      "2\n",
      "3\n"
     ]
    }
   ],
   "source": [
    "for item in tupleItems :\n",
    "    print(item)"
   ]
  },
  {
   "cell_type": "code",
   "execution_count": 10,
   "id": "8392c3f7-3347-4d92-96ca-122874d6d51e",
   "metadata": {},
   "outputs": [
    {
     "name": "stdout",
     "output_type": "stream",
     "text": [
      "(1, 2, 3, 4)\n",
      "(1, 2, 3, 4, 1, 2, 3, 4, 1, 2, 3, 4)\n",
      "[1, 2, 3, 1, 2, 3, 1, 2, 3]\n"
     ]
    }
   ],
   "source": [
    "# del tupleItems[1]\n",
    "# tupleItems.append(4)\n",
    "# tupleItems[4] = 4\n",
    "list01 = [1, 2, 3]\n",
    "\n",
    "tuple01 = (1, 2)\n",
    "tuple02 = (3, 4)\n",
    "\n",
    "tuple03 = tuple01 + tuple02#튜플끼리만 형태합치기 가능\n",
    "print(tuple03)\n",
    "print(tuple03 * 3)#속성값은 때려죽여도 계산되지는 않는다\n",
    "print(list01 * 3)"
   ]
  },
  {
   "cell_type": "code",
   "execution_count": 18,
   "id": "eba20787-e735-4edd-92ae-b5669f948f5f",
   "metadata": {},
   "outputs": [],
   "source": [
    "x = 1\n",
    "y = 2"
   ]
  },
  {
   "cell_type": "code",
   "execution_count": 13,
   "id": "b7eea0a0-dd9e-47ea-b945-c1a9c2f09431",
   "metadata": {},
   "outputs": [],
   "source": [
    "#temp = x\n",
    "#x = y\n",
    "#y = temp"
   ]
  },
  {
   "cell_type": "code",
   "execution_count": 20,
   "id": "059c9bf1-0e1a-46a4-afad-e062d6d9be01",
   "metadata": {},
   "outputs": [],
   "source": [
    "(x, y) = (y, x)"
   ]
  },
  {
   "cell_type": "code",
   "execution_count": 29,
   "id": "3e48f7c6-af8f-4fa0-8425-7278239204a7",
   "metadata": {},
   "outputs": [
    {
     "data": {
      "text/plain": [
       "(2, 1)"
      ]
     },
     "execution_count": 29,
     "metadata": {},
     "output_type": "execute_result"
    }
   ],
   "source": [
    "x, y"
   ]
  },
  {
   "cell_type": "code",
   "execution_count": 22,
   "id": "cbdc3912-7734-4ce6-b855-821bbdc4aef8",
   "metadata": {},
   "outputs": [],
   "source": [
    "def quot_and_rem(x, y) :\n",
    "    quot = x // y\n",
    "    rem = x % y\n",
    "    return quot, rem"
   ]
  },
  {
   "cell_type": "code",
   "execution_count": 27,
   "id": "94caf414-fd0a-4582-ad07-a14820ea9026",
   "metadata": {},
   "outputs": [
    {
     "name": "stdout",
     "output_type": "stream",
     "text": [
      "(2, 3)\n"
     ]
    },
    {
     "data": {
      "text/plain": [
       "tuple"
      ]
     },
     "execution_count": 27,
     "metadata": {},
     "output_type": "execute_result"
    }
   ],
   "source": [
    "result = quot_and_rem(11, 4)\n",
    "print(result)\n",
    "type(result)"
   ]
  },
  {
   "cell_type": "code",
   "execution_count": 30,
   "id": "d574a994-1170-4c20-a030-032da1cbe72a",
   "metadata": {},
   "outputs": [],
   "source": [
    "(quot01, rem01) = quot_and_rem(10, 3)"
   ]
  },
  {
   "cell_type": "code",
   "execution_count": 34,
   "id": "894af952-0db1-45e1-bfe5-514f049bc96f",
   "metadata": {},
   "outputs": [
    {
     "data": {
      "text/plain": [
       "int"
      ]
     },
     "execution_count": 34,
     "metadata": {},
     "output_type": "execute_result"
    }
   ],
   "source": [
    "type(quot01)"
   ]
  },
  {
   "cell_type": "code",
   "execution_count": 33,
   "id": "f78a7d8f-da00-40f4-83a2-c8c400438df4",
   "metadata": {},
   "outputs": [
    {
     "data": {
      "text/plain": [
       "1"
      ]
     },
     "execution_count": 33,
     "metadata": {},
     "output_type": "execute_result"
    }
   ],
   "source": [
    "rem01"
   ]
  },
  {
   "cell_type": "code",
   "execution_count": 36,
   "id": "f7bda39e-54d4-485c-bf5f-46c0c4ffbb6c",
   "metadata": {},
   "outputs": [
    {
     "data": {
      "text/plain": [
       "tuple"
      ]
     },
     "execution_count": 36,
     "metadata": {},
     "output_type": "execute_result"
    }
   ],
   "source": [
    "data1 = (1, 2, 3)\n",
    "type(data1)"
   ]
  },
  {
   "cell_type": "code",
   "execution_count": 43,
   "id": "745fa078-d824-4e1c-afa2-aef2b9ffea06",
   "metadata": {},
   "outputs": [
    {
     "name": "stdout",
     "output_type": "stream",
     "text": [
      "<class 'tuple'>\n",
      "<class 'list'>\n",
      "[1, 2, 3]\n"
     ]
    }
   ],
   "source": [
    "data_list = list(data1)\n",
    "print(type(data1))\n",
    "print(type(data_list))\n",
    "print(data_list)"
   ]
  }
 ],
 "metadata": {
  "kernelspec": {
   "display_name": "Python [conda env:base] *",
   "language": "python",
   "name": "conda-base-py"
  },
  "language_info": {
   "codemirror_mode": {
    "name": "ipython",
    "version": 3
   },
   "file_extension": ".py",
   "mimetype": "text/x-python",
   "name": "python",
   "nbconvert_exporter": "python",
   "pygments_lexer": "ipython3",
   "version": "3.13.5"
  }
 },
 "nbformat": 4,
 "nbformat_minor": 5
}
