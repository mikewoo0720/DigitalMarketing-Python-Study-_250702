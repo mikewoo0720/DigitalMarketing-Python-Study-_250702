{
 "cells": [
  {
   "cell_type": "markdown",
   "id": "62a4025a-c028-498b-b83c-9da7d9d4ac35",
   "metadata": {},
   "source": [
    "#### 함수(function)\n",
    "\n",
    "- 함수는 선언 & 호출 개념(함수를 사용하기 위해서는 우선 선언을 하고 필요할때 호출 하는 개념으로 이루어져있다.)\n",
    "- 함수는 인자값 혹은 인수 개념이 있다\n",
    "- 함수를 선언하는 단계에서는 매개변수를 지정한다라고 부르고, 실제로 함수를 호출하는 단계에서는 이미 지정해놓은 매개변수의 공간에 입력할 값을 인자값\n",
    "- 매개변수를 지정했다면, 반드시 인자값이 필요하다!!\n",
    "- 매개변수와 인자값의 개수는 반드시 일치해야한다!!!\n",
    "  \n",
    "  ```\n",
    "  def 함수이름(매개변수 = 인자값 = 인수) :\n",
    "      실행문\n",
    "      return 반환하고자 하는 값 입력\n",
    "  ```"
   ]
  },
  {
   "cell_type": "code",
   "execution_count": 7,
   "id": "98065ea6-02c4-457e-bdeb-c9a213625ca5",
   "metadata": {},
   "outputs": [],
   "source": [
    "def func1() :#func1이라는 함수를 선언할 준비가 되었다.\n",
    "    print(\"Hello\")\n",
    "    print(\"Hello\")\n",
    "    print(\"Hello\")\n",
    "    print(\"Hello\")"
   ]
  },
  {
   "cell_type": "code",
   "execution_count": 8,
   "id": "133552a0-8867-40af-b792-ac9237d2d3af",
   "metadata": {},
   "outputs": [
    {
     "name": "stdout",
     "output_type": "stream",
     "text": [
      "Hello\n",
      "Hello\n",
      "Hello\n",
      "Hello\n"
     ]
    }
   ],
   "source": [
    "func1()#함수를 호출하면 바로 실행되는 것을 확인할 수 있다."
   ]
  },
  {
   "cell_type": "code",
   "execution_count": 20,
   "id": "94383b35-c371-460c-9032-b4e8bb876389",
   "metadata": {},
   "outputs": [],
   "source": [
    "def func2(parameter01, parameter02) :#매개변수와 인자값의 개수는 반드시 일치해야 함수가 실행 될 수 있다\n",
    "    #print(f\"Hello, {parameter01} {parameter02}\")\n",
    "    return f\"Hello, {parameter01} {parameter02}\"#return문의 종결을 의미한다. return문 이후 어떤 코드를 넣어도 의미 없음. 이미 다 반환 해버렸기 때문"
   ]
  },
  {
   "cell_type": "code",
   "execution_count": 23,
   "id": "a3a99907-4743-465f-a5da-f85dadb304d6",
   "metadata": {},
   "outputs": [
    {
     "data": {
      "text/plain": [
       "'Hello, 1 2'"
      ]
     },
     "execution_count": 23,
     "metadata": {},
     "output_type": "execute_result"
    }
   ],
   "source": [
    "result = func2(\"1\", \"2\")\n",
    "\n",
    "result"
   ]
  },
  {
   "cell_type": "code",
   "execution_count": 32,
   "id": "97102b84-81a7-4dd9-a672-24750b922abd",
   "metadata": {},
   "outputs": [],
   "source": [
    "def sum(a, b) :\n",
    "    c = 1 #지역변수 = local\n",
    "    result02 = a + b\n",
    "    return(result02)\n",
    "a = 1 #전역변수 = global"
   ]
  },
  {
   "cell_type": "code",
   "execution_count": 27,
   "id": "a0c10d3f-75c6-493a-801b-be9dc9114e27",
   "metadata": {},
   "outputs": [
    {
     "data": {
      "text/plain": [
       "4"
      ]
     },
     "execution_count": 27,
     "metadata": {},
     "output_type": "execute_result"
    }
   ],
   "source": [
    "sum(1, 3)"
   ]
  },
  {
   "cell_type": "code",
   "execution_count": 37,
   "id": "e66553d8-fb10-494f-bbcd-839d361f070c",
   "metadata": {},
   "outputs": [
    {
     "name": "stdout",
     "output_type": "stream",
     "text": [
      "1\n",
      "2\n",
      "3\n"
     ]
    }
   ],
   "source": [
    "for item in [1, 2, 3] :\n",
    "    print(item) #item => 블록변수 = block"
   ]
  },
  {
   "cell_type": "code",
   "execution_count": 38,
   "id": "ef1bd979-2ff0-4a67-8b14-59de002f95db",
   "metadata": {},
   "outputs": [],
   "source": [
    "def func7(a) :\n",
    "    b = a + 1\n",
    "    return a, b"
   ]
  },
  {
   "cell_type": "code",
   "execution_count": 40,
   "id": "af640fbc-7a77-4d79-83ac-5f1b6e161304",
   "metadata": {},
   "outputs": [
    {
     "name": "stdout",
     "output_type": "stream",
     "text": [
      "(4, 5)\n",
      "<class 'tuple'>\n"
     ]
    }
   ],
   "source": [
    "result07 = func7(4)\n",
    "print(result07)\n",
    "print(type(result07))\n",
    "#tuple : 값, 형태, 갯수 가 정해져있는 리스트(형태)타입 // 개인정보 ex)16자리 숫자의 리스트형태 // 안정적인 타입이다."
   ]
  },
  {
   "cell_type": "code",
   "execution_count": 42,
   "id": "7ef1a973-14a5-45a9-b48e-a568e4bf2b52",
   "metadata": {},
   "outputs": [
    {
     "name": "stdout",
     "output_type": "stream",
     "text": [
      "<class 'str'>\n",
      "<class 'int'>\n",
      "<class 'bool'>\n",
      "<class 'list'>\n"
     ]
    },
    {
     "data": {
      "text/plain": [
       "int"
      ]
     },
     "execution_count": 42,
     "metadata": {},
     "output_type": "execute_result"
    }
   ],
   "source": [
    "print(type(\"str\"))\n",
    "print(type(1))\n",
    "print(type(True))\n",
    "print(type([1, 2, 3]))\n",
    "type(1)"
   ]
  },
  {
   "cell_type": "code",
   "execution_count": 50,
   "id": "56e24b2f-5d9a-414f-9181-2df92473b8e0",
   "metadata": {},
   "outputs": [],
   "source": [
    "def id_check(id) :\n",
    "    if id == \"admin\" :\n",
    "        print(\"invalid id : admin\")\n",
    "        return\n",
    "    #else :\n",
    "    print(\"valid id : \", id)"
   ]
  },
  {
   "cell_type": "code",
   "execution_count": 55,
   "id": "715d67dd-7e6d-4ae7-90be-f0cfa05f99e6",
   "metadata": {},
   "outputs": [
    {
     "name": "stdin",
     "output_type": "stream",
     "text": [
      " ad\n"
     ]
    }
   ],
   "source": [
    "id_check(input())"
   ]
  }
 ],
 "metadata": {
  "kernelspec": {
   "display_name": "Python [conda env:base] *",
   "language": "python",
   "name": "conda-base-py"
  },
  "language_info": {
   "codemirror_mode": {
    "name": "ipython",
    "version": 3
   },
   "file_extension": ".py",
   "mimetype": "text/x-python",
   "name": "python",
   "nbconvert_exporter": "python",
   "pygments_lexer": "ipython3",
   "version": "3.13.5"
  }
 },
 "nbformat": 4,
 "nbformat_minor": 5
}
