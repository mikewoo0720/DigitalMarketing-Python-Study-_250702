{
 "cells": [
  {
   "cell_type": "markdown",
   "id": "77a0e32e-8461-4a4d-b25e-4b230c6cf18e",
   "metadata": {},
   "source": [
    "- 사용자로부터 점수를 입력받은 후 등급을 출력하세요.\n",
    "    - 등급은 (A : 100 ~ 81, B : 80 ~ 61, C : 60 ~ 0)"
   ]
  },
  {
   "cell_type": "code",
   "execution_count": 1,
   "id": "35db2215-7e40-4faf-a55a-19a76707c90f",
   "metadata": {},
   "outputs": [],
   "source": [
    "#사용자로 부터 입력받을 변수를 생성한다\n",
    "#생성한 변수를 가지고 if문을 선언하고 100~81 A\n",
    "#elif 80~61 B\n",
    "#else C or elif 60~0 C"
   ]
  },
  {
   "cell_type": "code",
   "execution_count": 10,
   "id": "9761291a-f716-4274-a129-bf16e3449a97",
   "metadata": {},
   "outputs": [
    {
     "name": "stdin",
     "output_type": "stream",
     "text": [
      "시험점수 45\n"
     ]
    },
    {
     "name": "stdout",
     "output_type": "stream",
     "text": [
      "등급은 C\n"
     ]
    }
   ],
   "source": [
    "score = int(input(\"시험점수\"))\n",
    "\n",
    "if score >= 81 and score <= 100 :\n",
    "    print(\"등급은 A\")\n",
    "elif score <= 80 and score >= 61 :\n",
    "    print(\"등급은 B\")\n",
    "elif score <= 60 :\n",
    "    print(\"등급은 C\")"
   ]
  },
  {
   "cell_type": "code",
   "execution_count": 14,
   "id": "315e77bf-57f8-4d0b-9c95-99387741e284",
   "metadata": {},
   "outputs": [
    {
     "name": "stdin",
     "output_type": "stream",
     "text": [
      "시험점수를 입력하세요. 89\n"
     ]
    },
    {
     "name": "stdout",
     "output_type": "stream",
     "text": [
      "당신의 등급은 A입니다.\n"
     ]
    }
   ],
   "source": [
    "test = int(input(\"시험점수를 입력하세요.\"))\n",
    "\n",
    "if test >= 81 and test <= 100 :\n",
    "    print(\"당신의 등급은 A입니다.\")\n",
    "\n",
    "elif test >= 61 :\n",
    "    print(\"당신의 등급은 B입니다.\")\n",
    "\n",
    "else :\n",
    "    print(\"당신의 등급은 C입니다.\")"
   ]
  },
  {
   "cell_type": "markdown",
   "id": "1d5fab5b-109a-4ae6-b797-1a4b568ea2ac",
   "metadata": {},
   "source": [
    "- 사용자로부터 주민등록번호를 입력받아서 출생연도만 확인 후 출력해주세요.\n",
    "    - 예) 800000 - 1234567 => 80년생 입니다!!!"
   ]
  },
  {
   "cell_type": "code",
   "execution_count": 11,
   "id": "f9a2450d-04b6-4c1e-b9dc-dea443b09330",
   "metadata": {},
   "outputs": [
    {
     "name": "stdin",
     "output_type": "stream",
     "text": [
      "주민번호 930720-1234567\n"
     ]
    },
    {
     "name": "stdout",
     "output_type": "stream",
     "text": [
      "당신은 93 년생입니다\n"
     ]
    }
   ],
   "source": [
    "#사용자로부터 출생연도를 입력받을 변수를 생성한다\n",
    "#입력받은 변수를 리스트 슬래쉬 기능을 이용해서 첫번째와 두번째 숫자를 출력한다.\n",
    "\n",
    "id_num = str(input(\"주민번호\"))\n",
    "\n",
    "print(\"당신은\", id_num[0:2], \"년생입니다\")"
   ]
  },
  {
   "cell_type": "code",
   "execution_count": 19,
   "id": "17a4d1de-411c-4485-ac4a-3e5e91612b0e",
   "metadata": {},
   "outputs": [
    {
     "name": "stdin",
     "output_type": "stream",
     "text": [
      "주민등록번호를 입력하세요 123455-123456\n"
     ]
    },
    {
     "name": "stdout",
     "output_type": "stream",
     "text": [
      "12 년생입니다\n"
     ]
    }
   ],
   "source": [
    "idn = str(input(\"주민등록번호를 입력하세요\"))\n",
    "\n",
    "print(idn[0:2], \"년생입니다\")\n",
    "\n",
    "# idn.sort()\n",
    "\n",
    "# print[0, 1]"
   ]
  },
  {
   "cell_type": "code",
   "execution_count": 2,
   "id": "9440c497-63f0-4085-b346-7c1ebfa14c04",
   "metadata": {},
   "outputs": [
    {
     "name": "stdin",
     "output_type": "stream",
     "text": [
      "주민등록번호를 입력하세요 (예: 123456-1234567):  930720-1072515\n"
     ]
    },
    {
     "name": "stdout",
     "output_type": "stream",
     "text": [
      "앞자리: 930720, 뒷자리: 1072515\n"
     ]
    }
   ],
   "source": [
    "jumin = input(\"주민등록번호를 입력하세요 (예: 123456-1234567): \")\n",
    "front, back = jumin.split(\"-\")\n",
    "print(f\"앞자리: {front}, 뒷자리: {back}\")"
   ]
  },
  {
   "cell_type": "code",
   "execution_count": 20,
   "id": "dbb59cff-fa56-4c14-8378-931da66b65af",
   "metadata": {},
   "outputs": [
    {
     "name": "stdin",
     "output_type": "stream",
     "text": [
      "주민등록번호를 입력하세요 123456\n"
     ]
    },
    {
     "name": "stdout",
     "output_type": "stream",
     "text": [
      "12 년생입니다\n"
     ]
    }
   ],
   "source": [
    "idn = str(input(\"주민등록번호를 입력하세요\"))\n",
    "age = idn[0:2]\n",
    "\n",
    "print(age, \"년생입니다\")"
   ]
  },
  {
   "cell_type": "code",
   "execution_count": 13,
   "id": "cade4083-b9b1-4465-af31-6790599674ac",
   "metadata": {},
   "outputs": [
    {
     "name": "stdin",
     "output_type": "stream",
     "text": [
      "주민번호 930720-111111\n"
     ]
    },
    {
     "name": "stdout",
     "output_type": "stream",
     "text": [
      "93 년생\n"
     ]
    }
   ],
   "source": [
    "a = input(\"주민번호\")\n",
    "\n",
    "age = a.split(\"-\")\n",
    "\n",
    "print(age[0][0:2], \"년생\")"
   ]
  },
  {
   "cell_type": "code",
   "execution_count": 26,
   "id": "8df3bb45-52bc-497f-afc5-ed759c4613aa",
   "metadata": {},
   "outputs": [
    {
     "name": "stdin",
     "output_type": "stream",
     "text": [
      "주민등록번호입력 12345-12345\n"
     ]
    },
    {
     "name": "stdout",
     "output_type": "stream",
     "text": [
      "12년생\n"
     ]
    }
   ],
   "source": [
    "idn = input(\"주민등록번호입력\")\n",
    "\n",
    "# age = idn.split(\"-\")\n",
    "# age01 = idn.split(\"-\")\n",
    "\n",
    "print(f\"{idn.split(\"-\") [0] [0:2]}년생\")"
   ]
  },
  {
   "cell_type": "markdown",
   "id": "5b88b26e-2eea-42d5-b6db-4a3bcacd81ab",
   "metadata": {},
   "source": [
    "- 사용자로부터 주민등록번호를 입력받아 성별을 \"남성\" 또는 \"여성\"으로 출력해주세요."
   ]
  },
  {
   "cell_type": "code",
   "execution_count": 47,
   "id": "8920b8bc-6a52-4595-b013-5ad9fa3b2083",
   "metadata": {},
   "outputs": [
    {
     "name": "stdin",
     "output_type": "stream",
     "text": [
      "주민등록번호를 입력하세요 12345-12345\n"
     ]
    },
    {
     "name": "stdout",
     "output_type": "stream",
     "text": [
      "남성\n"
     ]
    }
   ],
   "source": [
    "idn = input(\"주민등록번호를 입력하세요\")\n",
    "\n",
    "sex = idn.split(\"-\") [1][0]\n",
    "\n",
    "if sex == \"1\" :\n",
    "    print(\"남성\")\n",
    "    \n",
    "else :\n",
    "    print(\"여성\")"
   ]
  },
  {
   "cell_type": "code",
   "execution_count": 29,
   "id": "3492e869-6029-45bf-a294-6d2327940052",
   "metadata": {},
   "outputs": [
    {
     "data": {
      "text/plain": [
       "'a man goes into the room'"
      ]
     },
     "execution_count": 29,
     "metadata": {},
     "output_type": "execute_result"
    }
   ],
   "source": [
    "mystr = \"a man goes into the room...\"\n",
    "\n",
    "# result = mystr.strip(\".\")\n",
    "# print(result)\n",
    "\n",
    "mystr.strip(\".\")"
   ]
  },
  {
   "cell_type": "code",
   "execution_count": 48,
   "id": "35687b30-cca0-4714-aeca-c2fbd83b6163",
   "metadata": {},
   "outputs": [
    {
     "data": {
      "text/plain": [
       "'000770'"
      ]
     },
     "execution_count": 48,
     "metadata": {},
     "output_type": "execute_result"
    }
   ],
   "source": [
    "code = \"           000770\"\n",
    "code.strip()\n",
    "\n",
    "#strip() : 문자열 앞, 뒤 상관없이 공백이라고 판단되는 문자열(*공백, 개행, 탭 등등)을 모두 제거하는 역할을 하는 메서드 함수\n",
    "#t : tab n : 줄바꿈(newline)"
   ]
  },
  {
   "cell_type": "code",
   "execution_count": 50,
   "id": "7de9a119-b3ff-4a03-bb97-b562c3f12e0a",
   "metadata": {},
   "outputs": [
    {
     "name": "stdout",
     "output_type": "stream",
     "text": [
      "4\n",
      "0\n"
     ]
    }
   ],
   "source": [
    "python_desc = \"Installing Python is generally easy, and nowadays many Linux and UNIX distributions include a recent Python. Even some Windows computers (notably those from HP) now come with Python already installed. If you do need to install Python and aren't confident about the task you can find a few notes on the BeginnersGuide/Download wiki page, but installation is unremarkable on most platforms.\"\n",
    "print(python_desc.count(\"Python\"))\n",
    "print(python_desc.count(\"python\"))"
   ]
  },
  {
   "cell_type": "markdown",
   "id": "fd9626d1-54dd-40f9-93cb-2630fea48777",
   "metadata": {},
   "source": [
    "- 사용자로부터 note라는 문자열을 받았다고 가정하세요.\n",
    "- 그리고, 해당 문자열 안에 n이 들어가있는지 확인 후\n",
    "- n이 들어가 있으면 숫자 0을 출력하고,\n",
    "- 그렇지 않다면 -1을 출력하세요."
   ]
  },
  {
   "cell_type": "code",
   "execution_count": 56,
   "id": "18247c04-6dff-41ac-b6bd-c79a44a39e00",
   "metadata": {},
   "outputs": [
    {
     "name": "stdin",
     "output_type": "stream",
     "text": [
      "input text rrr\n"
     ]
    },
    {
     "data": {
      "text/plain": [
       "-1"
      ]
     },
     "execution_count": 56,
     "metadata": {},
     "output_type": "execute_result"
    }
   ],
   "source": [
    "text = input(\"input text\")\n",
    "\n",
    "var = text.find(\"a\")\n",
    "\n",
    "var\n",
    "\n",
    "#if var == 0 :\n",
    "#    print(0)\n",
    "#else :\n",
    "#    print(-1)\n",
    "\n",
    "#일반적으로 프로그래밍 언어는 true, false 값을 가지고 있는데\n",
    "#truethy, falsy => 참인듯한 값, 거짓인듯한 값\n",
    "#0, null, undefined => falsy\n",
    "#파이썬 => 0 => truethy, -1 => falsy"
   ]
  },
  {
   "cell_type": "markdown",
   "id": "1fdcb2b8-d9e8-4764-b0c0-01f3913ccdf5",
   "metadata": {},
   "source": [
    "- 사용자로부터 주민등록번호를 입력받은 후 사용자의 출생지가 어디인지 확인 후 출력해주세요.\n",
    "    - 주민등록번호 중 뒤에\n",
    "    - 8자리 중에서 첫번째 숫자가 성별을 의미하고,\n",
    "    - 두번째 숫자부터 세번째 숫자까지가 출생지를 의미하는 숫자(\"00~08 : 서울\", \"09~12 : 부산\")"
   ]
  },
  {
   "cell_type": "code",
   "execution_count": 69,
   "id": "2b114592-4b42-4774-9077-cb30570ed6ab",
   "metadata": {},
   "outputs": [
    {
     "name": "stdin",
     "output_type": "stream",
     "text": [
      "주민등록번호를 입력하세요 123456-312834\n"
     ]
    },
    {
     "name": "stdout",
     "output_type": "stream",
     "text": [
      "12\n",
      "부산\n"
     ]
    }
   ],
   "source": [
    "num1 = input(\"주민등록번호를 입력하세요\")\n",
    "\n",
    "num2 = num1.split(\"-\") [1][1:3]\n",
    "\n",
    "print(num2)\n",
    "\n",
    "if int(num2) < 9 :\n",
    "    print(\"서울\")\n",
    "elif int(num2) >= 9 and int(num2) <=12 :\n",
    "    print(\"부산\")"
   ]
  },
  {
   "cell_type": "code",
   "execution_count": 74,
   "id": "ff9b4df4-ef05-4b09-9d61-9aec010f7afb",
   "metadata": {},
   "outputs": [
    {
     "name": "stdout",
     "output_type": "stream",
     "text": [
      "부산 출생입니다.\n"
     ]
    }
   ],
   "source": [
    "#선생님 풀이\n",
    "#input으로 가져오기 귀찮으니 그냥 주민번호 하나 가져오자\n",
    "\n",
    "data = \"123456-312834\"\n",
    "\n",
    "location = int(data.split(\"-\") [1][1:3])\n",
    "\n",
    "if location >= 0 and location <= 8 :\n",
    "    print(\"서울 출생입니다.\")\n",
    "elif location >= 9 and location <= 12 :\n",
    "    print(\"부산 출생입니다.\")"
   ]
  }
 ],
 "metadata": {
  "kernelspec": {
   "display_name": "Python [conda env:base] *",
   "language": "python",
   "name": "conda-base-py"
  },
  "language_info": {
   "codemirror_mode": {
    "name": "ipython",
    "version": 3
   },
   "file_extension": ".py",
   "mimetype": "text/x-python",
   "name": "python",
   "nbconvert_exporter": "python",
   "pygments_lexer": "ipython3",
   "version": "3.13.5"
  }
 },
 "nbformat": 4,
 "nbformat_minor": 5
}
