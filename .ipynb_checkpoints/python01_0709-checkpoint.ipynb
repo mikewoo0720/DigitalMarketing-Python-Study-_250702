{
 "cells": [
  {
   "cell_type": "markdown",
   "id": "a2cb9639-a27e-4e97-84c5-ef2d11606640",
   "metadata": {},
   "source": [
    "#### 1. 절차지향 언어가 문제를 해결해가는 과정\n",
    "\n",
    "- ex. 냉장고에 코끼리(객체)를 넣는다.\n",
    "- 1. 냉장고 문을 연다 // open 냉장고\n",
    "  2. 코끼리를 냉장고에 넣는다 // insert 코끼리 into 냉장고\n",
    "  3. 냉장고 문을 닫는다 // close 냉장고"
   ]
  },
  {
   "cell_type": "markdown",
   "id": "c438d406-60dd-484e-b640-217a9ff5bc07",
   "metadata": {},
   "source": [
    "#### 2. 객체지향 언어가 문제를 해결해가는 과정\n",
    "- ex. 냉장고에 코끼리(객체)를 넣는다.\n",
    "- 1. 코끼리라는 동물의 정보를 수집해서 해당 동물에 대한 설계도(*코끼리는 냉장고의 문을 열수있고, 안으로 들어갈 수 있는 기능을 사전에 정의)를 만든다.\n",
    "  2. 이전 단계에서 만든 코끼리 설계도를 기반으로 코끼리1 이라는 객체를 하나 만든다.\n",
    "  3. 냉장고라는 사물의 정보를 수집해서 해당 사물에 대한 설계도(*만약 코끼리가 냉장고 안에 들어오면 문이 자동으로 닫혀지도록 하는 기능 사전에 정의)를 만든다.\n",
    "  4. 이전 단계에서 만든 냉장고 설계도를 기반으로 냉장고1 이라는 객체를 하나 만든다.\n",
    "  5. 코끼리1 이라는 객체안에 \"내장\"되어있는 기능을 호출해서 냉장고1 이라는 객체의 문을 열게 한다.\n",
    "  6. 코끼리1 이라는 객체안에 \"내장\"되어있는 기능을 호출해서 냉장고1 이라는 객체안으로 들어가게 한다.\n",
    "  7. 냉장고1 이라는 객체안에 \"내장\"되어있는 기능을 호출해서 냉장고1 이라는 객체의 문을 닫게 한다.\n",
    "\n",
    "- 함수를 선언 =>  매개변수 여부 결정 (*참조변수라는 이름으로도 부름) // 나중에 함수를 호출할 때, 인자값으로 어떤 값을 적용한다면, 해당 인자값을 매개변수는 참조를 해서 찾아오는 방식이기 때문에!!! 참조변수라는 이름으로 부르기도 함!!"
   ]
  },
  {
   "cell_type": "markdown",
   "id": "34e95aaa-e008-425b-96d3-60e680a0155b",
   "metadata": {},
   "source": [
    "#### 3. 객체지향 프로그래밍 언어 핵심 요소\n",
    "1. 어떤 사물 혹은 동물을 나타낼 수 있는 설계도를 객체지향언어에서 class라고 부름\n",
    "   - attribute (속성) : 코끼리의 다리는 4개 / 코끼리의 코는 1개 = 코는 손의 역할을 함\n",
    "   - method (기능 = 객체만의 기능을 구현할 수 있는 함수) : 코끼리가 냉장고를 보면 자신의 코로 문을 연다. / 코끼리가 자신의 코로 냉장고의 문을 연다면 그 안으로 들어감\n",
    "   - 만약 해당 객체가 사전에 설계도면에 정의가 되어있는 속성값과 기능을 구현하고 싶다면 이렇게 작성해라 => 객체.속성명 // 객체.메서드함수()\n",
    "     \n",
    "2. 어떤 사물 혹은 동물의 정보를 가지고 있는 설계도를 가지고 만들어진 객체(Object=객체)\n",
    "   - 객체명.속성 : 객체가 가지고 있는 어떤 정보들을 찾아올 수 있음\n",
    "   - 객체명.메서드함수() : 객체가 가지고 있는 고유한 메서드함수를 실행하겠다는 의미"
   ]
  },
  {
   "cell_type": "markdown",
   "id": "dec6fbc1-3d46-4b80-a876-5889a54696eb",
   "metadata": {},
   "source": [
    "#### 4. class를 활용한 객체생성 문법\n",
    "\n",
    "1. 클래스 정의 : class Student -> Student라는 클래스를 정의하겠다는 의미!\n",
    "2. 클래스 안에 속성과 \"메서드함수\"를 정의하려면, \"생성자 함수 = 초기화 함수\"를 만들어야 함!\n",
    "   - _init_ : 클래스를 통해서 객체가 생성될 때 자동으로 호출되는 특별한 함수\n",
    "   - self : _init_ 이라는 특별한 함수를 선언할 때, 반드시 첫번째 매개변수로 작성해야 함! => 자기자신 => class를 통해서 생성되어질 객체 그 당사자\n",
    "   - ex.\n",
    "   - _init_(self, name, grade) => 클래스를 활용해서 최초에 객체를 생성할 때, name 속성값과 grade 속성값을 받아 객체본인의 속성으로 정의한다는 의미를 내포하고 있다.\n",
    "   - 클래스 안에서 생성자 함수를 사용하는 ex.\n",
    "   - ex.\n",
    "   - def _init_(self, name, grade) :\n",
    "         self.name = name                   //self.name => 클래스 안에 있는 하나의 변수로서 인식\n",
    "         self.grade = grade\n",
    "   - 생성자 함수를 선언한 이후에 메서드함수를 선언!! => 개발자가 원하는 직관적인 이름으로 메서드 함수명을 선언\n",
    "   - ex.\n",
    "   - def study(self):\n",
    "         print(f\"{self.name}가 공부를 열심히 합니다.\")\n",
    "   - 클래스를 통해서 새롭게 탄생한 객체 ex. 객체.study(공유) => 공유가 공부를 열심히 합니다. 라는 구문이 출력됨!!!"
   ]
  },
  {
   "cell_type": "code",
   "execution_count": 3,
   "id": "25dcbbdf-480c-4b8c-bacf-220286c7b22f",
   "metadata": {},
   "outputs": [
    {
     "name": "stdout",
     "output_type": "stream",
     "text": [
      "<class 'tuple'>\n"
     ]
    }
   ],
   "source": [
    "# 함수선언부\n",
    "def print_string(data) :\n",
    "    print(data) #print 라는 구문을 실행하는데 인자값인 data라는 변수가 선언된적이 없다.\n",
    "\n",
    "#함수호출\n",
    "a = (1, 2, 3)\n",
    "print_string(type(a))"
   ]
  },
  {
   "cell_type": "code",
   "execution_count": 7,
   "id": "3f5807df-a7e4-42d3-8f4e-a58dbe05b044",
   "metadata": {},
   "outputs": [
    {
     "name": "stdout",
     "output_type": "stream",
     "text": [
      "['Fun ', 'oding']\n",
      "<class 'list'>\n",
      "['Fun ', 'oding']\n",
      "<class 'list'>\n",
      "<class 'str'>\n"
     ]
    }
   ],
   "source": [
    "string = \"Fun Coding\"#string => 문자열 객체\n",
    "print(string.split(\"C\"))#문자열 객체에서만 사용할 수 있는 메서드 함수 split을 사용해서 list형식의 자료구조로 출력\n",
    "print(type(string.split(\"C\")))#split() => 파이썬 언어에 내장 되어있었기 때문에, 개발자가 해당 함수를 선언한 적도 없는데, 사용가능!\n",
    "\n",
    "#내장 => 누군가(*파이썬이라는 언어를 창시한 개발자)가 파이썬이라는 언어 안에 사전에 만들어놓았다는 의미\n",
    "#그렇다면 이 창시자는 어떻게? 어떤 방법으로? 파이썬이라는 언어에 split()함수를 내장시킬 수 있었을까? => class 와 객체ring = \"Fun Coding\"#string => 문자열 객체\n",
    "print(string.split(\"C\"))#문자열 객체에서만 사용할 수 있는 메서드 함수 split을 사용해서 list형식의 자료구조로 출력\n",
    "print(type(string.split(\"C\")))#split() => 파이썬 언어에 내장 되어있었기 때문에, 개발자가 해당 함수를 선언한 적도 없는데, 사용가능!\n",
    "print(type(string))\n",
    "\n",
    "#내장 => 누군가(*파이썬이라는 언어를 창시한 개발자)가 파이썬이라는 언어 안에 사전에 만들어놓았다는 의미\n",
    "#그렇다면 이 창시자는 어떻게? 어떤 방법으로? 파이썬이라는 언어에 split()함수를 내장시킬 수 있었을까? => class 와 객체 에 대한 개념\n",
    "#그렇다면 굳이 창시자가 어떻게, 어떤 방식으로 내장 함수를 만들어 놓았는지 우리가 알 필요가 있을까? ----> Of Course YES!!!!!!\n",
    "#창시자가 만들어 놓은 파이썬 언어를 사용하다보면 일반적인 개발자들도 복잡하고 반복적으로 실행되어야하는 어떤 기능을 딱 한 번 정의해 놓고, 필요할 때마다 효율적으로 커스텀 편집을 해가면서 편리하게 기능을 구연해야하는 경우가 존재!!!"
   ]
  },
  {
   "cell_type": "code",
   "execution_count": 17,
   "id": "b7345c6d-1a57-4364-b663-7c1f1f6988b3",
   "metadata": {},
   "outputs": [],
   "source": [
    "class Student :\n",
    "    def __init__(self, name, grade) :\n",
    "        self.name = name\n",
    "        self.grade = grade\n",
    "    def study(self) :\n",
    "        print(f\"{self.name}(이)가 공부를 잘합니다\")\n",
    "\n",
    "    def take_exam(self) :\n",
    "        print(f\"{self.name}(이)가 {self.grade}학년 시험을 봅니다.\")"
   ]
  },
  {
   "cell_type": "code",
   "execution_count": 18,
   "id": "05f0adbb-f309-4de6-a11f-ffe1e40b749e",
   "metadata": {},
   "outputs": [
    {
     "name": "stdout",
     "output_type": "stream",
     "text": [
      "Mike\n",
      "3\n",
      "Mike(이)가 공부를 잘합니다\n",
      "Mike(이)가 3학년 시험을 봅니다.\n"
     ]
    }
   ],
   "source": [
    "student = Student(\"Mike\", 3)\n",
    "print(student.name)\n",
    "print(student.grade)\n",
    "\n",
    "student.study()\n",
    "student.take_exam()"
   ]
  },
  {
   "cell_type": "code",
   "execution_count": null,
   "id": "d96c9b8f-8b14-4c0e-a823-d8286e29a4b9",
   "metadata": {},
   "outputs": [],
   "source": []
  }
 ],
 "metadata": {
  "kernelspec": {
   "display_name": "Python [conda env:base] *",
   "language": "python",
   "name": "conda-base-py"
  },
  "language_info": {
   "codemirror_mode": {
    "name": "ipython",
    "version": 3
   },
   "file_extension": ".py",
   "mimetype": "text/x-python",
   "name": "python",
   "nbconvert_exporter": "python",
   "pygments_lexer": "ipython3",
   "version": "3.13.5"
  }
 },
 "nbformat": 4,
 "nbformat_minor": 5
}
